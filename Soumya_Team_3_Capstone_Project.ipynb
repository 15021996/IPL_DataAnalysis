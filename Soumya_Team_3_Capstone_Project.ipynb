{
  "nbformat": 4,
  "nbformat_minor": 0,
  "metadata": {
    "kernelspec": {
      "display_name": "Python 3",
      "language": "python",
      "name": "python3"
    },
    "language_info": {
      "codemirror_mode": {
        "name": "ipython",
        "version": 3
      },
      "file_extension": ".py",
      "mimetype": "text/x-python",
      "name": "python",
      "nbconvert_exporter": "python",
      "pygments_lexer": "ipython3",
      "version": "3.6.6"
    },
    "colab": {
      "name": "Soumya-Team 3 - Capstone Project.ipynb",
      "provenance": [],
      "include_colab_link": true
    }
  },
  "cells": [
    {
      "cell_type": "markdown",
      "metadata": {
        "id": "view-in-github",
        "colab_type": "text"
      },
      "source": [
        "<a href=\"https://colab.research.google.com/github/15021996/IPL_DataAnalysis/blob/main/Soumya_Team_3_Capstone_Project.ipynb\" target=\"_parent\"><img src=\"https://colab.research.google.com/assets/colab-badge.svg\" alt=\"Open In Colab\"/></a>"
      ]
    },
    {
      "cell_type": "markdown",
      "metadata": {
        "id": "Y06xIdG26kRF"
      },
      "source": [
        "## <b> Indian Premier League(IPL) is a professional Twenty20 cricket league in India contested during March or April and May of every year by eight teams representing eight different cities in India. The league was founded by the Board of Control for Cricket in India(BCCI) in 2008. </b>\n",
        "\n",
        "## <b> Explore and analyze the data to discover results and statistics for different teams playing in IPL. </b>"
      ]
    },
    {
      "cell_type": "code",
      "metadata": {
        "id": "dByMsuzT8Tnw"
      },
      "source": [
        "#Import package\n",
        "import pandas as pd\n",
        "import numpy as np\n",
        "import seaborn as sns"
      ],
      "execution_count": 2,
      "outputs": []
    },
    {
      "cell_type": "code",
      "metadata": {
        "id": "CYTH6eXy1JLR",
        "outputId": "76da44fc-9733-4047-e7bf-0e5ab65fca8a",
        "colab": {
          "base_uri": "https://localhost:8080/"
        }
      },
      "source": [
        "from google.colab import drive\n",
        "drive.mount('/content/drive')"
      ],
      "execution_count": 3,
      "outputs": [
        {
          "output_type": "stream",
          "text": [
            "Mounted at /content/drive\n"
          ],
          "name": "stdout"
        }
      ]
    },
    {
      "cell_type": "code",
      "metadata": {
        "id": "msjDmbSz2Bxt"
      },
      "source": [
        "working_directory = '/content/drive/My Drive/AlmaBetter/CohortAravali/Cohort Aravali/Module 2/Capstone-1/'\n",
        "matches_df = pd.read_csv(working_directory + 'matches.csv')"
      ],
      "execution_count": 4,
      "outputs": []
    },
    {
      "cell_type": "code",
      "metadata": {
        "id": "E24GyQukCz4i",
        "outputId": "8509c037-98c9-4ffa-c53d-060fd8000e81",
        "colab": {
          "base_uri": "https://localhost:8080/",
          "height": 447
        }
      },
      "source": [
        "matches_df.head()"
      ],
      "execution_count": 5,
      "outputs": [
        {
          "output_type": "execute_result",
          "data": {
            "text/html": [
              "<div>\n",
              "<style scoped>\n",
              "    .dataframe tbody tr th:only-of-type {\n",
              "        vertical-align: middle;\n",
              "    }\n",
              "\n",
              "    .dataframe tbody tr th {\n",
              "        vertical-align: top;\n",
              "    }\n",
              "\n",
              "    .dataframe thead th {\n",
              "        text-align: right;\n",
              "    }\n",
              "</style>\n",
              "<table border=\"1\" class=\"dataframe\">\n",
              "  <thead>\n",
              "    <tr style=\"text-align: right;\">\n",
              "      <th></th>\n",
              "      <th>id</th>\n",
              "      <th>Season</th>\n",
              "      <th>city</th>\n",
              "      <th>date</th>\n",
              "      <th>team1</th>\n",
              "      <th>team2</th>\n",
              "      <th>toss_winner</th>\n",
              "      <th>toss_decision</th>\n",
              "      <th>result</th>\n",
              "      <th>dl_applied</th>\n",
              "      <th>winner</th>\n",
              "      <th>win_by_runs</th>\n",
              "      <th>win_by_wickets</th>\n",
              "      <th>player_of_match</th>\n",
              "      <th>venue</th>\n",
              "      <th>umpire1</th>\n",
              "      <th>umpire2</th>\n",
              "      <th>umpire3</th>\n",
              "    </tr>\n",
              "  </thead>\n",
              "  <tbody>\n",
              "    <tr>\n",
              "      <th>0</th>\n",
              "      <td>1</td>\n",
              "      <td>IPL-2017</td>\n",
              "      <td>Hyderabad</td>\n",
              "      <td>05-04-2017</td>\n",
              "      <td>Sunrisers Hyderabad</td>\n",
              "      <td>Royal Challengers Bangalore</td>\n",
              "      <td>Royal Challengers Bangalore</td>\n",
              "      <td>field</td>\n",
              "      <td>normal</td>\n",
              "      <td>0</td>\n",
              "      <td>Sunrisers Hyderabad</td>\n",
              "      <td>35</td>\n",
              "      <td>0</td>\n",
              "      <td>Yuvraj Singh</td>\n",
              "      <td>Rajiv Gandhi International Stadium, Uppal</td>\n",
              "      <td>AY Dandekar</td>\n",
              "      <td>NJ Llong</td>\n",
              "      <td>NaN</td>\n",
              "    </tr>\n",
              "    <tr>\n",
              "      <th>1</th>\n",
              "      <td>2</td>\n",
              "      <td>IPL-2017</td>\n",
              "      <td>Pune</td>\n",
              "      <td>06-04-2017</td>\n",
              "      <td>Mumbai Indians</td>\n",
              "      <td>Rising Pune Supergiant</td>\n",
              "      <td>Rising Pune Supergiant</td>\n",
              "      <td>field</td>\n",
              "      <td>normal</td>\n",
              "      <td>0</td>\n",
              "      <td>Rising Pune Supergiant</td>\n",
              "      <td>0</td>\n",
              "      <td>7</td>\n",
              "      <td>SPD Smith</td>\n",
              "      <td>Maharashtra Cricket Association Stadium</td>\n",
              "      <td>A Nand Kishore</td>\n",
              "      <td>S Ravi</td>\n",
              "      <td>NaN</td>\n",
              "    </tr>\n",
              "    <tr>\n",
              "      <th>2</th>\n",
              "      <td>3</td>\n",
              "      <td>IPL-2017</td>\n",
              "      <td>Rajkot</td>\n",
              "      <td>07-04-2017</td>\n",
              "      <td>Gujarat Lions</td>\n",
              "      <td>Kolkata Knight Riders</td>\n",
              "      <td>Kolkata Knight Riders</td>\n",
              "      <td>field</td>\n",
              "      <td>normal</td>\n",
              "      <td>0</td>\n",
              "      <td>Kolkata Knight Riders</td>\n",
              "      <td>0</td>\n",
              "      <td>10</td>\n",
              "      <td>CA Lynn</td>\n",
              "      <td>Saurashtra Cricket Association Stadium</td>\n",
              "      <td>Nitin Menon</td>\n",
              "      <td>CK Nandan</td>\n",
              "      <td>NaN</td>\n",
              "    </tr>\n",
              "    <tr>\n",
              "      <th>3</th>\n",
              "      <td>4</td>\n",
              "      <td>IPL-2017</td>\n",
              "      <td>Indore</td>\n",
              "      <td>08-04-2017</td>\n",
              "      <td>Rising Pune Supergiant</td>\n",
              "      <td>Kings XI Punjab</td>\n",
              "      <td>Kings XI Punjab</td>\n",
              "      <td>field</td>\n",
              "      <td>normal</td>\n",
              "      <td>0</td>\n",
              "      <td>Kings XI Punjab</td>\n",
              "      <td>0</td>\n",
              "      <td>6</td>\n",
              "      <td>GJ Maxwell</td>\n",
              "      <td>Holkar Cricket Stadium</td>\n",
              "      <td>AK Chaudhary</td>\n",
              "      <td>C Shamshuddin</td>\n",
              "      <td>NaN</td>\n",
              "    </tr>\n",
              "    <tr>\n",
              "      <th>4</th>\n",
              "      <td>5</td>\n",
              "      <td>IPL-2017</td>\n",
              "      <td>Bangalore</td>\n",
              "      <td>08-04-2017</td>\n",
              "      <td>Royal Challengers Bangalore</td>\n",
              "      <td>Delhi Daredevils</td>\n",
              "      <td>Royal Challengers Bangalore</td>\n",
              "      <td>bat</td>\n",
              "      <td>normal</td>\n",
              "      <td>0</td>\n",
              "      <td>Royal Challengers Bangalore</td>\n",
              "      <td>15</td>\n",
              "      <td>0</td>\n",
              "      <td>KM Jadhav</td>\n",
              "      <td>M Chinnaswamy Stadium</td>\n",
              "      <td>NaN</td>\n",
              "      <td>NaN</td>\n",
              "      <td>NaN</td>\n",
              "    </tr>\n",
              "  </tbody>\n",
              "</table>\n",
              "</div>"
            ],
            "text/plain": [
              "   id    Season       city  ...         umpire1        umpire2 umpire3\n",
              "0   1  IPL-2017  Hyderabad  ...     AY Dandekar       NJ Llong     NaN\n",
              "1   2  IPL-2017       Pune  ...  A Nand Kishore         S Ravi     NaN\n",
              "2   3  IPL-2017     Rajkot  ...     Nitin Menon      CK Nandan     NaN\n",
              "3   4  IPL-2017     Indore  ...    AK Chaudhary  C Shamshuddin     NaN\n",
              "4   5  IPL-2017  Bangalore  ...             NaN            NaN     NaN\n",
              "\n",
              "[5 rows x 18 columns]"
            ]
          },
          "metadata": {
            "tags": []
          },
          "execution_count": 5
        }
      ]
    },
    {
      "cell_type": "code",
      "metadata": {
        "id": "319wjaJyC_Z-",
        "outputId": "05d86c45-f49a-4459-a7e8-6e2cc442fd0b",
        "colab": {
          "base_uri": "https://localhost:8080/"
        }
      },
      "source": [
        "matches_df.info()"
      ],
      "execution_count": 6,
      "outputs": [
        {
          "output_type": "stream",
          "text": [
            "<class 'pandas.core.frame.DataFrame'>\n",
            "RangeIndex: 756 entries, 0 to 755\n",
            "Data columns (total 18 columns):\n",
            " #   Column           Non-Null Count  Dtype \n",
            "---  ------           --------------  ----- \n",
            " 0   id               756 non-null    int64 \n",
            " 1   Season           756 non-null    object\n",
            " 2   city             749 non-null    object\n",
            " 3   date             756 non-null    object\n",
            " 4   team1            756 non-null    object\n",
            " 5   team2            756 non-null    object\n",
            " 6   toss_winner      756 non-null    object\n",
            " 7   toss_decision    756 non-null    object\n",
            " 8   result           756 non-null    object\n",
            " 9   dl_applied       756 non-null    int64 \n",
            " 10  winner           752 non-null    object\n",
            " 11  win_by_runs      756 non-null    int64 \n",
            " 12  win_by_wickets   756 non-null    int64 \n",
            " 13  player_of_match  752 non-null    object\n",
            " 14  venue            756 non-null    object\n",
            " 15  umpire1          754 non-null    object\n",
            " 16  umpire2          754 non-null    object\n",
            " 17  umpire3          119 non-null    object\n",
            "dtypes: int64(4), object(14)\n",
            "memory usage: 106.4+ KB\n"
          ],
          "name": "stdout"
        }
      ]
    },
    {
      "cell_type": "code",
      "metadata": {
        "id": "Pk3xVTy5DNLK",
        "outputId": "b91aca91-1eca-4bb9-bd37-55f2b25a522a",
        "colab": {
          "base_uri": "https://localhost:8080/",
          "height": 294
        }
      },
      "source": [
        "matches_df.describe()"
      ],
      "execution_count": 7,
      "outputs": [
        {
          "output_type": "execute_result",
          "data": {
            "text/html": [
              "<div>\n",
              "<style scoped>\n",
              "    .dataframe tbody tr th:only-of-type {\n",
              "        vertical-align: middle;\n",
              "    }\n",
              "\n",
              "    .dataframe tbody tr th {\n",
              "        vertical-align: top;\n",
              "    }\n",
              "\n",
              "    .dataframe thead th {\n",
              "        text-align: right;\n",
              "    }\n",
              "</style>\n",
              "<table border=\"1\" class=\"dataframe\">\n",
              "  <thead>\n",
              "    <tr style=\"text-align: right;\">\n",
              "      <th></th>\n",
              "      <th>id</th>\n",
              "      <th>dl_applied</th>\n",
              "      <th>win_by_runs</th>\n",
              "      <th>win_by_wickets</th>\n",
              "    </tr>\n",
              "  </thead>\n",
              "  <tbody>\n",
              "    <tr>\n",
              "      <th>count</th>\n",
              "      <td>756.000000</td>\n",
              "      <td>756.000000</td>\n",
              "      <td>756.000000</td>\n",
              "      <td>756.000000</td>\n",
              "    </tr>\n",
              "    <tr>\n",
              "      <th>mean</th>\n",
              "      <td>1792.178571</td>\n",
              "      <td>0.025132</td>\n",
              "      <td>13.283069</td>\n",
              "      <td>3.350529</td>\n",
              "    </tr>\n",
              "    <tr>\n",
              "      <th>std</th>\n",
              "      <td>3464.478148</td>\n",
              "      <td>0.156630</td>\n",
              "      <td>23.471144</td>\n",
              "      <td>3.387963</td>\n",
              "    </tr>\n",
              "    <tr>\n",
              "      <th>min</th>\n",
              "      <td>1.000000</td>\n",
              "      <td>0.000000</td>\n",
              "      <td>0.000000</td>\n",
              "      <td>0.000000</td>\n",
              "    </tr>\n",
              "    <tr>\n",
              "      <th>25%</th>\n",
              "      <td>189.750000</td>\n",
              "      <td>0.000000</td>\n",
              "      <td>0.000000</td>\n",
              "      <td>0.000000</td>\n",
              "    </tr>\n",
              "    <tr>\n",
              "      <th>50%</th>\n",
              "      <td>378.500000</td>\n",
              "      <td>0.000000</td>\n",
              "      <td>0.000000</td>\n",
              "      <td>4.000000</td>\n",
              "    </tr>\n",
              "    <tr>\n",
              "      <th>75%</th>\n",
              "      <td>567.250000</td>\n",
              "      <td>0.000000</td>\n",
              "      <td>19.000000</td>\n",
              "      <td>6.000000</td>\n",
              "    </tr>\n",
              "    <tr>\n",
              "      <th>max</th>\n",
              "      <td>11415.000000</td>\n",
              "      <td>1.000000</td>\n",
              "      <td>146.000000</td>\n",
              "      <td>10.000000</td>\n",
              "    </tr>\n",
              "  </tbody>\n",
              "</table>\n",
              "</div>"
            ],
            "text/plain": [
              "                 id  dl_applied  win_by_runs  win_by_wickets\n",
              "count    756.000000  756.000000   756.000000      756.000000\n",
              "mean    1792.178571    0.025132    13.283069        3.350529\n",
              "std     3464.478148    0.156630    23.471144        3.387963\n",
              "min        1.000000    0.000000     0.000000        0.000000\n",
              "25%      189.750000    0.000000     0.000000        0.000000\n",
              "50%      378.500000    0.000000     0.000000        4.000000\n",
              "75%      567.250000    0.000000    19.000000        6.000000\n",
              "max    11415.000000    1.000000   146.000000       10.000000"
            ]
          },
          "metadata": {
            "tags": []
          },
          "execution_count": 7
        }
      ]
    },
    {
      "cell_type": "markdown",
      "metadata": {
        "id": "Qwg16sPDkB7k"
      },
      "source": [
        "We can infer following information from the above operation describe().\n",
        "1. The biggest win by runs is by 146 runs.\n",
        "2. The biggest victory of the team batting second(win_by_wickets) is by 10 wickets.\n",
        "3. 75% of the victorious teams that bat first won by a margin of 19 runs.\n",
        "4. 75% of the victorious teams that bat second won by a margin of 6 wickets."
      ]
    },
    {
      "cell_type": "markdown",
      "metadata": {
        "id": "g9dr3_XajCH-"
      },
      "source": [
        "* To know null values in the dataframe."
      ]
    },
    {
      "cell_type": "code",
      "metadata": {
        "id": "c3t1EHSUjHH8",
        "outputId": "d0a0aa9d-fc32-4692-b9c6-e205d7386721",
        "colab": {
          "base_uri": "https://localhost:8080/"
        }
      },
      "source": [
        "matches_df.isnull().sum()"
      ],
      "execution_count": 8,
      "outputs": [
        {
          "output_type": "execute_result",
          "data": {
            "text/plain": [
              "id                   0\n",
              "Season               0\n",
              "city                 7\n",
              "date                 0\n",
              "team1                0\n",
              "team2                0\n",
              "toss_winner          0\n",
              "toss_decision        0\n",
              "result               0\n",
              "dl_applied           0\n",
              "winner               4\n",
              "win_by_runs          0\n",
              "win_by_wickets       0\n",
              "player_of_match      4\n",
              "venue                0\n",
              "umpire1              2\n",
              "umpire2              2\n",
              "umpire3            637\n",
              "dtype: int64"
            ]
          },
          "metadata": {
            "tags": []
          },
          "execution_count": 8
        }
      ]
    },
    {
      "cell_type": "markdown",
      "metadata": {
        "id": "Jdu7AMgtbaKx"
      },
      "source": [
        "1. Which city maximum matches were played?"
      ]
    },
    {
      "cell_type": "code",
      "metadata": {
        "id": "IhqEyG0nUrS6",
        "outputId": "a3b69add-78f2-4323-c729-eb8c7ef1a59e",
        "colab": {
          "base_uri": "https://localhost:8080/"
        }
      },
      "source": [
        "\n",
        "matches_df['city'].value_counts()"
      ],
      "execution_count": 9,
      "outputs": [
        {
          "output_type": "execute_result",
          "data": {
            "text/plain": [
              "Mumbai            101\n",
              "Kolkata            77\n",
              "Delhi              74\n",
              "Bangalore          66\n",
              "Hyderabad          64\n",
              "Chennai            57\n",
              "Jaipur             47\n",
              "Chandigarh         46\n",
              "Pune               38\n",
              "Durban             15\n",
              "Bengaluru          14\n",
              "Visakhapatnam      13\n",
              "Centurion          12\n",
              "Ahmedabad          12\n",
              "Rajkot             10\n",
              "Mohali             10\n",
              "Dharamsala          9\n",
              "Indore              9\n",
              "Johannesburg        8\n",
              "Ranchi              7\n",
              "Abu Dhabi           7\n",
              "Cape Town           7\n",
              "Port Elizabeth      7\n",
              "Cuttack             7\n",
              "Sharjah             6\n",
              "Raipur              6\n",
              "Kochi               5\n",
              "Kanpur              4\n",
              "Kimberley           3\n",
              "East London         3\n",
              "Nagpur              3\n",
              "Bloemfontein        2\n",
              "Name: city, dtype: int64"
            ]
          },
          "metadata": {
            "tags": []
          },
          "execution_count": 9
        }
      ]
    },
    {
      "cell_type": "markdown",
      "metadata": {
        "id": "FNJG9VO1gs-e"
      },
      "source": [
        "Maximun number of matches were played in Mumbai."
      ]
    },
    {
      "cell_type": "markdown",
      "metadata": {
        "id": "K_WD861Fhihd"
      },
      "source": [
        "2.The Number of matches played in each season?"
      ]
    },
    {
      "cell_type": "code",
      "metadata": {
        "id": "jyr_Ev4ygseh",
        "outputId": "252eea99-f941-431d-ceeb-7e09a98d6acb",
        "colab": {
          "base_uri": "https://localhost:8080/"
        }
      },
      "source": [
        "matches_df['Season'].value_counts()"
      ],
      "execution_count": 10,
      "outputs": [
        {
          "output_type": "execute_result",
          "data": {
            "text/plain": [
              "IPL-2013    76\n",
              "IPL-2012    74\n",
              "IPL-2011    73\n",
              "IPL-2010    60\n",
              "IPL-2016    60\n",
              "IPL-2014    60\n",
              "IPL-2018    60\n",
              "IPL-2019    60\n",
              "IPL-2015    59\n",
              "IPL-2017    59\n",
              "IPL-2008    58\n",
              "IPL-2009    57\n",
              "Name: Season, dtype: int64"
            ]
          },
          "metadata": {
            "tags": []
          },
          "execution_count": 10
        }
      ]
    },
    {
      "cell_type": "markdown",
      "metadata": {
        "id": "tuyVm9syh3DX"
      },
      "source": [
        "The maximum matches played is in the year 2013 because there are 9 teams participated in this year.The least number of matches played is 57 in the year 2009.\n"
      ]
    },
    {
      "cell_type": "markdown",
      "metadata": {
        "id": "u7TDsOmeh8gj"
      },
      "source": [
        "3.Match Winners based on Year?"
      ]
    },
    {
      "cell_type": "code",
      "metadata": {
        "id": "mgdYZbsWUvk2",
        "outputId": "ab98a668-be29-430d-db9c-68ce5e4b13cc",
        "colab": {
          "base_uri": "https://localhost:8080/"
        }
      },
      "source": [
        "teams_per_season = matches_df.groupby('Season')['winner'].value_counts()\n",
        "teams_per_season"
      ],
      "execution_count": 11,
      "outputs": [
        {
          "output_type": "execute_result",
          "data": {
            "text/plain": [
              "Season    winner                     \n",
              "IPL-2008  Rajasthan Royals               13\n",
              "          Kings XI Punjab                10\n",
              "          Chennai Super Kings             9\n",
              "          Delhi Daredevils                7\n",
              "          Mumbai Indians                  7\n",
              "                                         ..\n",
              "IPL-2019  Kings XI Punjab                 6\n",
              "          Kolkata Knight Riders           6\n",
              "          Sunrisers Hyderabad             6\n",
              "          Rajasthan Royals                5\n",
              "          Royal Challengers Bangalore     5\n",
              "Name: winner, Length: 100, dtype: int64"
            ]
          },
          "metadata": {
            "tags": []
          },
          "execution_count": 11
        }
      ]
    },
    {
      "cell_type": "code",
      "metadata": {
        "id": "dxZfE1BWjt0_",
        "outputId": "164f1e45-8f5b-4973-d876-bae7bf791726",
        "colab": {
          "base_uri": "https://localhost:8080/"
        }
      },
      "source": [
        "year = 2008\n",
        "win_per_season_df = pd.DataFrame(columns=['year', 'team', 'wins'])\n",
        "for items in teams_per_season.iteritems():\n",
        "  print(items)\n",
        "  extract_year = items[0][0].split('-')    \n",
        "  if int(extract_year[1])==year:\n",
        "    print(items[0][0])\n",
        "    win_series = {\n",
        "            'year': items[0][0],\n",
        "            'team': items[0][1],\n",
        "            'wins': items[1]}\n",
        "    win_per_season_df = win_per_season_df.append(win_series,ignore_index=True)\n",
        "    year = year + 1"
      ],
      "execution_count": 12,
      "outputs": [
        {
          "output_type": "stream",
          "text": [
            "(('IPL-2008', 'Rajasthan Royals'), 13)\n",
            "IPL-2008\n",
            "(('IPL-2008', 'Kings XI Punjab'), 10)\n",
            "(('IPL-2008', 'Chennai Super Kings'), 9)\n",
            "(('IPL-2008', 'Delhi Daredevils'), 7)\n",
            "(('IPL-2008', 'Mumbai Indians'), 7)\n",
            "(('IPL-2008', 'Kolkata Knight Riders'), 6)\n",
            "(('IPL-2008', 'Royal Challengers Bangalore'), 4)\n",
            "(('IPL-2008', 'Deccan Chargers'), 2)\n",
            "(('IPL-2009', 'Delhi Daredevils'), 10)\n",
            "IPL-2009\n",
            "(('IPL-2009', 'Deccan Chargers'), 9)\n",
            "(('IPL-2009', 'Royal Challengers Bangalore'), 9)\n",
            "(('IPL-2009', 'Chennai Super Kings'), 8)\n",
            "(('IPL-2009', 'Kings XI Punjab'), 7)\n",
            "(('IPL-2009', 'Rajasthan Royals'), 6)\n",
            "(('IPL-2009', 'Mumbai Indians'), 5)\n",
            "(('IPL-2009', 'Kolkata Knight Riders'), 3)\n",
            "(('IPL-2010', 'Mumbai Indians'), 11)\n",
            "IPL-2010\n",
            "(('IPL-2010', 'Chennai Super Kings'), 9)\n",
            "(('IPL-2010', 'Deccan Chargers'), 8)\n",
            "(('IPL-2010', 'Royal Challengers Bangalore'), 8)\n",
            "(('IPL-2010', 'Delhi Daredevils'), 7)\n",
            "(('IPL-2010', 'Kolkata Knight Riders'), 7)\n",
            "(('IPL-2010', 'Rajasthan Royals'), 6)\n",
            "(('IPL-2010', 'Kings XI Punjab'), 4)\n",
            "(('IPL-2011', 'Chennai Super Kings'), 11)\n",
            "IPL-2011\n",
            "(('IPL-2011', 'Mumbai Indians'), 10)\n",
            "(('IPL-2011', 'Royal Challengers Bangalore'), 10)\n",
            "(('IPL-2011', 'Kolkata Knight Riders'), 8)\n",
            "(('IPL-2011', 'Kings XI Punjab'), 7)\n",
            "(('IPL-2011', 'Deccan Chargers'), 6)\n",
            "(('IPL-2011', 'Kochi Tuskers Kerala'), 6)\n",
            "(('IPL-2011', 'Rajasthan Royals'), 6)\n",
            "(('IPL-2011', 'Delhi Daredevils'), 4)\n",
            "(('IPL-2011', 'Pune Warriors'), 4)\n",
            "(('IPL-2012', 'Kolkata Knight Riders'), 12)\n",
            "IPL-2012\n",
            "(('IPL-2012', 'Delhi Daredevils'), 11)\n",
            "(('IPL-2012', 'Chennai Super Kings'), 10)\n",
            "(('IPL-2012', 'Mumbai Indians'), 10)\n",
            "(('IPL-2012', 'Kings XI Punjab'), 8)\n",
            "(('IPL-2012', 'Royal Challengers Bangalore'), 8)\n",
            "(('IPL-2012', 'Rajasthan Royals'), 7)\n",
            "(('IPL-2012', 'Deccan Chargers'), 4)\n",
            "(('IPL-2012', 'Pune Warriors'), 4)\n",
            "(('IPL-2013', 'Mumbai Indians'), 13)\n",
            "IPL-2013\n",
            "(('IPL-2013', 'Chennai Super Kings'), 12)\n",
            "(('IPL-2013', 'Rajasthan Royals'), 11)\n",
            "(('IPL-2013', 'Sunrisers Hyderabad'), 10)\n",
            "(('IPL-2013', 'Royal Challengers Bangalore'), 9)\n",
            "(('IPL-2013', 'Kings XI Punjab'), 8)\n",
            "(('IPL-2013', 'Kolkata Knight Riders'), 6)\n",
            "(('IPL-2013', 'Pune Warriors'), 4)\n",
            "(('IPL-2013', 'Delhi Daredevils'), 3)\n",
            "(('IPL-2014', 'Kings XI Punjab'), 12)\n",
            "IPL-2014\n",
            "(('IPL-2014', 'Kolkata Knight Riders'), 11)\n",
            "(('IPL-2014', 'Chennai Super Kings'), 10)\n",
            "(('IPL-2014', 'Mumbai Indians'), 7)\n",
            "(('IPL-2014', 'Rajasthan Royals'), 7)\n",
            "(('IPL-2014', 'Sunrisers Hyderabad'), 6)\n",
            "(('IPL-2014', 'Royal Challengers Bangalore'), 5)\n",
            "(('IPL-2014', 'Delhi Daredevils'), 2)\n",
            "(('IPL-2015', 'Chennai Super Kings'), 10)\n",
            "IPL-2015\n",
            "(('IPL-2015', 'Mumbai Indians'), 10)\n",
            "(('IPL-2015', 'Royal Challengers Bangalore'), 8)\n",
            "(('IPL-2015', 'Kolkata Knight Riders'), 7)\n",
            "(('IPL-2015', 'Rajasthan Royals'), 7)\n",
            "(('IPL-2015', 'Sunrisers Hyderabad'), 7)\n",
            "(('IPL-2015', 'Delhi Daredevils'), 5)\n",
            "(('IPL-2015', 'Kings XI Punjab'), 3)\n",
            "(('IPL-2016', 'Sunrisers Hyderabad'), 11)\n",
            "IPL-2016\n",
            "(('IPL-2016', 'Gujarat Lions'), 9)\n",
            "(('IPL-2016', 'Royal Challengers Bangalore'), 9)\n",
            "(('IPL-2016', 'Kolkata Knight Riders'), 8)\n",
            "(('IPL-2016', 'Delhi Daredevils'), 7)\n",
            "(('IPL-2016', 'Mumbai Indians'), 7)\n",
            "(('IPL-2016', 'Rising Pune Supergiants'), 5)\n",
            "(('IPL-2016', 'Kings XI Punjab'), 4)\n",
            "(('IPL-2017', 'Mumbai Indians'), 12)\n",
            "IPL-2017\n",
            "(('IPL-2017', 'Rising Pune Supergiant'), 10)\n",
            "(('IPL-2017', 'Kolkata Knight Riders'), 9)\n",
            "(('IPL-2017', 'Sunrisers Hyderabad'), 8)\n",
            "(('IPL-2017', 'Kings XI Punjab'), 7)\n",
            "(('IPL-2017', 'Delhi Daredevils'), 6)\n",
            "(('IPL-2017', 'Gujarat Lions'), 4)\n",
            "(('IPL-2017', 'Royal Challengers Bangalore'), 3)\n",
            "(('IPL-2018', 'Chennai Super Kings'), 11)\n",
            "IPL-2018\n",
            "(('IPL-2018', 'Sunrisers Hyderabad'), 10)\n",
            "(('IPL-2018', 'Kolkata Knight Riders'), 9)\n",
            "(('IPL-2018', 'Rajasthan Royals'), 7)\n",
            "(('IPL-2018', 'Kings XI Punjab'), 6)\n",
            "(('IPL-2018', 'Mumbai Indians'), 6)\n",
            "(('IPL-2018', 'Royal Challengers Bangalore'), 6)\n",
            "(('IPL-2018', 'Delhi Daredevils'), 5)\n",
            "(('IPL-2019', 'Mumbai Indians'), 11)\n",
            "IPL-2019\n",
            "(('IPL-2019', 'Chennai Super Kings'), 10)\n",
            "(('IPL-2019', 'Delhi Capitals'), 10)\n",
            "(('IPL-2019', 'Kings XI Punjab'), 6)\n",
            "(('IPL-2019', 'Kolkata Knight Riders'), 6)\n",
            "(('IPL-2019', 'Sunrisers Hyderabad'), 6)\n",
            "(('IPL-2019', 'Rajasthan Royals'), 5)\n",
            "(('IPL-2019', 'Royal Challengers Bangalore'), 5)\n"
          ],
          "name": "stdout"
        }
      ]
    },
    {
      "cell_type": "code",
      "metadata": {
        "id": "o-C_MccGUvvR",
        "outputId": "268c8a26-5fbb-47b2-f5de-7f612368ce2e",
        "colab": {
          "base_uri": "https://localhost:8080/",
          "height": 417
        }
      },
      "source": [
        "win_per_season_df"
      ],
      "execution_count": 13,
      "outputs": [
        {
          "output_type": "execute_result",
          "data": {
            "text/html": [
              "<div>\n",
              "<style scoped>\n",
              "    .dataframe tbody tr th:only-of-type {\n",
              "        vertical-align: middle;\n",
              "    }\n",
              "\n",
              "    .dataframe tbody tr th {\n",
              "        vertical-align: top;\n",
              "    }\n",
              "\n",
              "    .dataframe thead th {\n",
              "        text-align: right;\n",
              "    }\n",
              "</style>\n",
              "<table border=\"1\" class=\"dataframe\">\n",
              "  <thead>\n",
              "    <tr style=\"text-align: right;\">\n",
              "      <th></th>\n",
              "      <th>year</th>\n",
              "      <th>team</th>\n",
              "      <th>wins</th>\n",
              "    </tr>\n",
              "  </thead>\n",
              "  <tbody>\n",
              "    <tr>\n",
              "      <th>0</th>\n",
              "      <td>IPL-2008</td>\n",
              "      <td>Rajasthan Royals</td>\n",
              "      <td>13</td>\n",
              "    </tr>\n",
              "    <tr>\n",
              "      <th>1</th>\n",
              "      <td>IPL-2009</td>\n",
              "      <td>Delhi Daredevils</td>\n",
              "      <td>10</td>\n",
              "    </tr>\n",
              "    <tr>\n",
              "      <th>2</th>\n",
              "      <td>IPL-2010</td>\n",
              "      <td>Mumbai Indians</td>\n",
              "      <td>11</td>\n",
              "    </tr>\n",
              "    <tr>\n",
              "      <th>3</th>\n",
              "      <td>IPL-2011</td>\n",
              "      <td>Chennai Super Kings</td>\n",
              "      <td>11</td>\n",
              "    </tr>\n",
              "    <tr>\n",
              "      <th>4</th>\n",
              "      <td>IPL-2012</td>\n",
              "      <td>Kolkata Knight Riders</td>\n",
              "      <td>12</td>\n",
              "    </tr>\n",
              "    <tr>\n",
              "      <th>5</th>\n",
              "      <td>IPL-2013</td>\n",
              "      <td>Mumbai Indians</td>\n",
              "      <td>13</td>\n",
              "    </tr>\n",
              "    <tr>\n",
              "      <th>6</th>\n",
              "      <td>IPL-2014</td>\n",
              "      <td>Kings XI Punjab</td>\n",
              "      <td>12</td>\n",
              "    </tr>\n",
              "    <tr>\n",
              "      <th>7</th>\n",
              "      <td>IPL-2015</td>\n",
              "      <td>Chennai Super Kings</td>\n",
              "      <td>10</td>\n",
              "    </tr>\n",
              "    <tr>\n",
              "      <th>8</th>\n",
              "      <td>IPL-2016</td>\n",
              "      <td>Sunrisers Hyderabad</td>\n",
              "      <td>11</td>\n",
              "    </tr>\n",
              "    <tr>\n",
              "      <th>9</th>\n",
              "      <td>IPL-2017</td>\n",
              "      <td>Mumbai Indians</td>\n",
              "      <td>12</td>\n",
              "    </tr>\n",
              "    <tr>\n",
              "      <th>10</th>\n",
              "      <td>IPL-2018</td>\n",
              "      <td>Chennai Super Kings</td>\n",
              "      <td>11</td>\n",
              "    </tr>\n",
              "    <tr>\n",
              "      <th>11</th>\n",
              "      <td>IPL-2019</td>\n",
              "      <td>Mumbai Indians</td>\n",
              "      <td>11</td>\n",
              "    </tr>\n",
              "  </tbody>\n",
              "</table>\n",
              "</div>"
            ],
            "text/plain": [
              "        year                   team wins\n",
              "0   IPL-2008       Rajasthan Royals   13\n",
              "1   IPL-2009       Delhi Daredevils   10\n",
              "2   IPL-2010         Mumbai Indians   11\n",
              "3   IPL-2011    Chennai Super Kings   11\n",
              "4   IPL-2012  Kolkata Knight Riders   12\n",
              "5   IPL-2013         Mumbai Indians   13\n",
              "6   IPL-2014        Kings XI Punjab   12\n",
              "7   IPL-2015    Chennai Super Kings   10\n",
              "8   IPL-2016    Sunrisers Hyderabad   11\n",
              "9   IPL-2017         Mumbai Indians   12\n",
              "10  IPL-2018    Chennai Super Kings   11\n",
              "11  IPL-2019         Mumbai Indians   11"
            ]
          },
          "metadata": {
            "tags": []
          },
          "execution_count": 13
        }
      ]
    },
    {
      "cell_type": "code",
      "metadata": {
        "id": "aZdBt7NkUvrZ",
        "outputId": "e15f617e-130c-441e-856f-45080758a2ff",
        "colab": {
          "base_uri": "https://localhost:8080/",
          "height": 334
        }
      },
      "source": [
        "sns.barplot('wins', 'team', hue='year', data=win_per_season_df);"
      ],
      "execution_count": 14,
      "outputs": [
        {
          "output_type": "stream",
          "text": [
            "/usr/local/lib/python3.6/dist-packages/seaborn/_decorators.py:43: FutureWarning: Pass the following variables as keyword args: x, y. From version 0.12, the only valid positional argument will be `data`, and passing other arguments without an explicit keyword will result in an error or misinterpretation.\n",
            "  FutureWarning\n"
          ],
          "name": "stderr"
        },
        {
          "output_type": "display_data",
          "data": {
            "image/png": "[encoded data removed]",
            "text/plain": [
              "<Figure size 432x288 with 1 Axes>"
            ]
          },
          "metadata": {
            "tags": [],
            "needs_background": "light"
          }
        }
      ]
    },
    {
      "cell_type": "markdown",
      "metadata": {
        "id": "eSCwmi4DyySZ"
      },
      "source": [
        "From the barplot, we can easily make inferences regarding the year in which a particular team has scored the maximum wins(and also the number of wins)."
      ]
    },
    {
      "cell_type": "markdown",
      "metadata": {
        "id": "nzV1tQeSy3zw"
      },
      "source": [
        "Observations:\n",
        "Mumbai Indians has secured the most wins in four seasons(2010, 2013, 2017, and 2019)."
      ]
    },
    {
      "cell_type": "code",
      "metadata": {
        "id": "5RuU91vFUvpS"
      },
      "source": [
        "venue_ser = matches_df['venue'].value_counts()"
      ],
      "execution_count": 15,
      "outputs": []
    },
    {
      "cell_type": "code",
      "metadata": {
        "id": "Pzu_nUXXUvib"
      },
      "source": [
        "venue_df = pd.DataFrame(columns=['venue', 'matches'])\n",
        "for items in venue_ser.iteritems():\n",
        "    temp_df = pd.DataFrame({\n",
        "        'venue':[items[0]],\n",
        "        'matches':[items[1]]\n",
        "    })\n",
        "    venue_df = venue_df.append(temp_df, ignore_index=True)"
      ],
      "execution_count": 16,
      "outputs": []
    },
    {
      "cell_type": "code",
      "metadata": {
        "id": "m31x1OeG2DcA",
        "outputId": "5cc016bb-3fc3-4f98-e009-57e31ce12db1",
        "colab": {
          "base_uri": "https://localhost:8080/",
          "height": 1000
        }
      },
      "source": [
        "venue_df"
      ],
      "execution_count": 17,
      "outputs": [
        {
          "output_type": "execute_result",
          "data": {
            "text/html": [
              "<div>\n",
              "<style scoped>\n",
              "    .dataframe tbody tr th:only-of-type {\n",
              "        vertical-align: middle;\n",
              "    }\n",
              "\n",
              "    .dataframe tbody tr th {\n",
              "        vertical-align: top;\n",
              "    }\n",
              "\n",
              "    .dataframe thead th {\n",
              "        text-align: right;\n",
              "    }\n",
              "</style>\n",
              "<table border=\"1\" class=\"dataframe\">\n",
              "  <thead>\n",
              "    <tr style=\"text-align: right;\">\n",
              "      <th></th>\n",
              "      <th>venue</th>\n",
              "      <th>matches</th>\n",
              "    </tr>\n",
              "  </thead>\n",
              "  <tbody>\n",
              "    <tr>\n",
              "      <th>0</th>\n",
              "      <td>Eden Gardens</td>\n",
              "      <td>77</td>\n",
              "    </tr>\n",
              "    <tr>\n",
              "      <th>1</th>\n",
              "      <td>M Chinnaswamy Stadium</td>\n",
              "      <td>73</td>\n",
              "    </tr>\n",
              "    <tr>\n",
              "      <th>2</th>\n",
              "      <td>Wankhede Stadium</td>\n",
              "      <td>73</td>\n",
              "    </tr>\n",
              "    <tr>\n",
              "      <th>3</th>\n",
              "      <td>Feroz Shah Kotla</td>\n",
              "      <td>67</td>\n",
              "    </tr>\n",
              "    <tr>\n",
              "      <th>4</th>\n",
              "      <td>Rajiv Gandhi International Stadium, Uppal</td>\n",
              "      <td>56</td>\n",
              "    </tr>\n",
              "    <tr>\n",
              "      <th>5</th>\n",
              "      <td>MA Chidambaram Stadium, Chepauk</td>\n",
              "      <td>49</td>\n",
              "    </tr>\n",
              "    <tr>\n",
              "      <th>6</th>\n",
              "      <td>Sawai Mansingh Stadium</td>\n",
              "      <td>47</td>\n",
              "    </tr>\n",
              "    <tr>\n",
              "      <th>7</th>\n",
              "      <td>Punjab Cricket Association Stadium, Mohali</td>\n",
              "      <td>35</td>\n",
              "    </tr>\n",
              "    <tr>\n",
              "      <th>8</th>\n",
              "      <td>Maharashtra Cricket Association Stadium</td>\n",
              "      <td>21</td>\n",
              "    </tr>\n",
              "    <tr>\n",
              "      <th>9</th>\n",
              "      <td>Dr DY Patil Sports Academy</td>\n",
              "      <td>17</td>\n",
              "    </tr>\n",
              "    <tr>\n",
              "      <th>10</th>\n",
              "      <td>Subrata Roy Sahara Stadium</td>\n",
              "      <td>17</td>\n",
              "    </tr>\n",
              "    <tr>\n",
              "      <th>11</th>\n",
              "      <td>Kingsmead</td>\n",
              "      <td>15</td>\n",
              "    </tr>\n",
              "    <tr>\n",
              "      <th>12</th>\n",
              "      <td>Punjab Cricket Association IS Bindra Stadium, ...</td>\n",
              "      <td>14</td>\n",
              "    </tr>\n",
              "    <tr>\n",
              "      <th>13</th>\n",
              "      <td>Sardar Patel Stadium, Motera</td>\n",
              "      <td>12</td>\n",
              "    </tr>\n",
              "    <tr>\n",
              "      <th>14</th>\n",
              "      <td>SuperSport Park</td>\n",
              "      <td>12</td>\n",
              "    </tr>\n",
              "    <tr>\n",
              "      <th>15</th>\n",
              "      <td>Dr. Y.S. Rajasekhara Reddy ACA-VDCA Cricket St...</td>\n",
              "      <td>11</td>\n",
              "    </tr>\n",
              "    <tr>\n",
              "      <th>16</th>\n",
              "      <td>Brabourne Stadium</td>\n",
              "      <td>11</td>\n",
              "    </tr>\n",
              "    <tr>\n",
              "      <th>17</th>\n",
              "      <td>Saurashtra Cricket Association Stadium</td>\n",
              "      <td>10</td>\n",
              "    </tr>\n",
              "    <tr>\n",
              "      <th>18</th>\n",
              "      <td>Holkar Cricket Stadium</td>\n",
              "      <td>9</td>\n",
              "    </tr>\n",
              "    <tr>\n",
              "      <th>19</th>\n",
              "      <td>Himachal Pradesh Cricket Association Stadium</td>\n",
              "      <td>9</td>\n",
              "    </tr>\n",
              "    <tr>\n",
              "      <th>20</th>\n",
              "      <td>Rajiv Gandhi Intl. Cricket Stadium</td>\n",
              "      <td>8</td>\n",
              "    </tr>\n",
              "    <tr>\n",
              "      <th>21</th>\n",
              "      <td>M. A. Chidambaram Stadium</td>\n",
              "      <td>8</td>\n",
              "    </tr>\n",
              "    <tr>\n",
              "      <th>22</th>\n",
              "      <td>New Wanderers Stadium</td>\n",
              "      <td>8</td>\n",
              "    </tr>\n",
              "    <tr>\n",
              "      <th>23</th>\n",
              "      <td>St George's Park</td>\n",
              "      <td>7</td>\n",
              "    </tr>\n",
              "    <tr>\n",
              "      <th>24</th>\n",
              "      <td>JSCA International Stadium Complex</td>\n",
              "      <td>7</td>\n",
              "    </tr>\n",
              "    <tr>\n",
              "      <th>25</th>\n",
              "      <td>Feroz Shah Kotla Ground</td>\n",
              "      <td>7</td>\n",
              "    </tr>\n",
              "    <tr>\n",
              "      <th>26</th>\n",
              "      <td>Dubai International Cricket Stadium</td>\n",
              "      <td>7</td>\n",
              "    </tr>\n",
              "    <tr>\n",
              "      <th>27</th>\n",
              "      <td>M. Chinnaswamy Stadium</td>\n",
              "      <td>7</td>\n",
              "    </tr>\n",
              "    <tr>\n",
              "      <th>28</th>\n",
              "      <td>Newlands</td>\n",
              "      <td>7</td>\n",
              "    </tr>\n",
              "    <tr>\n",
              "      <th>29</th>\n",
              "      <td>IS Bindra Stadium</td>\n",
              "      <td>7</td>\n",
              "    </tr>\n",
              "    <tr>\n",
              "      <th>30</th>\n",
              "      <td>Sheikh Zayed Stadium</td>\n",
              "      <td>7</td>\n",
              "    </tr>\n",
              "    <tr>\n",
              "      <th>31</th>\n",
              "      <td>Barabati Stadium</td>\n",
              "      <td>7</td>\n",
              "    </tr>\n",
              "    <tr>\n",
              "      <th>32</th>\n",
              "      <td>Sharjah Cricket Stadium</td>\n",
              "      <td>6</td>\n",
              "    </tr>\n",
              "    <tr>\n",
              "      <th>33</th>\n",
              "      <td>Shaheed Veer Narayan Singh International Stadium</td>\n",
              "      <td>6</td>\n",
              "    </tr>\n",
              "    <tr>\n",
              "      <th>34</th>\n",
              "      <td>Nehru Stadium</td>\n",
              "      <td>5</td>\n",
              "    </tr>\n",
              "    <tr>\n",
              "      <th>35</th>\n",
              "      <td>Green Park</td>\n",
              "      <td>4</td>\n",
              "    </tr>\n",
              "    <tr>\n",
              "      <th>36</th>\n",
              "      <td>Vidarbha Cricket Association Stadium, Jamtha</td>\n",
              "      <td>3</td>\n",
              "    </tr>\n",
              "    <tr>\n",
              "      <th>37</th>\n",
              "      <td>Buffalo Park</td>\n",
              "      <td>3</td>\n",
              "    </tr>\n",
              "    <tr>\n",
              "      <th>38</th>\n",
              "      <td>De Beers Diamond Oval</td>\n",
              "      <td>3</td>\n",
              "    </tr>\n",
              "    <tr>\n",
              "      <th>39</th>\n",
              "      <td>OUTsurance Oval</td>\n",
              "      <td>2</td>\n",
              "    </tr>\n",
              "    <tr>\n",
              "      <th>40</th>\n",
              "      <td>ACA-VDCA Stadium</td>\n",
              "      <td>2</td>\n",
              "    </tr>\n",
              "  </tbody>\n",
              "</table>\n",
              "</div>"
            ],
            "text/plain": [
              "                                                venue matches\n",
              "0                                        Eden Gardens      77\n",
              "1                               M Chinnaswamy Stadium      73\n",
              "2                                    Wankhede Stadium      73\n",
              "3                                    Feroz Shah Kotla      67\n",
              "4           Rajiv Gandhi International Stadium, Uppal      56\n",
              "5                     MA Chidambaram Stadium, Chepauk      49\n",
              "6                              Sawai Mansingh Stadium      47\n",
              "7          Punjab Cricket Association Stadium, Mohali      35\n",
              "8             Maharashtra Cricket Association Stadium      21\n",
              "9                          Dr DY Patil Sports Academy      17\n",
              "10                         Subrata Roy Sahara Stadium      17\n",
              "11                                          Kingsmead      15\n",
              "12  Punjab Cricket Association IS Bindra Stadium, ...      14\n",
              "13                       Sardar Patel Stadium, Motera      12\n",
              "14                                    SuperSport Park      12\n",
              "15  Dr. Y.S. Rajasekhara Reddy ACA-VDCA Cricket St...      11\n",
              "16                                  Brabourne Stadium      11\n",
              "17             Saurashtra Cricket Association Stadium      10\n",
              "18                             Holkar Cricket Stadium       9\n",
              "19       Himachal Pradesh Cricket Association Stadium       9\n",
              "20                 Rajiv Gandhi Intl. Cricket Stadium       8\n",
              "21                          M. A. Chidambaram Stadium       8\n",
              "22                              New Wanderers Stadium       8\n",
              "23                                   St George's Park       7\n",
              "24                 JSCA International Stadium Complex       7\n",
              "25                            Feroz Shah Kotla Ground       7\n",
              "26                Dubai International Cricket Stadium       7\n",
              "27                             M. Chinnaswamy Stadium       7\n",
              "28                                           Newlands       7\n",
              "29                                  IS Bindra Stadium       7\n",
              "30                               Sheikh Zayed Stadium       7\n",
              "31                                   Barabati Stadium       7\n",
              "32                            Sharjah Cricket Stadium       6\n",
              "33   Shaheed Veer Narayan Singh International Stadium       6\n",
              "34                                      Nehru Stadium       5\n",
              "35                                         Green Park       4\n",
              "36       Vidarbha Cricket Association Stadium, Jamtha       3\n",
              "37                                       Buffalo Park       3\n",
              "38                              De Beers Diamond Oval       3\n",
              "39                                    OUTsurance Oval       2\n",
              "40                                   ACA-VDCA Stadium       2"
            ]
          },
          "metadata": {
            "tags": []
          },
          "execution_count": 17
        }
      ]
    },
    {
      "cell_type": "markdown",
      "metadata": {
        "id": "TQZ5qbOq2H95"
      },
      "source": [
        "There are total 40 venues."
      ]
    },
    {
      "cell_type": "code",
      "metadata": {
        "id": "PhAKljCczuf-",
        "outputId": "2417eb52-b1f3-417a-8d74-333f6e5cadb3",
        "colab": {
          "base_uri": "https://localhost:8080/",
          "height": 281
        }
      },
      "source": [
        "\n",
        "sns.barplot(x='matches', y='venue', data=venue_df);\n",
        "sns.set(rc={'figure.figsize':(20.7,8.27)})"
      ],
      "execution_count": 18,
      "outputs": [
        {
          "output_type": "display_data",
          "data": {
            "image/png": "[encoded data removed]",
            "text/plain": [
              "<Figure size 432x288 with 1 Axes>"
            ]
          },
          "metadata": {
            "tags": [],
            "needs_background": "light"
          }
        }
      ]
    },
    {
      "cell_type": "markdown",
      "metadata": {
        "id": "XeoySTP-2Nj9"
      },
      "source": [
        "*Eden Gardens has hosted the maximum number of IPL matches"
      ]
    },
    {
      "cell_type": "markdown",
      "metadata": {
        "id": "gS_6vSHS28wJ"
      },
      "source": [
        ""
      ]
    },
    {
      "cell_type": "markdown",
      "metadata": {
        "id": "gD4b5kObONjk"
      },
      "source": [
        "\n",
        "4.The player who has won the player_of_match title on most occasions is the most valuable player.\n",
        "\n"
      ]
    },
    {
      "cell_type": "code",
      "metadata": {
        "id": "Z4oMJqc9zucn",
        "outputId": "64a9b850-4de4-4ba0-f44f-14522c0171de",
        "colab": {
          "base_uri": "https://localhost:8080/"
        }
      },
      "source": [
        "man_of_the_match_ser = matches_df['player_of_match'].value_counts()\n",
        "man_of_the_match_ser"
      ],
      "execution_count": 21,
      "outputs": [
        {
          "output_type": "execute_result",
          "data": {
            "text/plain": [
              "CH Gayle          21\n",
              "AB de Villiers    20\n",
              "DA Warner         17\n",
              "MS Dhoni          17\n",
              "RG Sharma         17\n",
              "                  ..\n",
              "MF Maharoof        1\n",
              "J Theron           1\n",
              "KV Sharma          1\n",
              "S Gill             1\n",
              "K Rabada           1\n",
              "Name: player_of_match, Length: 226, dtype: int64"
            ]
          },
          "metadata": {
            "tags": []
          },
          "execution_count": 21
        }
      ]
    },
    {
      "cell_type": "code",
      "metadata": {
        "id": "bpnKap-9zuZh"
      },
      "source": [
        "man_of_the_match_df = pd.DataFrame(columns=[\"player\", \"wins\"])\n",
        "count = 0\n",
        "for items in man_of_the_match_ser.iteritems():\n",
        "    if count>10:\n",
        "        break\n",
        "    else:\n",
        "        temp_df2 = pd.DataFrame({\n",
        "            'player':[items[0]],\n",
        "            'wins':[items[1]]\n",
        "        })\n",
        "        man_of_the_match_df = man_of_the_match_df.append(temp_df2, ignore_index=True)\n",
        "        count += 1"
      ],
      "execution_count": 23,
      "outputs": []
    },
    {
      "cell_type": "code",
      "metadata": {
        "id": "fS0Ss2bkQxUy",
        "outputId": "2079c970-ab59-4125-9642-b6738376ec26",
        "colab": {
          "base_uri": "https://localhost:8080/",
          "height": 386
        }
      },
      "source": [
        "man_of_the_match_df"
      ],
      "execution_count": 24,
      "outputs": [
        {
          "output_type": "execute_result",
          "data": {
            "text/html": [
              "<div>\n",
              "<style scoped>\n",
              "    .dataframe tbody tr th:only-of-type {\n",
              "        vertical-align: middle;\n",
              "    }\n",
              "\n",
              "    .dataframe tbody tr th {\n",
              "        vertical-align: top;\n",
              "    }\n",
              "\n",
              "    .dataframe thead th {\n",
              "        text-align: right;\n",
              "    }\n",
              "</style>\n",
              "<table border=\"1\" class=\"dataframe\">\n",
              "  <thead>\n",
              "    <tr style=\"text-align: right;\">\n",
              "      <th></th>\n",
              "      <th>player</th>\n",
              "      <th>wins</th>\n",
              "    </tr>\n",
              "  </thead>\n",
              "  <tbody>\n",
              "    <tr>\n",
              "      <th>0</th>\n",
              "      <td>CH Gayle</td>\n",
              "      <td>21</td>\n",
              "    </tr>\n",
              "    <tr>\n",
              "      <th>1</th>\n",
              "      <td>AB de Villiers</td>\n",
              "      <td>20</td>\n",
              "    </tr>\n",
              "    <tr>\n",
              "      <th>2</th>\n",
              "      <td>DA Warner</td>\n",
              "      <td>17</td>\n",
              "    </tr>\n",
              "    <tr>\n",
              "      <th>3</th>\n",
              "      <td>MS Dhoni</td>\n",
              "      <td>17</td>\n",
              "    </tr>\n",
              "    <tr>\n",
              "      <th>4</th>\n",
              "      <td>RG Sharma</td>\n",
              "      <td>17</td>\n",
              "    </tr>\n",
              "    <tr>\n",
              "      <th>5</th>\n",
              "      <td>YK Pathan</td>\n",
              "      <td>16</td>\n",
              "    </tr>\n",
              "    <tr>\n",
              "      <th>6</th>\n",
              "      <td>SR Watson</td>\n",
              "      <td>15</td>\n",
              "    </tr>\n",
              "    <tr>\n",
              "      <th>7</th>\n",
              "      <td>SK Raina</td>\n",
              "      <td>14</td>\n",
              "    </tr>\n",
              "    <tr>\n",
              "      <th>8</th>\n",
              "      <td>G Gambhir</td>\n",
              "      <td>13</td>\n",
              "    </tr>\n",
              "    <tr>\n",
              "      <th>9</th>\n",
              "      <td>MEK Hussey</td>\n",
              "      <td>12</td>\n",
              "    </tr>\n",
              "    <tr>\n",
              "      <th>10</th>\n",
              "      <td>V Kohli</td>\n",
              "      <td>12</td>\n",
              "    </tr>\n",
              "  </tbody>\n",
              "</table>\n",
              "</div>"
            ],
            "text/plain": [
              "            player wins\n",
              "0         CH Gayle   21\n",
              "1   AB de Villiers   20\n",
              "2        DA Warner   17\n",
              "3         MS Dhoni   17\n",
              "4        RG Sharma   17\n",
              "5        YK Pathan   16\n",
              "6        SR Watson   15\n",
              "7         SK Raina   14\n",
              "8        G Gambhir   13\n",
              "9       MEK Hussey   12\n",
              "10         V Kohli   12"
            ]
          },
          "metadata": {
            "tags": []
          },
          "execution_count": 24
        }
      ]
    },
    {
      "cell_type": "code",
      "metadata": {
        "id": "s02sRgBHQzBT",
        "outputId": "fa614a7d-9353-4ec0-ad5a-19ff213d24b7",
        "colab": {
          "base_uri": "https://localhost:8080/",
          "height": 474
        }
      },
      "source": [
        "sns.barplot(x='wins', y='player', data=man_of_the_match_df, palette='Paired');"
      ],
      "execution_count": 25,
      "outputs": [
        {
          "output_type": "display_data",
          "data": {
            "image/png": "[encoded data removed]",
            "text/plain": [
              "<Figure size 1490.4x595.44 with 1 Axes>"
            ]
          },
          "metadata": {
            "tags": []
          }
        }
      ]
    },
    {
      "cell_type": "markdown",
      "metadata": {
        "id": "2szoUIk4RF-4"
      },
      "source": [
        "Cris Gayle is the player who won the most player of the match awards and hence is the most valuable player."
      ]
    },
    {
      "cell_type": "code",
      "metadata": {
        "id": "dXoEQGcCRFcQ"
      },
      "source": [
        "working_directory = '/content/drive/My Drive/AlmaBetter/CohortAravali/Cohort Aravali/Module 2/Capstone-1/'\n",
        "Players_df = pd.read_excel(working_directory + 'Players.xlsx')"
      ],
      "execution_count": 29,
      "outputs": []
    },
    {
      "cell_type": "code",
      "metadata": {
        "id": "rd2z99esRo_t",
        "outputId": "1000e622-8810-436c-a105-d6e57739d8f6",
        "colab": {
          "base_uri": "https://localhost:8080/",
          "height": 202
        }
      },
      "source": [
        "Players_df.head()"
      ],
      "execution_count": 30,
      "outputs": [
        {
          "output_type": "execute_result",
          "data": {
            "text/html": [
              "<div>\n",
              "<style scoped>\n",
              "    .dataframe tbody tr th:only-of-type {\n",
              "        vertical-align: middle;\n",
              "    }\n",
              "\n",
              "    .dataframe tbody tr th {\n",
              "        vertical-align: top;\n",
              "    }\n",
              "\n",
              "    .dataframe thead th {\n",
              "        text-align: right;\n",
              "    }\n",
              "</style>\n",
              "<table border=\"1\" class=\"dataframe\">\n",
              "  <thead>\n",
              "    <tr style=\"text-align: right;\">\n",
              "      <th></th>\n",
              "      <th>Player_Name</th>\n",
              "      <th>DOB</th>\n",
              "      <th>Batting_Hand</th>\n",
              "      <th>Bowling_Skill</th>\n",
              "      <th>Country</th>\n",
              "    </tr>\n",
              "  </thead>\n",
              "  <tbody>\n",
              "    <tr>\n",
              "      <th>0</th>\n",
              "      <td>A Ashish Reddy</td>\n",
              "      <td>1991-02-24</td>\n",
              "      <td>Right_Hand</td>\n",
              "      <td>Right-arm medium</td>\n",
              "      <td>India</td>\n",
              "    </tr>\n",
              "    <tr>\n",
              "      <th>1</th>\n",
              "      <td>A Chandila</td>\n",
              "      <td>1983-12-05</td>\n",
              "      <td>Right_Hand</td>\n",
              "      <td>Right-arm offbreak</td>\n",
              "      <td>India</td>\n",
              "    </tr>\n",
              "    <tr>\n",
              "      <th>2</th>\n",
              "      <td>A Chopra</td>\n",
              "      <td>1977-09-19</td>\n",
              "      <td>Right_Hand</td>\n",
              "      <td>Right-arm offbreak</td>\n",
              "      <td>India</td>\n",
              "    </tr>\n",
              "    <tr>\n",
              "      <th>3</th>\n",
              "      <td>A Choudhary</td>\n",
              "      <td>NaT</td>\n",
              "      <td>Right_hand</td>\n",
              "      <td>Left-arm fast-medium</td>\n",
              "      <td>NaN</td>\n",
              "    </tr>\n",
              "    <tr>\n",
              "      <th>4</th>\n",
              "      <td>A Dananjaya</td>\n",
              "      <td>NaT</td>\n",
              "      <td>Right_Hand</td>\n",
              "      <td>Right-arm offbreak</td>\n",
              "      <td>NaN</td>\n",
              "    </tr>\n",
              "  </tbody>\n",
              "</table>\n",
              "</div>"
            ],
            "text/plain": [
              "      Player_Name        DOB Batting_Hand         Bowling_Skill Country\n",
              "0  A Ashish Reddy 1991-02-24   Right_Hand      Right-arm medium   India\n",
              "1      A Chandila 1983-12-05   Right_Hand    Right-arm offbreak   India\n",
              "2        A Chopra 1977-09-19   Right_Hand    Right-arm offbreak   India\n",
              "3     A Choudhary        NaT   Right_hand  Left-arm fast-medium     NaN\n",
              "4     A Dananjaya        NaT   Right_Hand    Right-arm offbreak     NaN"
            ]
          },
          "metadata": {
            "tags": []
          },
          "execution_count": 30
        }
      ]
    },
    {
      "cell_type": "code",
      "metadata": {
        "id": "CJeVeZe8SYXB",
        "outputId": "c25574aa-cec9-4344-e45b-cfbbed8b4528",
        "colab": {
          "base_uri": "https://localhost:8080/",
          "height": 202
        }
      },
      "source": [
        "Players_df.tail()"
      ],
      "execution_count": 31,
      "outputs": [
        {
          "output_type": "execute_result",
          "data": {
            "text/html": [
              "<div>\n",
              "<style scoped>\n",
              "    .dataframe tbody tr th:only-of-type {\n",
              "        vertical-align: middle;\n",
              "    }\n",
              "\n",
              "    .dataframe tbody tr th {\n",
              "        vertical-align: top;\n",
              "    }\n",
              "\n",
              "    .dataframe thead th {\n",
              "        text-align: right;\n",
              "    }\n",
              "</style>\n",
              "<table border=\"1\" class=\"dataframe\">\n",
              "  <thead>\n",
              "    <tr style=\"text-align: right;\">\n",
              "      <th></th>\n",
              "      <th>Player_Name</th>\n",
              "      <th>DOB</th>\n",
              "      <th>Batting_Hand</th>\n",
              "      <th>Bowling_Skill</th>\n",
              "      <th>Country</th>\n",
              "    </tr>\n",
              "  </thead>\n",
              "  <tbody>\n",
              "    <tr>\n",
              "      <th>561</th>\n",
              "      <td>Younis Khan</td>\n",
              "      <td>1977-11-29</td>\n",
              "      <td>Right_Hand</td>\n",
              "      <td>Right-arm medium</td>\n",
              "      <td>Pakistan</td>\n",
              "    </tr>\n",
              "    <tr>\n",
              "      <th>562</th>\n",
              "      <td>YS Chahal</td>\n",
              "      <td>1990-07-23</td>\n",
              "      <td>Right_Hand</td>\n",
              "      <td>Legbreak googly</td>\n",
              "      <td>India</td>\n",
              "    </tr>\n",
              "    <tr>\n",
              "      <th>563</th>\n",
              "      <td>Yuvraj Singh</td>\n",
              "      <td>1981-12-12</td>\n",
              "      <td>Left_Hand</td>\n",
              "      <td>Slow left-arm orthodox</td>\n",
              "      <td>India</td>\n",
              "    </tr>\n",
              "    <tr>\n",
              "      <th>564</th>\n",
              "      <td>YV Takawale</td>\n",
              "      <td>1984-11-05</td>\n",
              "      <td>Right_Hand</td>\n",
              "      <td>NaN</td>\n",
              "      <td>India</td>\n",
              "    </tr>\n",
              "    <tr>\n",
              "      <th>565</th>\n",
              "      <td>Z Khan</td>\n",
              "      <td>1978-10-07</td>\n",
              "      <td>Right_Hand</td>\n",
              "      <td>Left-arm fast-medium</td>\n",
              "      <td>India</td>\n",
              "    </tr>\n",
              "  </tbody>\n",
              "</table>\n",
              "</div>"
            ],
            "text/plain": [
              "      Player_Name        DOB Batting_Hand           Bowling_Skill   Country\n",
              "561   Younis Khan 1977-11-29   Right_Hand        Right-arm medium  Pakistan\n",
              "562     YS Chahal 1990-07-23   Right_Hand         Legbreak googly     India\n",
              "563  Yuvraj Singh 1981-12-12    Left_Hand  Slow left-arm orthodox     India\n",
              "564   YV Takawale 1984-11-05   Right_Hand                     NaN     India\n",
              "565        Z Khan 1978-10-07   Right_Hand    Left-arm fast-medium     India"
            ]
          },
          "metadata": {
            "tags": []
          },
          "execution_count": 31
        }
      ]
    },
    {
      "cell_type": "code",
      "metadata": {
        "id": "-SqxTwFFUS1C",
        "outputId": "84bcf648-bf99-457e-ca2e-dbeddadaeddd",
        "colab": {
          "base_uri": "https://localhost:8080/"
        }
      },
      "source": [
        "Players_df['Player_Name'].unique()"
      ],
      "execution_count": 41,
      "outputs": [
        {
          "output_type": "execute_result",
          "data": {
            "text/plain": [
              "array(['A Ashish Reddy', 'A Chandila', 'A Chopra', 'A Choudhary',\n",
              "       'A Dananjaya', 'A Flintoff', 'A Hales', 'A Joseph', 'A Kumble',\n",
              "       'A Mishra', 'A Mithun', 'A Mukund', 'A Nehra', 'A Nel', 'A Roy',\n",
              "       'A Singh', 'A Symonds', 'A Turner', 'A Uniyal', 'A Zampa',\n",
              "       'AA Bilakhia', 'AA Chavan', 'AA Jhunjhunwala', 'AA Kazi',\n",
              "       'AA Noffke', 'AB Agarkar', 'AB Barath', 'AB de Villiers',\n",
              "       'AB Dinda', 'AB McDonald', 'Abdur Razzak', 'AC Blizzard',\n",
              "       'AC Gilchrist', 'AC Thomas', 'AC Voges', 'AD Mascarenhas',\n",
              "       'AD Mathews', 'AD Nath', 'AD Russell', 'AF Milne', 'AG Murtaza',\n",
              "       'AG Paunikar', 'AJ Finch', 'AJ Tye', 'AL Menaria', 'AM Nayar',\n",
              "       'AM Rahane', 'AM Salvi', 'AN Ahmed', 'AN Ghosh', 'Anand Rajan',\n",
              "       'Anirudh Singh', 'Ankit Sharma', 'Ankit Soni', 'Anureet Singh',\n",
              "       'AP Dole', 'AP Majumdar', 'AP Tare', 'AR Bawne', 'AR Patel',\n",
              "       'AS Rajpoot', 'AS Raut', 'AS Yadav', 'AT Rayudu', 'AUK Pathan',\n",
              "       'AV Wankhade', 'Avesh Khan', 'Azhar Mahmood', 'B Akhil',\n",
              "       'B Aparajith', 'B Chipli', 'B Geeves', 'B Kumar', 'B Laughlin',\n",
              "       'B Lee', 'B Stanlake', 'B Sumanth', 'BA Bhatt', 'BA Stokes',\n",
              "       'Basil Thampi', 'BAW Mendis', 'BB McCullum', 'BB Samantray',\n",
              "       'BB Sran', 'BCJ Cutting', 'BE Hendricks', 'Bipul Sharma',\n",
              "       'BJ Haddin', 'BJ Hodge', 'BJ Rohrer', 'BMAJ Mendis', 'BR Dunk',\n",
              "       'BW Hilfenhaus', 'C de Grandhomme', 'C Ganapathy', 'C Ingram',\n",
              "       'C Madan', 'C Munro', 'C Nanda', 'CA Ingram', 'CA Lynn',\n",
              "       'CA Pujara', 'CH Gayle', 'CH Morris', 'CJ Anderson', 'CJ Ferguson',\n",
              "       'CJ Jordan', 'CJ McKay', 'CK Kapugedera', 'CK Langeveldt',\n",
              "       'CL White', 'CM Gautam', 'CR Brathwaite', 'CR Woakes',\n",
              "       'CRD Fernando', 'D du Preez', 'D Kalyankrishna', 'D Salunkhe',\n",
              "       'D Shorey', 'D Short', 'D Wiese', 'D Willey', 'DA Miller',\n",
              "       'DA Warner', 'DAJ Bracewell', 'DB Das', 'DB Ravi Teja',\n",
              "       'DE Bollinger', 'DH Yagnik', 'DJ Bravo', 'DJ Harris', 'DJ Hooda',\n",
              "       'DJ Hussey', 'DJ Jacobs', 'DJ Muthuswami', 'DJ Thornely',\n",
              "       'DJG Sammy', 'DL Chahar', 'DL Vettori', 'DM Bravo', 'DNT Zoysa',\n",
              "       'DP Nannes', 'DP Vijaykumar', 'DPMD Jayawardene', 'DR Martyn',\n",
              "       'DR Smith', 'DS Kulkarni', 'DS Lehmann', 'DT Christian',\n",
              "       'DT Patil', 'DW Steyn', 'E Lewis', 'EJG Morgan', 'ER Dwivedi',\n",
              "       'F Behardien', 'F du Plessis', 'FH Edwards', 'FY Fazal',\n",
              "       'G Gambhir', 'Gagandeep Singh', 'GB Hogg', 'GC Smith',\n",
              "       'GD McGrath', 'GH Vihari', 'GJ Bailey', 'GJ Maxwell', 'GR Napier',\n",
              "       'GS Sandhu', 'Gurkeerat Singh', 'H Brar', 'H Das', 'H Gurney',\n",
              "       'H Klaasen', 'H Vihari', 'H Viljoen', 'Harbhajan Singh',\n",
              "       'Harmeet Singh', 'Harmeet Singh (2)', 'Harpreet Singh', 'HH Gibbs',\n",
              "       'HH Pandya', 'HM Amla', 'HV Patel', 'I Malhotra', 'I Sharma',\n",
              "       'I Sodhi', 'IC Pandey', 'IK Pathan', 'Imran Tahir',\n",
              "       'Iqbal Abdulla', 'IR Jaggi', 'Ishan Kishan', 'J Archer',\n",
              "       'J Arunkumar', 'J Bairstow', 'J Behrendorff', 'J Botha', 'J Dala',\n",
              "       'J Denly', 'J Searles', 'J Suchith', 'J Syed Mohammad', 'J Theron',\n",
              "       'J Yadav', 'JA Morkel', 'Jaskaran Singh', 'JC Buttler', 'JD Ryder',\n",
              "       'JD Unadkat', 'JDP Oram', 'JDS Neesham', 'JE Taylor',\n",
              "       'JEC Franklin', 'JH Kallis', 'JJ Bumrah', 'JJ Roy',\n",
              "       'JJ van der Wath', 'JM Kemp', 'JO Holder', 'Joginder Sharma',\n",
              "       'JP Duminy', 'JP Faulkner', 'JR Hopes', 'JW Hastings', 'K Ahmed',\n",
              "       'K Goel', 'K Gowtham', 'K Khejroliya', 'K Paul', 'K Rabada',\n",
              "       'K Santokie', 'K Upadhyay', 'KA Pollard', 'KAJ Roach',\n",
              "       'Kamran Akmal', 'Kamran Khan', 'Karanveer Singh',\n",
              "       'KB Arun Karthik', 'KC Cariappa', 'KC Sangakkara', 'KD Karthik',\n",
              "       'KH Devdhar', 'KH Pandya', 'KJ Abbott', 'KK Cooper', 'KK Nair',\n",
              "       'KL Rahul', 'KM Asif', 'KM Jadhav', 'KMDN Kulasekara',\n",
              "       'KP Appanna', 'KP Pietersen', 'KS Williamson', 'Kuldeep Yadav',\n",
              "       'KV Sharma', 'KW Richardson', 'L Ablish', 'L Balaji', 'L Ferguson',\n",
              "       'L Livingstone', 'L Ngidi', 'L Plunkett', 'L Ronchi',\n",
              "       'LA Carseldine', 'LA Pomersbach', 'LH Ferguson', 'LJ Wright',\n",
              "       'LMP Simmons', 'LPC Silva', 'LR Shukla', 'LRPL Taylor', 'M Ali',\n",
              "       'M Ashwin', 'M de Lange', 'M Kaif', 'M Kartik', 'M Klinger',\n",
              "       'M Lomror', 'M Manhas', 'M Markande', 'M Morkel', 'M Muralitharan',\n",
              "       'M Ntini', 'M Rawat', 'M Santner', 'M Ur Rahman', 'M Vijay',\n",
              "       'M Vohra', 'M Wood', 'MA Agarwal', 'MA Khote', 'MA Starc',\n",
              "       'Mandeep Singh', 'Mashrafe Mortaza', 'MB Parmar', 'MC Henriques',\n",
              "       'MC Juneja', 'MD Mishra', 'MDKJ Perera', 'MEK Hussey',\n",
              "       'MF Maharoof', 'MG Johnson', 'MG Neser', 'Misbah-ul-Haq',\n",
              "       'MJ Clarke', 'MJ Guptill', 'MJ Henry', 'MJ Lumb', 'MJ McClenaghan',\n",
              "       'MK Pandey', 'MK Tiwary', 'ML Hayden', 'MM Patel', 'MM Sharma',\n",
              "       'MN Samuels', 'MN van Wyk', 'Mohammad Ashraful', 'Mohammad Asif',\n",
              "       'Mohammad Hafeez', 'Mohammad Nabi', 'Mohammed Shami',\n",
              "       'Mohammed Siraj', 'MP Stoinis', 'MR Marsh', 'MS Bisla', 'MS Dhoni',\n",
              "       'MS Gony', 'MS Wade', 'Mustafizur Rahman', 'MV Boucher', 'N Naik',\n",
              "       'N Pooran', 'N Rana', 'N Saini', 'NB Singh', 'ND Doshi',\n",
              "       'Niraj Patel', 'NJ Maddinson', 'NJ Rimmington', 'NK Patel',\n",
              "       'NL McCullum', 'NLTC Perera', 'NM Coulter-Nile', 'NS Naik',\n",
              "       'NV Ojha', 'O Thomas', 'OA Shah', 'P Amarnath', 'P Awana',\n",
              "       'P Chopra', 'P Dharmani', 'P Dogra', 'P Krishna', 'P Kumar',\n",
              "       'P Negi', 'P Parameswaran', 'P Prasanth', 'P R Barman', 'P Raj',\n",
              "       'P Sahu', 'P Shaw', 'P Suyal', 'PA Patel', 'PA Reddy',\n",
              "       'Pankaj Singh', 'Parvez Rasool', 'PC Valthaty', 'PD Collingwood',\n",
              "       'PJ Cummins', 'PJ Sangwan', 'PM Sarvesh Kumar', 'PP Chawla',\n",
              "       'PP Ojha', 'PR Shah', 'PSP Handscomb', 'PV Tambe', 'Q de Kock',\n",
              "       'R Ashwin', 'R Bhatia', 'R Bhui', 'R Bishnoi', 'R Dhawan',\n",
              "       'R Dravid', 'R McLaren', 'R Ninan', 'R Parag', 'R Rampaul',\n",
              "       'R Salam', 'R Sathish', 'R Sharma', 'R Shukla', 'R Singh',\n",
              "       'R Tewatia', 'R Vinay Kumar', 'RA Jadeja', 'RA Shaikh',\n",
              "       'RA Tripathi', 'Rashid Khan', 'RD Chahar', 'RE Levi',\n",
              "       'RE van der Merwe', 'RG More', 'RG Sharma', 'RJ Harris',\n",
              "       'RJ Peterson', 'RJ Quiney', 'RN ten Doeschate', 'RP Singh',\n",
              "       'RR Bhatkal', 'RR Bose', 'RR Pant', 'RR Powar', 'RR Raje',\n",
              "       'RR Rossouw', 'RR Sarwan', 'RS Bopara', 'RS Gavaskar', 'RS Sodhi',\n",
              "       'RT Ponting', 'RV Gomez', 'RV Pawar', 'RV Uthappa', 'RW Price',\n",
              "       'S Anirudha', 'S Aravind', 'S Badree', 'S Badrinath',\n",
              "       'S Chanderpaul', 'S Curran', 'S Dhawan', 'S Dube', 'S Gill',\n",
              "       'S Gopal', 'S Hetmyer', 'S Kaul', 'S Kaushik', 'S Kuggeleijn',\n",
              "       'S Ladda', 'S Lamichhane', 'S Mavi', 'S Midhun', 'S Nadeem',\n",
              "       'S Narwal', 'S Rana', 'S Randiv', 'S Rutherford', 'S Sharma',\n",
              "       'S Singh', 'S Sohal', 'S Sreesanth', 'S Sriram', 'S Tyagi',\n",
              "       'S Vidyut', 'S Warrier', 'SA Abbott', 'SA Asnodkar', 'SA Yadav',\n",
              "       'Sachin Baby', 'Salman Butt', 'Sandeep Sharma', 'SB Bangar',\n",
              "       'SB Jakati', 'SB Joshi', 'SB Styris', 'SB Wagh', 'SC Ganguly',\n",
              "       'SD Chitnis', 'SD Lad', 'SE Bond', 'SE Marsh', 'Shahid Afridi',\n",
              "       'Shakib Al Hasan', 'Shivam Sharma', 'Shoaib Ahmed',\n",
              "       'Shoaib Akhtar', 'Shoaib Malik', 'SJ Srivastava', 'SK Raina',\n",
              "       'SK Trivedi', 'SK Warne', 'SL Malinga', 'SM Boland', 'SM Harwood',\n",
              "       'SM Katich', 'SM Pollock', 'SMSM Senanayake', 'SN Khan',\n",
              "       'SN Thakur', 'Sohail Tanvir', 'SP Fleming', 'SP Goswami',\n",
              "       'SP Jackson', 'SP Narine', 'SPD Smith', 'SR Tendulkar',\n",
              "       'SR Watson', 'SS Agarwal', 'SS Iyer', 'SS Mundhe', 'SS Sarkar',\n",
              "       'SS Shaikh', 'SS Tiwary', 'ST Jayasuriya', 'STR Binny',\n",
              "       'Sunny Gupta', 'Sunny Singh', 'SV Samson', 'SW Billings',\n",
              "       'SW Tait', 'Swapnil Singh', 'T Curran', 'T Henderson', 'T Kohli',\n",
              "       'T Mishra', 'T Natarajan', 'T Shamsi', 'T Taibu', 'T Thushara',\n",
              "       'TA Boult', 'TD Paine', 'Tejas Baroka', 'TG Southee', 'TL Suman',\n",
              "       'TM Dilshan', 'TM Head', 'TM Srivastava', 'TP Sudhindra',\n",
              "       'TR Birt', 'TS Mills', 'U Kaul', 'UA Birla', 'UBT Chand',\n",
              "       'Umar Gul', 'UT Khawaja', 'UT Yadav', 'V Chakravarthy', 'V Kohli',\n",
              "       'V Pratap Singh', 'V Sehwag', 'V Shankar', 'VH Zol',\n",
              "       'Vishnu Vinod', 'VR Aaron', 'VRV Singh', 'VS Malik', 'VS Yeligati',\n",
              "       'VVS Laxman', 'VY Mahesh', 'W Jaffer', 'WA Mota',\n",
              "       'Washington Sundar', 'WD Parnell', 'WP Saha', 'WPUJC Vaas',\n",
              "       'X Thalaivan Sargunam', 'Y Gnaneswara Rao', 'Y Nagar',\n",
              "       'Y Venugopal Rao', 'YA Abdulla', 'Yashpal Singh', 'YK Pathan',\n",
              "       'Younis Khan', 'YS Chahal', 'Yuvraj Singh', 'YV Takawale',\n",
              "       'Z Khan'], dtype=object)"
            ]
          },
          "metadata": {
            "tags": []
          },
          "execution_count": 41
        }
      ]
    },
    {
      "cell_type": "code",
      "metadata": {
        "id": "wOaAPeJDS_IL",
        "outputId": "fbda0e79-1904-49fa-d8dd-d426e61a5779",
        "colab": {
          "base_uri": "https://localhost:8080/"
        }
      },
      "source": [
        "print(Players_df.loc[Players_df['Player_Name'] == 'CH Gayle'])"
      ],
      "execution_count": 45,
      "outputs": [
        {
          "output_type": "stream",
          "text": [
            "    Player_Name        DOB Batting_Hand       Bowling_Skill      Country\n",
            "102    CH Gayle 1979-09-21    Left_Hand  Right-arm offbreak  West Indies\n"
          ],
          "name": "stdout"
        }
      ]
    },
    {
      "cell_type": "markdown",
      "metadata": {
        "id": "qR3_QLEVWm-J"
      },
      "source": [
        "From above two operations we can conclude that Cris Gayle who has been Player of teh match for most of the matches if Left handed ,age is 41 years old and hails from West Indies.\n",
        "\n"
      ]
    },
    {
      "cell_type": "code",
      "metadata": {
        "id": "7qGS-NCxXL_C"
      },
      "source": [
        "This is sample line"
      ],
      "execution_count": null,
      "outputs": []
    },
    {
      "cell_type": "code",
      "metadata": {
        "id": "4jJ1Q7Z7XMFE"
      },
      "source": [
        ""
      ],
      "execution_count": null,
      "outputs": []
    },
    {
      "cell_type": "code",
      "metadata": {
        "id": "NJlxXnpeXLwq"
      },
      "source": [
        ""
      ],
      "execution_count": null,
      "outputs": []
    }
  ]
}
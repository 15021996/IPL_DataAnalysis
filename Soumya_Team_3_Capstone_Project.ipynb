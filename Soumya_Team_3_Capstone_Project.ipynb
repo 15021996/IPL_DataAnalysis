{
  "nbformat": 4,
  "nbformat_minor": 0,
  "metadata": {
    "kernelspec": {
      "display_name": "Python 3",
      "language": "python",
      "name": "python3"
    },
    "language_info": {
      "codemirror_mode": {
        "name": "ipython",
        "version": 3
      },
      "file_extension": ".py",
      "mimetype": "text/x-python",
      "name": "python",
      "nbconvert_exporter": "python",
      "pygments_lexer": "ipython3",
      "version": "3.6.6"
    },
    "colab": {
      "name": "Soumya-Team 3 - Capstone Project.ipynb",
      "provenance": [],
      "collapsed_sections": [],
      "include_colab_link": true
    }
  },
  "cells": [
    {
      "cell_type": "markdown",
      "metadata": {
        "id": "view-in-github",
        "colab_type": "text"
      },
      "source": [
        "<a href=\"https://colab.research.google.com/github/15021996/IPL_DataAnalysis/blob/main/Soumya_Team_3_Capstone_Project.ipynb\" target=\"_parent\"><img src=\"https://colab.research.google.com/assets/colab-badge.svg\" alt=\"Open In Colab\"/></a>"
      ]
    },
    {
      "cell_type": "markdown",
      "metadata": {
        "id": "Y06xIdG26kRF"
      },
      "source": [
        "## <b> Indian Premier League(IPL) is a professional Twenty20 cricket league in India contested during March or April and May of every year by eight teams representing eight different cities in India. The league was founded by the Board of Control for Cricket in India(BCCI) in 2008. </b>\n",
        "\n",
        "## <b> Explore and analyze the data to discover results and statistics for different teams playing in IPL. </b>"
      ]
    },
    {
      "cell_type": "code",
      "metadata": {
        "id": "dByMsuzT8Tnw"
      },
      "source": [
        "#Import package\n",
        "import pandas as pd\n",
        "import numpy as np\n",
        "import seaborn as sns\n",
        "import matplotlib.pyplot as plt"
      ],
      "execution_count": 2,
      "outputs": []
    },
    {
      "cell_type": "code",
      "metadata": {
        "id": "CYTH6eXy1JLR",
        "outputId": "44f5e1b1-fda5-40f3-b54a-412bd9aecf2d",
        "colab": {
          "base_uri": "https://localhost:8080/"
        }
      },
      "source": [
        "from google.colab import drive\n",
        "drive.mount('/content/drive')"
      ],
      "execution_count": 3,
      "outputs": [
        {
          "output_type": "stream",
          "text": [
            "Mounted at /content/drive\n"
          ],
          "name": "stdout"
        }
      ]
    },
    {
      "cell_type": "code",
      "metadata": {
        "id": "msjDmbSz2Bxt"
      },
      "source": [
        "working_directory = '/content/drive/My Drive/AlmaBetter/CohortAravali/Cohort Aravali/Module 2/Capstone-1/'\n",
        "matches_df = pd.read_csv(working_directory + 'matches.csv')"
      ],
      "execution_count": 84,
      "outputs": []
    },
    {
      "cell_type": "code",
      "metadata": {
        "id": "E24GyQukCz4i",
        "outputId": "33d5f1c4-d7d7-40a4-c7b9-afa86779ffa0",
        "colab": {
          "base_uri": "https://localhost:8080/",
          "height": 447
        }
      },
      "source": [
        "matches_df.head()"
      ],
      "execution_count": 85,
      "outputs": [
        {
          "output_type": "execute_result",
          "data": {
            "text/html": [
              "<div>\n",
              "<style scoped>\n",
              "    .dataframe tbody tr th:only-of-type {\n",
              "        vertical-align: middle;\n",
              "    }\n",
              "\n",
              "    .dataframe tbody tr th {\n",
              "        vertical-align: top;\n",
              "    }\n",
              "\n",
              "    .dataframe thead th {\n",
              "        text-align: right;\n",
              "    }\n",
              "</style>\n",
              "<table border=\"1\" class=\"dataframe\">\n",
              "  <thead>\n",
              "    <tr style=\"text-align: right;\">\n",
              "      <th></th>\n",
              "      <th>id</th>\n",
              "      <th>Season</th>\n",
              "      <th>city</th>\n",
              "      <th>date</th>\n",
              "      <th>team1</th>\n",
              "      <th>team2</th>\n",
              "      <th>toss_winner</th>\n",
              "      <th>toss_decision</th>\n",
              "      <th>result</th>\n",
              "      <th>dl_applied</th>\n",
              "      <th>winner</th>\n",
              "      <th>win_by_runs</th>\n",
              "      <th>win_by_wickets</th>\n",
              "      <th>player_of_match</th>\n",
              "      <th>venue</th>\n",
              "      <th>umpire1</th>\n",
              "      <th>umpire2</th>\n",
              "      <th>umpire3</th>\n",
              "    </tr>\n",
              "  </thead>\n",
              "  <tbody>\n",
              "    <tr>\n",
              "      <th>0</th>\n",
              "      <td>1</td>\n",
              "      <td>IPL-2017</td>\n",
              "      <td>Hyderabad</td>\n",
              "      <td>05-04-2017</td>\n",
              "      <td>Sunrisers Hyderabad</td>\n",
              "      <td>Royal Challengers Bangalore</td>\n",
              "      <td>Royal Challengers Bangalore</td>\n",
              "      <td>field</td>\n",
              "      <td>normal</td>\n",
              "      <td>0</td>\n",
              "      <td>Sunrisers Hyderabad</td>\n",
              "      <td>35</td>\n",
              "      <td>0</td>\n",
              "      <td>Yuvraj Singh</td>\n",
              "      <td>Rajiv Gandhi International Stadium, Uppal</td>\n",
              "      <td>AY Dandekar</td>\n",
              "      <td>NJ Llong</td>\n",
              "      <td>NaN</td>\n",
              "    </tr>\n",
              "    <tr>\n",
              "      <th>1</th>\n",
              "      <td>2</td>\n",
              "      <td>IPL-2017</td>\n",
              "      <td>Pune</td>\n",
              "      <td>06-04-2017</td>\n",
              "      <td>Mumbai Indians</td>\n",
              "      <td>Rising Pune Supergiant</td>\n",
              "      <td>Rising Pune Supergiant</td>\n",
              "      <td>field</td>\n",
              "      <td>normal</td>\n",
              "      <td>0</td>\n",
              "      <td>Rising Pune Supergiant</td>\n",
              "      <td>0</td>\n",
              "      <td>7</td>\n",
              "      <td>SPD Smith</td>\n",
              "      <td>Maharashtra Cricket Association Stadium</td>\n",
              "      <td>A Nand Kishore</td>\n",
              "      <td>S Ravi</td>\n",
              "      <td>NaN</td>\n",
              "    </tr>\n",
              "    <tr>\n",
              "      <th>2</th>\n",
              "      <td>3</td>\n",
              "      <td>IPL-2017</td>\n",
              "      <td>Rajkot</td>\n",
              "      <td>07-04-2017</td>\n",
              "      <td>Gujarat Lions</td>\n",
              "      <td>Kolkata Knight Riders</td>\n",
              "      <td>Kolkata Knight Riders</td>\n",
              "      <td>field</td>\n",
              "      <td>normal</td>\n",
              "      <td>0</td>\n",
              "      <td>Kolkata Knight Riders</td>\n",
              "      <td>0</td>\n",
              "      <td>10</td>\n",
              "      <td>CA Lynn</td>\n",
              "      <td>Saurashtra Cricket Association Stadium</td>\n",
              "      <td>Nitin Menon</td>\n",
              "      <td>CK Nandan</td>\n",
              "      <td>NaN</td>\n",
              "    </tr>\n",
              "    <tr>\n",
              "      <th>3</th>\n",
              "      <td>4</td>\n",
              "      <td>IPL-2017</td>\n",
              "      <td>Indore</td>\n",
              "      <td>08-04-2017</td>\n",
              "      <td>Rising Pune Supergiant</td>\n",
              "      <td>Kings XI Punjab</td>\n",
              "      <td>Kings XI Punjab</td>\n",
              "      <td>field</td>\n",
              "      <td>normal</td>\n",
              "      <td>0</td>\n",
              "      <td>Kings XI Punjab</td>\n",
              "      <td>0</td>\n",
              "      <td>6</td>\n",
              "      <td>GJ Maxwell</td>\n",
              "      <td>Holkar Cricket Stadium</td>\n",
              "      <td>AK Chaudhary</td>\n",
              "      <td>C Shamshuddin</td>\n",
              "      <td>NaN</td>\n",
              "    </tr>\n",
              "    <tr>\n",
              "      <th>4</th>\n",
              "      <td>5</td>\n",
              "      <td>IPL-2017</td>\n",
              "      <td>Bangalore</td>\n",
              "      <td>08-04-2017</td>\n",
              "      <td>Royal Challengers Bangalore</td>\n",
              "      <td>Delhi Daredevils</td>\n",
              "      <td>Royal Challengers Bangalore</td>\n",
              "      <td>bat</td>\n",
              "      <td>normal</td>\n",
              "      <td>0</td>\n",
              "      <td>Royal Challengers Bangalore</td>\n",
              "      <td>15</td>\n",
              "      <td>0</td>\n",
              "      <td>KM Jadhav</td>\n",
              "      <td>M Chinnaswamy Stadium</td>\n",
              "      <td>NaN</td>\n",
              "      <td>NaN</td>\n",
              "      <td>NaN</td>\n",
              "    </tr>\n",
              "  </tbody>\n",
              "</table>\n",
              "</div>"
            ],
            "text/plain": [
              "   id    Season       city  ...         umpire1        umpire2 umpire3\n",
              "0   1  IPL-2017  Hyderabad  ...     AY Dandekar       NJ Llong     NaN\n",
              "1   2  IPL-2017       Pune  ...  A Nand Kishore         S Ravi     NaN\n",
              "2   3  IPL-2017     Rajkot  ...     Nitin Menon      CK Nandan     NaN\n",
              "3   4  IPL-2017     Indore  ...    AK Chaudhary  C Shamshuddin     NaN\n",
              "4   5  IPL-2017  Bangalore  ...             NaN            NaN     NaN\n",
              "\n",
              "[5 rows x 18 columns]"
            ]
          },
          "metadata": {
            "tags": []
          },
          "execution_count": 85
        }
      ]
    },
    {
      "cell_type": "code",
      "metadata": {
        "id": "6kKV6Ydi6gCG",
        "outputId": "d8f88a7c-22c3-496f-d55c-bd3d92b1509b",
        "colab": {
          "base_uri": "https://localhost:8080/"
        }
      },
      "source": [
        "len(matches_df['id'].unique().tolist())"
      ],
      "execution_count": 86,
      "outputs": [
        {
          "output_type": "execute_result",
          "data": {
            "text/plain": [
              "756"
            ]
          },
          "metadata": {
            "tags": []
          },
          "execution_count": 86
        }
      ]
    },
    {
      "cell_type": "code",
      "metadata": {
        "id": "-9thGC2d7Qh8",
        "outputId": "b81803d5-f944-47f3-c677-10d48eb19e4e",
        "colab": {
          "base_uri": "https://localhost:8080/"
        }
      },
      "source": [
        "matches_df['result'].unique()"
      ],
      "execution_count": 87,
      "outputs": [
        {
          "output_type": "execute_result",
          "data": {
            "text/plain": [
              "array(['normal', 'tie', 'no result'], dtype=object)"
            ]
          },
          "metadata": {
            "tags": []
          },
          "execution_count": 87
        }
      ]
    },
    {
      "cell_type": "markdown",
      "metadata": {
        "id": "XyvCsSTz7g8S"
      },
      "source": [
        "which teams did not have normal results."
      ]
    },
    {
      "cell_type": "code",
      "metadata": {
        "id": "319wjaJyC_Z-",
        "outputId": "3fae4d7d-47d5-42a1-a91e-cd1d350232bc",
        "colab": {
          "base_uri": "https://localhost:8080/"
        }
      },
      "source": [
        "matches_df.info()"
      ],
      "execution_count": 88,
      "outputs": [
        {
          "output_type": "stream",
          "text": [
            "<class 'pandas.core.frame.DataFrame'>\n",
            "RangeIndex: 756 entries, 0 to 755\n",
            "Data columns (total 18 columns):\n",
            " #   Column           Non-Null Count  Dtype \n",
            "---  ------           --------------  ----- \n",
            " 0   id               756 non-null    int64 \n",
            " 1   Season           756 non-null    object\n",
            " 2   city             749 non-null    object\n",
            " 3   date             756 non-null    object\n",
            " 4   team1            756 non-null    object\n",
            " 5   team2            756 non-null    object\n",
            " 6   toss_winner      756 non-null    object\n",
            " 7   toss_decision    756 non-null    object\n",
            " 8   result           756 non-null    object\n",
            " 9   dl_applied       756 non-null    int64 \n",
            " 10  winner           752 non-null    object\n",
            " 11  win_by_runs      756 non-null    int64 \n",
            " 12  win_by_wickets   756 non-null    int64 \n",
            " 13  player_of_match  752 non-null    object\n",
            " 14  venue            756 non-null    object\n",
            " 15  umpire1          754 non-null    object\n",
            " 16  umpire2          754 non-null    object\n",
            " 17  umpire3          119 non-null    object\n",
            "dtypes: int64(4), object(14)\n",
            "memory usage: 106.4+ KB\n"
          ],
          "name": "stdout"
        }
      ]
    },
    {
      "cell_type": "code",
      "metadata": {
        "id": "Pk3xVTy5DNLK",
        "outputId": "cd9cb9b1-7607-418c-f03e-b7e1fb9d639f",
        "colab": {
          "base_uri": "https://localhost:8080/",
          "height": 294
        }
      },
      "source": [
        "matches_df.describe()"
      ],
      "execution_count": 89,
      "outputs": [
        {
          "output_type": "execute_result",
          "data": {
            "text/html": [
              "<div>\n",
              "<style scoped>\n",
              "    .dataframe tbody tr th:only-of-type {\n",
              "        vertical-align: middle;\n",
              "    }\n",
              "\n",
              "    .dataframe tbody tr th {\n",
              "        vertical-align: top;\n",
              "    }\n",
              "\n",
              "    .dataframe thead th {\n",
              "        text-align: right;\n",
              "    }\n",
              "</style>\n",
              "<table border=\"1\" class=\"dataframe\">\n",
              "  <thead>\n",
              "    <tr style=\"text-align: right;\">\n",
              "      <th></th>\n",
              "      <th>id</th>\n",
              "      <th>dl_applied</th>\n",
              "      <th>win_by_runs</th>\n",
              "      <th>win_by_wickets</th>\n",
              "    </tr>\n",
              "  </thead>\n",
              "  <tbody>\n",
              "    <tr>\n",
              "      <th>count</th>\n",
              "      <td>756.000000</td>\n",
              "      <td>756.000000</td>\n",
              "      <td>756.000000</td>\n",
              "      <td>756.000000</td>\n",
              "    </tr>\n",
              "    <tr>\n",
              "      <th>mean</th>\n",
              "      <td>1792.178571</td>\n",
              "      <td>0.025132</td>\n",
              "      <td>13.283069</td>\n",
              "      <td>3.350529</td>\n",
              "    </tr>\n",
              "    <tr>\n",
              "      <th>std</th>\n",
              "      <td>3464.478148</td>\n",
              "      <td>0.156630</td>\n",
              "      <td>23.471144</td>\n",
              "      <td>3.387963</td>\n",
              "    </tr>\n",
              "    <tr>\n",
              "      <th>min</th>\n",
              "      <td>1.000000</td>\n",
              "      <td>0.000000</td>\n",
              "      <td>0.000000</td>\n",
              "      <td>0.000000</td>\n",
              "    </tr>\n",
              "    <tr>\n",
              "      <th>25%</th>\n",
              "      <td>189.750000</td>\n",
              "      <td>0.000000</td>\n",
              "      <td>0.000000</td>\n",
              "      <td>0.000000</td>\n",
              "    </tr>\n",
              "    <tr>\n",
              "      <th>50%</th>\n",
              "      <td>378.500000</td>\n",
              "      <td>0.000000</td>\n",
              "      <td>0.000000</td>\n",
              "      <td>4.000000</td>\n",
              "    </tr>\n",
              "    <tr>\n",
              "      <th>75%</th>\n",
              "      <td>567.250000</td>\n",
              "      <td>0.000000</td>\n",
              "      <td>19.000000</td>\n",
              "      <td>6.000000</td>\n",
              "    </tr>\n",
              "    <tr>\n",
              "      <th>max</th>\n",
              "      <td>11415.000000</td>\n",
              "      <td>1.000000</td>\n",
              "      <td>146.000000</td>\n",
              "      <td>10.000000</td>\n",
              "    </tr>\n",
              "  </tbody>\n",
              "</table>\n",
              "</div>"
            ],
            "text/plain": [
              "                 id  dl_applied  win_by_runs  win_by_wickets\n",
              "count    756.000000  756.000000   756.000000      756.000000\n",
              "mean    1792.178571    0.025132    13.283069        3.350529\n",
              "std     3464.478148    0.156630    23.471144        3.387963\n",
              "min        1.000000    0.000000     0.000000        0.000000\n",
              "25%      189.750000    0.000000     0.000000        0.000000\n",
              "50%      378.500000    0.000000     0.000000        4.000000\n",
              "75%      567.250000    0.000000    19.000000        6.000000\n",
              "max    11415.000000    1.000000   146.000000       10.000000"
            ]
          },
          "metadata": {
            "tags": []
          },
          "execution_count": 89
        }
      ]
    },
    {
      "cell_type": "markdown",
      "metadata": {
        "id": "Qwg16sPDkB7k"
      },
      "source": [
        "We can infer following information from the above operation describe().\n",
        "1. The biggest win by runs is by 146 runs.\n",
        "2. The biggest victory of the team batting second(win_by_wickets) is by 10 wickets.\n",
        "3. 75% of the victorious teams that bat first won by a margin of 19 runs.\n",
        "4. 75% of the victorious teams that bat second won by a margin of 6 wickets."
      ]
    },
    {
      "cell_type": "markdown",
      "metadata": {
        "id": "g9dr3_XajCH-"
      },
      "source": [
        "* To know null values in the dataframe."
      ]
    },
    {
      "cell_type": "code",
      "metadata": {
        "id": "c3t1EHSUjHH8",
        "outputId": "7b2921cf-df0b-4bb3-8c93-0f14fe4986cd",
        "colab": {
          "base_uri": "https://localhost:8080/"
        }
      },
      "source": [
        "matches_df.isnull().sum()"
      ],
      "execution_count": 90,
      "outputs": [
        {
          "output_type": "execute_result",
          "data": {
            "text/plain": [
              "id                   0\n",
              "Season               0\n",
              "city                 7\n",
              "date                 0\n",
              "team1                0\n",
              "team2                0\n",
              "toss_winner          0\n",
              "toss_decision        0\n",
              "result               0\n",
              "dl_applied           0\n",
              "winner               4\n",
              "win_by_runs          0\n",
              "win_by_wickets       0\n",
              "player_of_match      4\n",
              "venue                0\n",
              "umpire1              2\n",
              "umpire2              2\n",
              "umpire3            637\n",
              "dtype: int64"
            ]
          },
          "metadata": {
            "tags": []
          },
          "execution_count": 90
        }
      ]
    },
    {
      "cell_type": "markdown",
      "metadata": {
        "id": "Jdu7AMgtbaKx"
      },
      "source": [
        "1. Which city maximum matches were played?"
      ]
    },
    {
      "cell_type": "code",
      "metadata": {
        "id": "IhqEyG0nUrS6",
        "outputId": "1ee0fa95-8381-4ec2-bcfd-7e1b7a4d37ee",
        "colab": {
          "base_uri": "https://localhost:8080/"
        }
      },
      "source": [
        "\n",
        "matches_df['city'].value_counts()"
      ],
      "execution_count": 91,
      "outputs": [
        {
          "output_type": "execute_result",
          "data": {
            "text/plain": [
              "Mumbai            101\n",
              "Kolkata            77\n",
              "Delhi              74\n",
              "Bangalore          66\n",
              "Hyderabad          64\n",
              "Chennai            57\n",
              "Jaipur             47\n",
              "Chandigarh         46\n",
              "Pune               38\n",
              "Durban             15\n",
              "Bengaluru          14\n",
              "Visakhapatnam      13\n",
              "Centurion          12\n",
              "Ahmedabad          12\n",
              "Mohali             10\n",
              "Rajkot             10\n",
              "Dharamsala          9\n",
              "Indore              9\n",
              "Johannesburg        8\n",
              "Cuttack             7\n",
              "Ranchi              7\n",
              "Abu Dhabi           7\n",
              "Cape Town           7\n",
              "Port Elizabeth      7\n",
              "Sharjah             6\n",
              "Raipur              6\n",
              "Kochi               5\n",
              "Kanpur              4\n",
              "Kimberley           3\n",
              "Nagpur              3\n",
              "East London         3\n",
              "Bloemfontein        2\n",
              "Name: city, dtype: int64"
            ]
          },
          "metadata": {
            "tags": []
          },
          "execution_count": 91
        }
      ]
    },
    {
      "cell_type": "markdown",
      "metadata": {
        "id": "FNJG9VO1gs-e"
      },
      "source": [
        "Maximun number of matches were played in Mumbai."
      ]
    },
    {
      "cell_type": "markdown",
      "metadata": {
        "id": "K_WD861Fhihd"
      },
      "source": [
        "2.The Number of matches played in each season?"
      ]
    },
    {
      "cell_type": "code",
      "metadata": {
        "id": "jyr_Ev4ygseh"
      },
      "source": [
        "matches_per_season = matches_df.groupby('Season').id.count()"
      ],
      "execution_count": 136,
      "outputs": []
    },
    {
      "cell_type": "code",
      "metadata": {
        "id": "xZ-uLoyd76ey",
        "outputId": "d2d4e5e1-8f10-43cf-84a0-922cfe1f6d7d",
        "colab": {
          "base_uri": "https://localhost:8080/",
          "height": 448
        }
      },
      "source": [
        "plt.figure(figsize=(12,6))\n",
        "plt.xticks(rotation=75)\n",
        "plt.title('Matches Per Season')\n",
        "match_per_season_plot = sns.barplot(x = matches_per_season.index, y = matches_per_season)\n",
        "match_per_season_plot.set(xlabel = 'Seasons', ylabel = 'No. of Matches');"
      ],
      "execution_count": 137,
      "outputs": [
        {
          "output_type": "display_data",
          "data": {
            "image/png": "[encoded data removed]",
            "text/plain": [
              "<Figure size 864x432 with 1 Axes>"
            ]
          },
          "metadata": {
            "tags": []
          }
        }
      ]
    },
    {
      "cell_type": "markdown",
      "metadata": {
        "id": "tuyVm9syh3DX"
      },
      "source": [
        "The maximum matches played is in the year 2013 because there are 9 teams participated in this year.The least number of matches played is 57 in the year 2009.\n"
      ]
    },
    {
      "cell_type": "markdown",
      "metadata": {
        "id": "u7TDsOmeh8gj"
      },
      "source": [
        "3.Match Winners based on Year?"
      ]
    },
    {
      "cell_type": "code",
      "metadata": {
        "id": "mgdYZbsWUvk2",
        "outputId": "561f21ae-b185-4c42-bea9-ca93f4635d0c",
        "colab": {
          "base_uri": "https://localhost:8080/"
        }
      },
      "source": [
        "teams_per_season = matches_df.groupby('Season')['winner'].value_counts()\n",
        "teams_per_season"
      ],
      "execution_count": 93,
      "outputs": [
        {
          "output_type": "execute_result",
          "data": {
            "text/plain": [
              "Season    winner                     \n",
              "IPL-2008  Rajasthan Royals               13\n",
              "          Kings XI Punjab                10\n",
              "          Chennai Super Kings             9\n",
              "          Delhi Daredevils                7\n",
              "          Mumbai Indians                  7\n",
              "                                         ..\n",
              "IPL-2019  Kings XI Punjab                 6\n",
              "          Kolkata Knight Riders           6\n",
              "          Sunrisers Hyderabad             6\n",
              "          Rajasthan Royals                5\n",
              "          Royal Challengers Bangalore     5\n",
              "Name: winner, Length: 100, dtype: int64"
            ]
          },
          "metadata": {
            "tags": []
          },
          "execution_count": 93
        }
      ]
    },
    {
      "cell_type": "code",
      "metadata": {
        "id": "dxZfE1BWjt0_",
        "outputId": "4df325e1-5847-4675-adf0-4c502ee98d90",
        "colab": {
          "base_uri": "https://localhost:8080/"
        }
      },
      "source": [
        "year = 2008\n",
        "win_per_season_df = pd.DataFrame(columns=['year', 'team', 'wins'])\n",
        "for items in teams_per_season.iteritems():\n",
        "  print(items)\n",
        "  extract_year = items[0][0].split('-')    \n",
        "  if int(extract_year[1])==year:\n",
        "    print(items[0][0])\n",
        "    win_series = {\n",
        "            'year': items[0][0],\n",
        "            'team': items[0][1],\n",
        "            'wins': items[1]}\n",
        "    win_per_season_df = win_per_season_df.append(win_series,ignore_index=True)\n",
        "    year = year + 1"
      ],
      "execution_count": 94,
      "outputs": [
        {
          "output_type": "stream",
          "text": [
            "(('IPL-2008', 'Rajasthan Royals'), 13)\n",
            "IPL-2008\n",
            "(('IPL-2008', 'Kings XI Punjab'), 10)\n",
            "(('IPL-2008', 'Chennai Super Kings'), 9)\n",
            "(('IPL-2008', 'Delhi Daredevils'), 7)\n",
            "(('IPL-2008', 'Mumbai Indians'), 7)\n",
            "(('IPL-2008', 'Kolkata Knight Riders'), 6)\n",
            "(('IPL-2008', 'Royal Challengers Bangalore'), 4)\n",
            "(('IPL-2008', 'Deccan Chargers'), 2)\n",
            "(('IPL-2009', 'Delhi Daredevils'), 10)\n",
            "IPL-2009\n",
            "(('IPL-2009', 'Deccan Chargers'), 9)\n",
            "(('IPL-2009', 'Royal Challengers Bangalore'), 9)\n",
            "(('IPL-2009', 'Chennai Super Kings'), 8)\n",
            "(('IPL-2009', 'Kings XI Punjab'), 7)\n",
            "(('IPL-2009', 'Rajasthan Royals'), 6)\n",
            "(('IPL-2009', 'Mumbai Indians'), 5)\n",
            "(('IPL-2009', 'Kolkata Knight Riders'), 3)\n",
            "(('IPL-2010', 'Mumbai Indians'), 11)\n",
            "IPL-2010\n",
            "(('IPL-2010', 'Chennai Super Kings'), 9)\n",
            "(('IPL-2010', 'Deccan Chargers'), 8)\n",
            "(('IPL-2010', 'Royal Challengers Bangalore'), 8)\n",
            "(('IPL-2010', 'Delhi Daredevils'), 7)\n",
            "(('IPL-2010', 'Kolkata Knight Riders'), 7)\n",
            "(('IPL-2010', 'Rajasthan Royals'), 6)\n",
            "(('IPL-2010', 'Kings XI Punjab'), 4)\n",
            "(('IPL-2011', 'Chennai Super Kings'), 11)\n",
            "IPL-2011\n",
            "(('IPL-2011', 'Mumbai Indians'), 10)\n",
            "(('IPL-2011', 'Royal Challengers Bangalore'), 10)\n",
            "(('IPL-2011', 'Kolkata Knight Riders'), 8)\n",
            "(('IPL-2011', 'Kings XI Punjab'), 7)\n",
            "(('IPL-2011', 'Deccan Chargers'), 6)\n",
            "(('IPL-2011', 'Kochi Tuskers Kerala'), 6)\n",
            "(('IPL-2011', 'Rajasthan Royals'), 6)\n",
            "(('IPL-2011', 'Delhi Daredevils'), 4)\n",
            "(('IPL-2011', 'Pune Warriors'), 4)\n",
            "(('IPL-2012', 'Kolkata Knight Riders'), 12)\n",
            "IPL-2012\n",
            "(('IPL-2012', 'Delhi Daredevils'), 11)\n",
            "(('IPL-2012', 'Chennai Super Kings'), 10)\n",
            "(('IPL-2012', 'Mumbai Indians'), 10)\n",
            "(('IPL-2012', 'Kings XI Punjab'), 8)\n",
            "(('IPL-2012', 'Royal Challengers Bangalore'), 8)\n",
            "(('IPL-2012', 'Rajasthan Royals'), 7)\n",
            "(('IPL-2012', 'Deccan Chargers'), 4)\n",
            "(('IPL-2012', 'Pune Warriors'), 4)\n",
            "(('IPL-2013', 'Mumbai Indians'), 13)\n",
            "IPL-2013\n",
            "(('IPL-2013', 'Chennai Super Kings'), 12)\n",
            "(('IPL-2013', 'Rajasthan Royals'), 11)\n",
            "(('IPL-2013', 'Sunrisers Hyderabad'), 10)\n",
            "(('IPL-2013', 'Royal Challengers Bangalore'), 9)\n",
            "(('IPL-2013', 'Kings XI Punjab'), 8)\n",
            "(('IPL-2013', 'Kolkata Knight Riders'), 6)\n",
            "(('IPL-2013', 'Pune Warriors'), 4)\n",
            "(('IPL-2013', 'Delhi Daredevils'), 3)\n",
            "(('IPL-2014', 'Kings XI Punjab'), 12)\n",
            "IPL-2014\n",
            "(('IPL-2014', 'Kolkata Knight Riders'), 11)\n",
            "(('IPL-2014', 'Chennai Super Kings'), 10)\n",
            "(('IPL-2014', 'Mumbai Indians'), 7)\n",
            "(('IPL-2014', 'Rajasthan Royals'), 7)\n",
            "(('IPL-2014', 'Sunrisers Hyderabad'), 6)\n",
            "(('IPL-2014', 'Royal Challengers Bangalore'), 5)\n",
            "(('IPL-2014', 'Delhi Daredevils'), 2)\n",
            "(('IPL-2015', 'Chennai Super Kings'), 10)\n",
            "IPL-2015\n",
            "(('IPL-2015', 'Mumbai Indians'), 10)\n",
            "(('IPL-2015', 'Royal Challengers Bangalore'), 8)\n",
            "(('IPL-2015', 'Kolkata Knight Riders'), 7)\n",
            "(('IPL-2015', 'Rajasthan Royals'), 7)\n",
            "(('IPL-2015', 'Sunrisers Hyderabad'), 7)\n",
            "(('IPL-2015', 'Delhi Daredevils'), 5)\n",
            "(('IPL-2015', 'Kings XI Punjab'), 3)\n",
            "(('IPL-2016', 'Sunrisers Hyderabad'), 11)\n",
            "IPL-2016\n",
            "(('IPL-2016', 'Gujarat Lions'), 9)\n",
            "(('IPL-2016', 'Royal Challengers Bangalore'), 9)\n",
            "(('IPL-2016', 'Kolkata Knight Riders'), 8)\n",
            "(('IPL-2016', 'Delhi Daredevils'), 7)\n",
            "(('IPL-2016', 'Mumbai Indians'), 7)\n",
            "(('IPL-2016', 'Rising Pune Supergiants'), 5)\n",
            "(('IPL-2016', 'Kings XI Punjab'), 4)\n",
            "(('IPL-2017', 'Mumbai Indians'), 12)\n",
            "IPL-2017\n",
            "(('IPL-2017', 'Rising Pune Supergiant'), 10)\n",
            "(('IPL-2017', 'Kolkata Knight Riders'), 9)\n",
            "(('IPL-2017', 'Sunrisers Hyderabad'), 8)\n",
            "(('IPL-2017', 'Kings XI Punjab'), 7)\n",
            "(('IPL-2017', 'Delhi Daredevils'), 6)\n",
            "(('IPL-2017', 'Gujarat Lions'), 4)\n",
            "(('IPL-2017', 'Royal Challengers Bangalore'), 3)\n",
            "(('IPL-2018', 'Chennai Super Kings'), 11)\n",
            "IPL-2018\n",
            "(('IPL-2018', 'Sunrisers Hyderabad'), 10)\n",
            "(('IPL-2018', 'Kolkata Knight Riders'), 9)\n",
            "(('IPL-2018', 'Rajasthan Royals'), 7)\n",
            "(('IPL-2018', 'Kings XI Punjab'), 6)\n",
            "(('IPL-2018', 'Mumbai Indians'), 6)\n",
            "(('IPL-2018', 'Royal Challengers Bangalore'), 6)\n",
            "(('IPL-2018', 'Delhi Daredevils'), 5)\n",
            "(('IPL-2019', 'Mumbai Indians'), 11)\n",
            "IPL-2019\n",
            "(('IPL-2019', 'Chennai Super Kings'), 10)\n",
            "(('IPL-2019', 'Delhi Capitals'), 10)\n",
            "(('IPL-2019', 'Kings XI Punjab'), 6)\n",
            "(('IPL-2019', 'Kolkata Knight Riders'), 6)\n",
            "(('IPL-2019', 'Sunrisers Hyderabad'), 6)\n",
            "(('IPL-2019', 'Rajasthan Royals'), 5)\n",
            "(('IPL-2019', 'Royal Challengers Bangalore'), 5)\n"
          ],
          "name": "stdout"
        }
      ]
    },
    {
      "cell_type": "code",
      "metadata": {
        "id": "o-C_MccGUvvR",
        "outputId": "4fccc14d-c98d-4afc-b242-c2612580652a",
        "colab": {
          "base_uri": "https://localhost:8080/",
          "height": 417
        }
      },
      "source": [
        "win_per_season_df"
      ],
      "execution_count": 96,
      "outputs": [
        {
          "output_type": "execute_result",
          "data": {
            "text/html": [
              "<div>\n",
              "<style scoped>\n",
              "    .dataframe tbody tr th:only-of-type {\n",
              "        vertical-align: middle;\n",
              "    }\n",
              "\n",
              "    .dataframe tbody tr th {\n",
              "        vertical-align: top;\n",
              "    }\n",
              "\n",
              "    .dataframe thead th {\n",
              "        text-align: right;\n",
              "    }\n",
              "</style>\n",
              "<table border=\"1\" class=\"dataframe\">\n",
              "  <thead>\n",
              "    <tr style=\"text-align: right;\">\n",
              "      <th></th>\n",
              "      <th>year</th>\n",
              "      <th>team</th>\n",
              "      <th>wins</th>\n",
              "    </tr>\n",
              "  </thead>\n",
              "  <tbody>\n",
              "    <tr>\n",
              "      <th>0</th>\n",
              "      <td>IPL-2008</td>\n",
              "      <td>Rajasthan Royals</td>\n",
              "      <td>13</td>\n",
              "    </tr>\n",
              "    <tr>\n",
              "      <th>1</th>\n",
              "      <td>IPL-2009</td>\n",
              "      <td>Delhi Daredevils</td>\n",
              "      <td>10</td>\n",
              "    </tr>\n",
              "    <tr>\n",
              "      <th>2</th>\n",
              "      <td>IPL-2010</td>\n",
              "      <td>Mumbai Indians</td>\n",
              "      <td>11</td>\n",
              "    </tr>\n",
              "    <tr>\n",
              "      <th>3</th>\n",
              "      <td>IPL-2011</td>\n",
              "      <td>Chennai Super Kings</td>\n",
              "      <td>11</td>\n",
              "    </tr>\n",
              "    <tr>\n",
              "      <th>4</th>\n",
              "      <td>IPL-2012</td>\n",
              "      <td>Kolkata Knight Riders</td>\n",
              "      <td>12</td>\n",
              "    </tr>\n",
              "    <tr>\n",
              "      <th>5</th>\n",
              "      <td>IPL-2013</td>\n",
              "      <td>Mumbai Indians</td>\n",
              "      <td>13</td>\n",
              "    </tr>\n",
              "    <tr>\n",
              "      <th>6</th>\n",
              "      <td>IPL-2014</td>\n",
              "      <td>Kings XI Punjab</td>\n",
              "      <td>12</td>\n",
              "    </tr>\n",
              "    <tr>\n",
              "      <th>7</th>\n",
              "      <td>IPL-2015</td>\n",
              "      <td>Chennai Super Kings</td>\n",
              "      <td>10</td>\n",
              "    </tr>\n",
              "    <tr>\n",
              "      <th>8</th>\n",
              "      <td>IPL-2016</td>\n",
              "      <td>Sunrisers Hyderabad</td>\n",
              "      <td>11</td>\n",
              "    </tr>\n",
              "    <tr>\n",
              "      <th>9</th>\n",
              "      <td>IPL-2017</td>\n",
              "      <td>Mumbai Indians</td>\n",
              "      <td>12</td>\n",
              "    </tr>\n",
              "    <tr>\n",
              "      <th>10</th>\n",
              "      <td>IPL-2018</td>\n",
              "      <td>Chennai Super Kings</td>\n",
              "      <td>11</td>\n",
              "    </tr>\n",
              "    <tr>\n",
              "      <th>11</th>\n",
              "      <td>IPL-2019</td>\n",
              "      <td>Mumbai Indians</td>\n",
              "      <td>11</td>\n",
              "    </tr>\n",
              "  </tbody>\n",
              "</table>\n",
              "</div>"
            ],
            "text/plain": [
              "        year                   team wins\n",
              "0   IPL-2008       Rajasthan Royals   13\n",
              "1   IPL-2009       Delhi Daredevils   10\n",
              "2   IPL-2010         Mumbai Indians   11\n",
              "3   IPL-2011    Chennai Super Kings   11\n",
              "4   IPL-2012  Kolkata Knight Riders   12\n",
              "5   IPL-2013         Mumbai Indians   13\n",
              "6   IPL-2014        Kings XI Punjab   12\n",
              "7   IPL-2015    Chennai Super Kings   10\n",
              "8   IPL-2016    Sunrisers Hyderabad   11\n",
              "9   IPL-2017         Mumbai Indians   12\n",
              "10  IPL-2018    Chennai Super Kings   11\n",
              "11  IPL-2019         Mumbai Indians   11"
            ]
          },
          "metadata": {
            "tags": []
          },
          "execution_count": 96
        }
      ]
    },
    {
      "cell_type": "code",
      "metadata": {
        "id": "aZdBt7NkUvrZ",
        "outputId": "be472d24-d935-4757-dfe3-cb89b9b0c901",
        "colab": {
          "base_uri": "https://localhost:8080/",
          "height": 394
        }
      },
      "source": [
        "sns.barplot('wins', 'team', hue='year', data=win_per_season_df);"
      ],
      "execution_count": 97,
      "outputs": [
        {
          "output_type": "stream",
          "text": [
            "/usr/local/lib/python3.6/dist-packages/seaborn/_decorators.py:43: FutureWarning: Pass the following variables as keyword args: x, y. From version 0.12, the only valid positional argument will be `data`, and passing other arguments without an explicit keyword will result in an error or misinterpretation.\n",
            "  FutureWarning\n"
          ],
          "name": "stderr"
        },
        {
          "output_type": "display_data",
          "data": {
            "image/png": "[encoded data removed]",
            "text/plain": [
              "<Figure size 720x360 with 1 Axes>"
            ]
          },
          "metadata": {
            "tags": []
          }
        }
      ]
    },
    {
      "cell_type": "markdown",
      "metadata": {
        "id": "eSCwmi4DyySZ"
      },
      "source": [
        "From the barplot, we can easily make inferences regarding the year in which a particular team has scored the maximum wins(and also the number of wins)."
      ]
    },
    {
      "cell_type": "markdown",
      "metadata": {
        "id": "nzV1tQeSy3zw"
      },
      "source": [
        "Observations:\n",
        "Mumbai Indians has secured the most wins in four seasons(2010, 2013, 2017, and 2019)."
      ]
    },
    {
      "cell_type": "markdown",
      "metadata": {
        "id": "xTv3L3js8um6"
      },
      "source": [
        "One better way to analyse winning team is to fond out the win percentage."
      ]
    },
    {
      "cell_type": "code",
      "metadata": {
        "id": "XN0JqQ008-ec",
        "outputId": "ab7c8ab2-abc6-4472-e1f2-a642ba6ef880",
        "colab": {
          "base_uri": "https://localhost:8080/"
        }
      },
      "source": [
        "total_matches_played = (matches_df.team2.value_counts() + matches_df.team1.value_counts()).sort_values(ascending = False)\n",
        "total_matches_played"
      ],
      "execution_count": 139,
      "outputs": [
        {
          "output_type": "execute_result",
          "data": {
            "text/plain": [
              "Mumbai Indians                 187\n",
              "Royal Challengers Bangalore    180\n",
              "Kolkata Knight Riders          178\n",
              "Kings XI Punjab                176\n",
              "Chennai Super Kings            164\n",
              "Delhi Daredevils               161\n",
              "Rajasthan Royals               147\n",
              "Sunrisers Hyderabad            108\n",
              "Deccan Chargers                 75\n",
              "Pune Warriors                   46\n",
              "Gujarat Lions                   30\n",
              "Rising Pune Supergiant          16\n",
              "Delhi Capitals                  16\n",
              "Rising Pune Supergiants         14\n",
              "Kochi Tuskers Kerala            14\n",
              "dtype: int64"
            ]
          },
          "metadata": {
            "tags": []
          },
          "execution_count": 139
        }
      ]
    },
    {
      "cell_type": "code",
      "metadata": {
        "id": "oHPX1Jij85g8",
        "outputId": "f5c35fa3-e27a-4201-963b-be3da6033a7e",
        "colab": {
          "base_uri": "https://localhost:8080/"
        }
      },
      "source": [
        "most_wins = matches_df.winner.value_counts()"
      ],
      "execution_count": 141,
      "outputs": [
        {
          "output_type": "execute_result",
          "data": {
            "text/plain": [
              "Mumbai Indians                 109\n",
              "Chennai Super Kings            100\n",
              "Kolkata Knight Riders           92\n",
              "Royal Challengers Bangalore     84\n",
              "Kings XI Punjab                 82\n",
              "Rajasthan Royals                75\n",
              "Delhi Daredevils                67\n",
              "Sunrisers Hyderabad             58\n",
              "Deccan Chargers                 29\n",
              "Gujarat Lions                   13\n",
              "Pune Warriors                   12\n",
              "Rising Pune Supergiant          10\n",
              "Delhi Capitals                  10\n",
              "Kochi Tuskers Kerala             6\n",
              "Rising Pune Supergiants          5\n",
              "Name: winner, dtype: int64"
            ]
          },
          "metadata": {
            "tags": []
          },
          "execution_count": 141
        }
      ]
    },
    {
      "cell_type": "code",
      "metadata": {
        "id": "l0m7uNwT8mUI",
        "outputId": "ddd92f82-a850-40d5-ac7e-28266802a422",
        "colab": {
          "base_uri": "https://localhost:8080/"
        }
      },
      "source": [
        "win_percentage = (most_wins / total_matches_played).sort_values(ascending = False) * 100\n",
        "win_percentage"
      ],
      "execution_count": 142,
      "outputs": [
        {
          "output_type": "execute_result",
          "data": {
            "text/plain": [
              "Rising Pune Supergiant         62.500000\n",
              "Delhi Capitals                 62.500000\n",
              "Chennai Super Kings            60.975610\n",
              "Mumbai Indians                 58.288770\n",
              "Sunrisers Hyderabad            53.703704\n",
              "Kolkata Knight Riders          51.685393\n",
              "Rajasthan Royals               51.020408\n",
              "Royal Challengers Bangalore    46.666667\n",
              "Kings XI Punjab                46.590909\n",
              "Gujarat Lions                  43.333333\n",
              "Kochi Tuskers Kerala           42.857143\n",
              "Delhi Daredevils               41.614907\n",
              "Deccan Chargers                38.666667\n",
              "Rising Pune Supergiants        35.714286\n",
              "Pune Warriors                  26.086957\n",
              "dtype: float64"
            ]
          },
          "metadata": {
            "tags": []
          },
          "execution_count": 142
        }
      ]
    },
    {
      "cell_type": "code",
      "metadata": {
        "id": "57HXrAdM8lbA",
        "outputId": "f2a9073e-a957-410a-fef2-d73558c87985",
        "colab": {
          "base_uri": "https://localhost:8080/",
          "height": 531
        }
      },
      "source": [
        "plt.title('Win Percentage')\n",
        "win_percentage_plot = sns.barplot(y = win_percentage.index, x = win_percentage)\n",
        "total_matches_played_plot.set(ylabel = 'Teams', xlabel = 'Percentage')"
      ],
      "execution_count": 144,
      "outputs": [
        {
          "output_type": "execute_result",
          "data": {
            "text/plain": [
              "[Text(20.19999999999999, 0.5, 'Teams'),\n",
              " Text(0.5, 20.200000000000003, 'Percentage')]"
            ]
          },
          "metadata": {
            "tags": []
          },
          "execution_count": 144
        },
        {
          "output_type": "display_data",
          "data": {
            "image/png": "[encoded data removed]",
            "text/plain": [
              "<Figure size 1490.4x667.44 with 1 Axes>"
            ]
          },
          "metadata": {
            "tags": []
          }
        }
      ]
    },
    {
      "cell_type": "markdown",
      "metadata": {
        "id": "W-EveiWU9qB3"
      },
      "source": [
        "Win percentage is highest for Rising Pune Supergiants."
      ]
    },
    {
      "cell_type": "markdown",
      "metadata": {
        "id": "tO0K2ejl-PgI"
      },
      "source": [
        "Now finding the consistency of each team over the IPL years."
      ]
    },
    {
      "cell_type": "code",
      "metadata": {
        "id": "6lvgqiln9o6b"
      },
      "source": [
        "matches_won_each_season = pd.crosstab(matches_df['winner'], matches_df['Season'])"
      ],
      "execution_count": 146,
      "outputs": []
    },
    {
      "cell_type": "code",
      "metadata": {
        "id": "M_2ebUzx-Jse",
        "outputId": "102827d5-a278-437c-d2c7-5e55f0c8f353",
        "colab": {
          "base_uri": "https://localhost:8080/",
          "height": 539
        }
      },
      "source": [
        "matches_won_each_season"
      ],
      "execution_count": 147,
      "outputs": [
        {
          "output_type": "execute_result",
          "data": {
            "text/html": [
              "<div>\n",
              "<style scoped>\n",
              "    .dataframe tbody tr th:only-of-type {\n",
              "        vertical-align: middle;\n",
              "    }\n",
              "\n",
              "    .dataframe tbody tr th {\n",
              "        vertical-align: top;\n",
              "    }\n",
              "\n",
              "    .dataframe thead th {\n",
              "        text-align: right;\n",
              "    }\n",
              "</style>\n",
              "<table border=\"1\" class=\"dataframe\">\n",
              "  <thead>\n",
              "    <tr style=\"text-align: right;\">\n",
              "      <th>Season</th>\n",
              "      <th>IPL-2008</th>\n",
              "      <th>IPL-2009</th>\n",
              "      <th>IPL-2010</th>\n",
              "      <th>IPL-2011</th>\n",
              "      <th>IPL-2012</th>\n",
              "      <th>IPL-2013</th>\n",
              "      <th>IPL-2014</th>\n",
              "      <th>IPL-2015</th>\n",
              "      <th>IPL-2016</th>\n",
              "      <th>IPL-2017</th>\n",
              "      <th>IPL-2018</th>\n",
              "      <th>IPL-2019</th>\n",
              "    </tr>\n",
              "    <tr>\n",
              "      <th>winner</th>\n",
              "      <th></th>\n",
              "      <th></th>\n",
              "      <th></th>\n",
              "      <th></th>\n",
              "      <th></th>\n",
              "      <th></th>\n",
              "      <th></th>\n",
              "      <th></th>\n",
              "      <th></th>\n",
              "      <th></th>\n",
              "      <th></th>\n",
              "      <th></th>\n",
              "    </tr>\n",
              "  </thead>\n",
              "  <tbody>\n",
              "    <tr>\n",
              "      <th>Chennai Super Kings</th>\n",
              "      <td>9</td>\n",
              "      <td>8</td>\n",
              "      <td>9</td>\n",
              "      <td>11</td>\n",
              "      <td>10</td>\n",
              "      <td>12</td>\n",
              "      <td>10</td>\n",
              "      <td>10</td>\n",
              "      <td>0</td>\n",
              "      <td>0</td>\n",
              "      <td>11</td>\n",
              "      <td>10</td>\n",
              "    </tr>\n",
              "    <tr>\n",
              "      <th>Deccan Chargers</th>\n",
              "      <td>2</td>\n",
              "      <td>9</td>\n",
              "      <td>8</td>\n",
              "      <td>6</td>\n",
              "      <td>4</td>\n",
              "      <td>0</td>\n",
              "      <td>0</td>\n",
              "      <td>0</td>\n",
              "      <td>0</td>\n",
              "      <td>0</td>\n",
              "      <td>0</td>\n",
              "      <td>0</td>\n",
              "    </tr>\n",
              "    <tr>\n",
              "      <th>Delhi Capitals</th>\n",
              "      <td>0</td>\n",
              "      <td>0</td>\n",
              "      <td>0</td>\n",
              "      <td>0</td>\n",
              "      <td>0</td>\n",
              "      <td>0</td>\n",
              "      <td>0</td>\n",
              "      <td>0</td>\n",
              "      <td>0</td>\n",
              "      <td>0</td>\n",
              "      <td>0</td>\n",
              "      <td>10</td>\n",
              "    </tr>\n",
              "    <tr>\n",
              "      <th>Delhi Daredevils</th>\n",
              "      <td>7</td>\n",
              "      <td>10</td>\n",
              "      <td>7</td>\n",
              "      <td>4</td>\n",
              "      <td>11</td>\n",
              "      <td>3</td>\n",
              "      <td>2</td>\n",
              "      <td>5</td>\n",
              "      <td>7</td>\n",
              "      <td>6</td>\n",
              "      <td>5</td>\n",
              "      <td>0</td>\n",
              "    </tr>\n",
              "    <tr>\n",
              "      <th>Gujarat Lions</th>\n",
              "      <td>0</td>\n",
              "      <td>0</td>\n",
              "      <td>0</td>\n",
              "      <td>0</td>\n",
              "      <td>0</td>\n",
              "      <td>0</td>\n",
              "      <td>0</td>\n",
              "      <td>0</td>\n",
              "      <td>9</td>\n",
              "      <td>4</td>\n",
              "      <td>0</td>\n",
              "      <td>0</td>\n",
              "    </tr>\n",
              "    <tr>\n",
              "      <th>Kings XI Punjab</th>\n",
              "      <td>10</td>\n",
              "      <td>7</td>\n",
              "      <td>4</td>\n",
              "      <td>7</td>\n",
              "      <td>8</td>\n",
              "      <td>8</td>\n",
              "      <td>12</td>\n",
              "      <td>3</td>\n",
              "      <td>4</td>\n",
              "      <td>7</td>\n",
              "      <td>6</td>\n",
              "      <td>6</td>\n",
              "    </tr>\n",
              "    <tr>\n",
              "      <th>Kochi Tuskers Kerala</th>\n",
              "      <td>0</td>\n",
              "      <td>0</td>\n",
              "      <td>0</td>\n",
              "      <td>6</td>\n",
              "      <td>0</td>\n",
              "      <td>0</td>\n",
              "      <td>0</td>\n",
              "      <td>0</td>\n",
              "      <td>0</td>\n",
              "      <td>0</td>\n",
              "      <td>0</td>\n",
              "      <td>0</td>\n",
              "    </tr>\n",
              "    <tr>\n",
              "      <th>Kolkata Knight Riders</th>\n",
              "      <td>6</td>\n",
              "      <td>3</td>\n",
              "      <td>7</td>\n",
              "      <td>8</td>\n",
              "      <td>12</td>\n",
              "      <td>6</td>\n",
              "      <td>11</td>\n",
              "      <td>7</td>\n",
              "      <td>8</td>\n",
              "      <td>9</td>\n",
              "      <td>9</td>\n",
              "      <td>6</td>\n",
              "    </tr>\n",
              "    <tr>\n",
              "      <th>Mumbai Indians</th>\n",
              "      <td>7</td>\n",
              "      <td>5</td>\n",
              "      <td>11</td>\n",
              "      <td>10</td>\n",
              "      <td>10</td>\n",
              "      <td>13</td>\n",
              "      <td>7</td>\n",
              "      <td>10</td>\n",
              "      <td>7</td>\n",
              "      <td>12</td>\n",
              "      <td>6</td>\n",
              "      <td>11</td>\n",
              "    </tr>\n",
              "    <tr>\n",
              "      <th>Pune Warriors</th>\n",
              "      <td>0</td>\n",
              "      <td>0</td>\n",
              "      <td>0</td>\n",
              "      <td>4</td>\n",
              "      <td>4</td>\n",
              "      <td>4</td>\n",
              "      <td>0</td>\n",
              "      <td>0</td>\n",
              "      <td>0</td>\n",
              "      <td>0</td>\n",
              "      <td>0</td>\n",
              "      <td>0</td>\n",
              "    </tr>\n",
              "    <tr>\n",
              "      <th>Rajasthan Royals</th>\n",
              "      <td>13</td>\n",
              "      <td>6</td>\n",
              "      <td>6</td>\n",
              "      <td>6</td>\n",
              "      <td>7</td>\n",
              "      <td>11</td>\n",
              "      <td>7</td>\n",
              "      <td>7</td>\n",
              "      <td>0</td>\n",
              "      <td>0</td>\n",
              "      <td>7</td>\n",
              "      <td>5</td>\n",
              "    </tr>\n",
              "    <tr>\n",
              "      <th>Rising Pune Supergiant</th>\n",
              "      <td>0</td>\n",
              "      <td>0</td>\n",
              "      <td>0</td>\n",
              "      <td>0</td>\n",
              "      <td>0</td>\n",
              "      <td>0</td>\n",
              "      <td>0</td>\n",
              "      <td>0</td>\n",
              "      <td>0</td>\n",
              "      <td>10</td>\n",
              "      <td>0</td>\n",
              "      <td>0</td>\n",
              "    </tr>\n",
              "    <tr>\n",
              "      <th>Rising Pune Supergiants</th>\n",
              "      <td>0</td>\n",
              "      <td>0</td>\n",
              "      <td>0</td>\n",
              "      <td>0</td>\n",
              "      <td>0</td>\n",
              "      <td>0</td>\n",
              "      <td>0</td>\n",
              "      <td>0</td>\n",
              "      <td>5</td>\n",
              "      <td>0</td>\n",
              "      <td>0</td>\n",
              "      <td>0</td>\n",
              "    </tr>\n",
              "    <tr>\n",
              "      <th>Royal Challengers Bangalore</th>\n",
              "      <td>4</td>\n",
              "      <td>9</td>\n",
              "      <td>8</td>\n",
              "      <td>10</td>\n",
              "      <td>8</td>\n",
              "      <td>9</td>\n",
              "      <td>5</td>\n",
              "      <td>8</td>\n",
              "      <td>9</td>\n",
              "      <td>3</td>\n",
              "      <td>6</td>\n",
              "      <td>5</td>\n",
              "    </tr>\n",
              "    <tr>\n",
              "      <th>Sunrisers Hyderabad</th>\n",
              "      <td>0</td>\n",
              "      <td>0</td>\n",
              "      <td>0</td>\n",
              "      <td>0</td>\n",
              "      <td>0</td>\n",
              "      <td>10</td>\n",
              "      <td>6</td>\n",
              "      <td>7</td>\n",
              "      <td>11</td>\n",
              "      <td>8</td>\n",
              "      <td>10</td>\n",
              "      <td>6</td>\n",
              "    </tr>\n",
              "  </tbody>\n",
              "</table>\n",
              "</div>"
            ],
            "text/plain": [
              "Season                       IPL-2008  IPL-2009  ...  IPL-2018  IPL-2019\n",
              "winner                                           ...                    \n",
              "Chennai Super Kings                 9         8  ...        11        10\n",
              "Deccan Chargers                     2         9  ...         0         0\n",
              "Delhi Capitals                      0         0  ...         0        10\n",
              "Delhi Daredevils                    7        10  ...         5         0\n",
              "Gujarat Lions                       0         0  ...         0         0\n",
              "Kings XI Punjab                    10         7  ...         6         6\n",
              "Kochi Tuskers Kerala                0         0  ...         0         0\n",
              "Kolkata Knight Riders               6         3  ...         9         6\n",
              "Mumbai Indians                      7         5  ...         6        11\n",
              "Pune Warriors                       0         0  ...         0         0\n",
              "Rajasthan Royals                   13         6  ...         7         5\n",
              "Rising Pune Supergiant              0         0  ...         0         0\n",
              "Rising Pune Supergiants             0         0  ...         0         0\n",
              "Royal Challengers Bangalore         4         9  ...         6         5\n",
              "Sunrisers Hyderabad                 0         0  ...        10         6\n",
              "\n",
              "[15 rows x 12 columns]"
            ]
          },
          "metadata": {
            "tags": []
          },
          "execution_count": 147
        }
      ]
    },
    {
      "cell_type": "code",
      "metadata": {
        "id": "KYCYyBGh-wNb",
        "outputId": "4a4eb6f3-8e6d-4a19-cf9d-150e5ad7d8c2",
        "colab": {
          "base_uri": "https://localhost:8080/",
          "height": 492
        }
      },
      "source": [
        "plt.xlabel('Seasons')\n",
        "plt.ylabel('Teams')\n",
        "plt.title('Matches Won Each Season')\n",
        "sns.heatmap(matches_won_each_season, annot = True, cmap = 'flare', fmt = 'd', cbar_kws={\"orientation\": \"horizontal\"})"
      ],
      "execution_count": 148,
      "outputs": [
        {
          "output_type": "execute_result",
          "data": {
            "text/plain": [
              "<matplotlib.axes._subplots.AxesSubplot at 0x7f843f139b00>"
            ]
          },
          "metadata": {
            "tags": []
          },
          "execution_count": 148
        },
        {
          "output_type": "display_data",
          "data": {
            "image/png": "[encoded data removed]",
            "text/plain": [
              "<Figure size 1490.4x667.44 with 2 Axes>"
            ]
          },
          "metadata": {
            "tags": []
          }
        }
      ]
    },
    {
      "cell_type": "code",
      "metadata": {
        "id": "5RuU91vFUvpS"
      },
      "source": [
        "venue_ser = matches_df['venue'].value_counts()"
      ],
      "execution_count": 98,
      "outputs": []
    },
    {
      "cell_type": "code",
      "metadata": {
        "id": "Pzu_nUXXUvib"
      },
      "source": [
        "venue_df = pd.DataFrame(columns=['venue', 'matches'])\n",
        "for items in venue_ser.iteritems():\n",
        "    temp_df = pd.DataFrame({\n",
        "        'venue':[items[0]],\n",
        "        'matches':[items[1]]\n",
        "    })\n",
        "    venue_df = venue_df.append(temp_df, ignore_index=True)"
      ],
      "execution_count": 99,
      "outputs": []
    },
    {
      "cell_type": "code",
      "metadata": {
        "id": "m31x1OeG2DcA",
        "outputId": "bc5d0f60-7ebb-4b0a-84b6-3847d2a569e7",
        "colab": {
          "base_uri": "https://localhost:8080/",
          "height": 1000
        }
      },
      "source": [
        "venue_df"
      ],
      "execution_count": 100,
      "outputs": [
        {
          "output_type": "execute_result",
          "data": {
            "text/html": [
              "<div>\n",
              "<style scoped>\n",
              "    .dataframe tbody tr th:only-of-type {\n",
              "        vertical-align: middle;\n",
              "    }\n",
              "\n",
              "    .dataframe tbody tr th {\n",
              "        vertical-align: top;\n",
              "    }\n",
              "\n",
              "    .dataframe thead th {\n",
              "        text-align: right;\n",
              "    }\n",
              "</style>\n",
              "<table border=\"1\" class=\"dataframe\">\n",
              "  <thead>\n",
              "    <tr style=\"text-align: right;\">\n",
              "      <th></th>\n",
              "      <th>venue</th>\n",
              "      <th>matches</th>\n",
              "    </tr>\n",
              "  </thead>\n",
              "  <tbody>\n",
              "    <tr>\n",
              "      <th>0</th>\n",
              "      <td>Eden Gardens</td>\n",
              "      <td>77</td>\n",
              "    </tr>\n",
              "    <tr>\n",
              "      <th>1</th>\n",
              "      <td>M Chinnaswamy Stadium</td>\n",
              "      <td>73</td>\n",
              "    </tr>\n",
              "    <tr>\n",
              "      <th>2</th>\n",
              "      <td>Wankhede Stadium</td>\n",
              "      <td>73</td>\n",
              "    </tr>\n",
              "    <tr>\n",
              "      <th>3</th>\n",
              "      <td>Feroz Shah Kotla</td>\n",
              "      <td>67</td>\n",
              "    </tr>\n",
              "    <tr>\n",
              "      <th>4</th>\n",
              "      <td>Rajiv Gandhi International Stadium, Uppal</td>\n",
              "      <td>56</td>\n",
              "    </tr>\n",
              "    <tr>\n",
              "      <th>5</th>\n",
              "      <td>MA Chidambaram Stadium, Chepauk</td>\n",
              "      <td>49</td>\n",
              "    </tr>\n",
              "    <tr>\n",
              "      <th>6</th>\n",
              "      <td>Sawai Mansingh Stadium</td>\n",
              "      <td>47</td>\n",
              "    </tr>\n",
              "    <tr>\n",
              "      <th>7</th>\n",
              "      <td>Punjab Cricket Association Stadium, Mohali</td>\n",
              "      <td>35</td>\n",
              "    </tr>\n",
              "    <tr>\n",
              "      <th>8</th>\n",
              "      <td>Maharashtra Cricket Association Stadium</td>\n",
              "      <td>21</td>\n",
              "    </tr>\n",
              "    <tr>\n",
              "      <th>9</th>\n",
              "      <td>Subrata Roy Sahara Stadium</td>\n",
              "      <td>17</td>\n",
              "    </tr>\n",
              "    <tr>\n",
              "      <th>10</th>\n",
              "      <td>Dr DY Patil Sports Academy</td>\n",
              "      <td>17</td>\n",
              "    </tr>\n",
              "    <tr>\n",
              "      <th>11</th>\n",
              "      <td>Kingsmead</td>\n",
              "      <td>15</td>\n",
              "    </tr>\n",
              "    <tr>\n",
              "      <th>12</th>\n",
              "      <td>Punjab Cricket Association IS Bindra Stadium, ...</td>\n",
              "      <td>14</td>\n",
              "    </tr>\n",
              "    <tr>\n",
              "      <th>13</th>\n",
              "      <td>Sardar Patel Stadium, Motera</td>\n",
              "      <td>12</td>\n",
              "    </tr>\n",
              "    <tr>\n",
              "      <th>14</th>\n",
              "      <td>SuperSport Park</td>\n",
              "      <td>12</td>\n",
              "    </tr>\n",
              "    <tr>\n",
              "      <th>15</th>\n",
              "      <td>Dr. Y.S. Rajasekhara Reddy ACA-VDCA Cricket St...</td>\n",
              "      <td>11</td>\n",
              "    </tr>\n",
              "    <tr>\n",
              "      <th>16</th>\n",
              "      <td>Brabourne Stadium</td>\n",
              "      <td>11</td>\n",
              "    </tr>\n",
              "    <tr>\n",
              "      <th>17</th>\n",
              "      <td>Saurashtra Cricket Association Stadium</td>\n",
              "      <td>10</td>\n",
              "    </tr>\n",
              "    <tr>\n",
              "      <th>18</th>\n",
              "      <td>Himachal Pradesh Cricket Association Stadium</td>\n",
              "      <td>9</td>\n",
              "    </tr>\n",
              "    <tr>\n",
              "      <th>19</th>\n",
              "      <td>Holkar Cricket Stadium</td>\n",
              "      <td>9</td>\n",
              "    </tr>\n",
              "    <tr>\n",
              "      <th>20</th>\n",
              "      <td>New Wanderers Stadium</td>\n",
              "      <td>8</td>\n",
              "    </tr>\n",
              "    <tr>\n",
              "      <th>21</th>\n",
              "      <td>Rajiv Gandhi Intl. Cricket Stadium</td>\n",
              "      <td>8</td>\n",
              "    </tr>\n",
              "    <tr>\n",
              "      <th>22</th>\n",
              "      <td>M. A. Chidambaram Stadium</td>\n",
              "      <td>8</td>\n",
              "    </tr>\n",
              "    <tr>\n",
              "      <th>23</th>\n",
              "      <td>Newlands</td>\n",
              "      <td>7</td>\n",
              "    </tr>\n",
              "    <tr>\n",
              "      <th>24</th>\n",
              "      <td>IS Bindra Stadium</td>\n",
              "      <td>7</td>\n",
              "    </tr>\n",
              "    <tr>\n",
              "      <th>25</th>\n",
              "      <td>Feroz Shah Kotla Ground</td>\n",
              "      <td>7</td>\n",
              "    </tr>\n",
              "    <tr>\n",
              "      <th>26</th>\n",
              "      <td>St George's Park</td>\n",
              "      <td>7</td>\n",
              "    </tr>\n",
              "    <tr>\n",
              "      <th>27</th>\n",
              "      <td>Dubai International Cricket Stadium</td>\n",
              "      <td>7</td>\n",
              "    </tr>\n",
              "    <tr>\n",
              "      <th>28</th>\n",
              "      <td>M. Chinnaswamy Stadium</td>\n",
              "      <td>7</td>\n",
              "    </tr>\n",
              "    <tr>\n",
              "      <th>29</th>\n",
              "      <td>Sheikh Zayed Stadium</td>\n",
              "      <td>7</td>\n",
              "    </tr>\n",
              "    <tr>\n",
              "      <th>30</th>\n",
              "      <td>Barabati Stadium</td>\n",
              "      <td>7</td>\n",
              "    </tr>\n",
              "    <tr>\n",
              "      <th>31</th>\n",
              "      <td>JSCA International Stadium Complex</td>\n",
              "      <td>7</td>\n",
              "    </tr>\n",
              "    <tr>\n",
              "      <th>32</th>\n",
              "      <td>Shaheed Veer Narayan Singh International Stadium</td>\n",
              "      <td>6</td>\n",
              "    </tr>\n",
              "    <tr>\n",
              "      <th>33</th>\n",
              "      <td>Sharjah Cricket Stadium</td>\n",
              "      <td>6</td>\n",
              "    </tr>\n",
              "    <tr>\n",
              "      <th>34</th>\n",
              "      <td>Nehru Stadium</td>\n",
              "      <td>5</td>\n",
              "    </tr>\n",
              "    <tr>\n",
              "      <th>35</th>\n",
              "      <td>Green Park</td>\n",
              "      <td>4</td>\n",
              "    </tr>\n",
              "    <tr>\n",
              "      <th>36</th>\n",
              "      <td>De Beers Diamond Oval</td>\n",
              "      <td>3</td>\n",
              "    </tr>\n",
              "    <tr>\n",
              "      <th>37</th>\n",
              "      <td>Vidarbha Cricket Association Stadium, Jamtha</td>\n",
              "      <td>3</td>\n",
              "    </tr>\n",
              "    <tr>\n",
              "      <th>38</th>\n",
              "      <td>Buffalo Park</td>\n",
              "      <td>3</td>\n",
              "    </tr>\n",
              "    <tr>\n",
              "      <th>39</th>\n",
              "      <td>ACA-VDCA Stadium</td>\n",
              "      <td>2</td>\n",
              "    </tr>\n",
              "    <tr>\n",
              "      <th>40</th>\n",
              "      <td>OUTsurance Oval</td>\n",
              "      <td>2</td>\n",
              "    </tr>\n",
              "  </tbody>\n",
              "</table>\n",
              "</div>"
            ],
            "text/plain": [
              "                                                venue matches\n",
              "0                                        Eden Gardens      77\n",
              "1                               M Chinnaswamy Stadium      73\n",
              "2                                    Wankhede Stadium      73\n",
              "3                                    Feroz Shah Kotla      67\n",
              "4           Rajiv Gandhi International Stadium, Uppal      56\n",
              "5                     MA Chidambaram Stadium, Chepauk      49\n",
              "6                              Sawai Mansingh Stadium      47\n",
              "7          Punjab Cricket Association Stadium, Mohali      35\n",
              "8             Maharashtra Cricket Association Stadium      21\n",
              "9                          Subrata Roy Sahara Stadium      17\n",
              "10                         Dr DY Patil Sports Academy      17\n",
              "11                                          Kingsmead      15\n",
              "12  Punjab Cricket Association IS Bindra Stadium, ...      14\n",
              "13                       Sardar Patel Stadium, Motera      12\n",
              "14                                    SuperSport Park      12\n",
              "15  Dr. Y.S. Rajasekhara Reddy ACA-VDCA Cricket St...      11\n",
              "16                                  Brabourne Stadium      11\n",
              "17             Saurashtra Cricket Association Stadium      10\n",
              "18       Himachal Pradesh Cricket Association Stadium       9\n",
              "19                             Holkar Cricket Stadium       9\n",
              "20                              New Wanderers Stadium       8\n",
              "21                 Rajiv Gandhi Intl. Cricket Stadium       8\n",
              "22                          M. A. Chidambaram Stadium       8\n",
              "23                                           Newlands       7\n",
              "24                                  IS Bindra Stadium       7\n",
              "25                            Feroz Shah Kotla Ground       7\n",
              "26                                   St George's Park       7\n",
              "27                Dubai International Cricket Stadium       7\n",
              "28                             M. Chinnaswamy Stadium       7\n",
              "29                               Sheikh Zayed Stadium       7\n",
              "30                                   Barabati Stadium       7\n",
              "31                 JSCA International Stadium Complex       7\n",
              "32   Shaheed Veer Narayan Singh International Stadium       6\n",
              "33                            Sharjah Cricket Stadium       6\n",
              "34                                      Nehru Stadium       5\n",
              "35                                         Green Park       4\n",
              "36                              De Beers Diamond Oval       3\n",
              "37       Vidarbha Cricket Association Stadium, Jamtha       3\n",
              "38                                       Buffalo Park       3\n",
              "39                                   ACA-VDCA Stadium       2\n",
              "40                                    OUTsurance Oval       2"
            ]
          },
          "metadata": {
            "tags": []
          },
          "execution_count": 100
        }
      ]
    },
    {
      "cell_type": "markdown",
      "metadata": {
        "id": "TQZ5qbOq2H95"
      },
      "source": [
        "There are total 40 venues."
      ]
    },
    {
      "cell_type": "code",
      "metadata": {
        "id": "PhAKljCczuf-",
        "outputId": "c4f0758a-3991-4567-d3fd-5495da56102f",
        "colab": {
          "base_uri": "https://localhost:8080/",
          "height": 405
        }
      },
      "source": [
        "\n",
        "sns.barplot(x='matches', y='venue', data=venue_df);\n",
        "sns.set(rc={'figure.figsize':(20.7,9.27)})"
      ],
      "execution_count": 102,
      "outputs": [
        {
          "output_type": "display_data",
          "data": {
            "image/png": "[encoded data removed]",
            "text/plain": [
              "<Figure size 1490.4x595.44 with 1 Axes>"
            ]
          },
          "metadata": {
            "tags": []
          }
        }
      ]
    },
    {
      "cell_type": "markdown",
      "metadata": {
        "id": "XeoySTP-2Nj9"
      },
      "source": [
        "*Eden Gardens has hosted the maximum number of IPL matches.It has the largest capacity."
      ]
    },
    {
      "cell_type": "markdown",
      "metadata": {
        "id": "gD4b5kObONjk"
      },
      "source": [
        "\n",
        "4.The player who has won the player_of_match title on most occasions is the most valuable player.\n",
        "\n"
      ]
    },
    {
      "cell_type": "code",
      "metadata": {
        "id": "Z4oMJqc9zucn",
        "outputId": "576fb16a-4d65-4eb3-db59-6fc7947c369e",
        "colab": {
          "base_uri": "https://localhost:8080/"
        }
      },
      "source": [
        "man_of_the_match_ser = matches_df['player_of_match'].value_counts()\n",
        "man_of_the_match_ser"
      ],
      "execution_count": 21,
      "outputs": [
        {
          "output_type": "execute_result",
          "data": {
            "text/plain": [
              "CH Gayle          21\n",
              "AB de Villiers    20\n",
              "RG Sharma         17\n",
              "DA Warner         17\n",
              "MS Dhoni          17\n",
              "                  ..\n",
              "DL Vettori         1\n",
              "TA Boult           1\n",
              "SB Wagh            1\n",
              "A Joseph           1\n",
              "MS Gony            1\n",
              "Name: player_of_match, Length: 226, dtype: int64"
            ]
          },
          "metadata": {
            "tags": []
          },
          "execution_count": 21
        }
      ]
    },
    {
      "cell_type": "code",
      "metadata": {
        "id": "bpnKap-9zuZh"
      },
      "source": [
        "man_of_the_match_df = pd.DataFrame(columns=[\"player\", \"wins\"])\n",
        "count = 0\n",
        "for items in man_of_the_match_ser.iteritems():\n",
        "    if count>10:\n",
        "        break\n",
        "    else:\n",
        "        temp_df2 = pd.DataFrame({\n",
        "            'player':[items[0]],\n",
        "            'wins':[items[1]]\n",
        "        })\n",
        "        man_of_the_match_df = man_of_the_match_df.append(temp_df2, ignore_index=True)\n",
        "        count += 1"
      ],
      "execution_count": 22,
      "outputs": []
    },
    {
      "cell_type": "code",
      "metadata": {
        "id": "fS0Ss2bkQxUy",
        "outputId": "b67ee566-05e7-414f-fdeb-1c39d998a6e8",
        "colab": {
          "base_uri": "https://localhost:8080/",
          "height": 386
        }
      },
      "source": [
        "man_of_the_match_df"
      ],
      "execution_count": 23,
      "outputs": [
        {
          "output_type": "execute_result",
          "data": {
            "text/html": [
              "<div>\n",
              "<style scoped>\n",
              "    .dataframe tbody tr th:only-of-type {\n",
              "        vertical-align: middle;\n",
              "    }\n",
              "\n",
              "    .dataframe tbody tr th {\n",
              "        vertical-align: top;\n",
              "    }\n",
              "\n",
              "    .dataframe thead th {\n",
              "        text-align: right;\n",
              "    }\n",
              "</style>\n",
              "<table border=\"1\" class=\"dataframe\">\n",
              "  <thead>\n",
              "    <tr style=\"text-align: right;\">\n",
              "      <th></th>\n",
              "      <th>player</th>\n",
              "      <th>wins</th>\n",
              "    </tr>\n",
              "  </thead>\n",
              "  <tbody>\n",
              "    <tr>\n",
              "      <th>0</th>\n",
              "      <td>CH Gayle</td>\n",
              "      <td>21</td>\n",
              "    </tr>\n",
              "    <tr>\n",
              "      <th>1</th>\n",
              "      <td>AB de Villiers</td>\n",
              "      <td>20</td>\n",
              "    </tr>\n",
              "    <tr>\n",
              "      <th>2</th>\n",
              "      <td>RG Sharma</td>\n",
              "      <td>17</td>\n",
              "    </tr>\n",
              "    <tr>\n",
              "      <th>3</th>\n",
              "      <td>DA Warner</td>\n",
              "      <td>17</td>\n",
              "    </tr>\n",
              "    <tr>\n",
              "      <th>4</th>\n",
              "      <td>MS Dhoni</td>\n",
              "      <td>17</td>\n",
              "    </tr>\n",
              "    <tr>\n",
              "      <th>5</th>\n",
              "      <td>YK Pathan</td>\n",
              "      <td>16</td>\n",
              "    </tr>\n",
              "    <tr>\n",
              "      <th>6</th>\n",
              "      <td>SR Watson</td>\n",
              "      <td>15</td>\n",
              "    </tr>\n",
              "    <tr>\n",
              "      <th>7</th>\n",
              "      <td>SK Raina</td>\n",
              "      <td>14</td>\n",
              "    </tr>\n",
              "    <tr>\n",
              "      <th>8</th>\n",
              "      <td>G Gambhir</td>\n",
              "      <td>13</td>\n",
              "    </tr>\n",
              "    <tr>\n",
              "      <th>9</th>\n",
              "      <td>V Kohli</td>\n",
              "      <td>12</td>\n",
              "    </tr>\n",
              "    <tr>\n",
              "      <th>10</th>\n",
              "      <td>MEK Hussey</td>\n",
              "      <td>12</td>\n",
              "    </tr>\n",
              "  </tbody>\n",
              "</table>\n",
              "</div>"
            ],
            "text/plain": [
              "            player wins\n",
              "0         CH Gayle   21\n",
              "1   AB de Villiers   20\n",
              "2        RG Sharma   17\n",
              "3        DA Warner   17\n",
              "4         MS Dhoni   17\n",
              "5        YK Pathan   16\n",
              "6        SR Watson   15\n",
              "7         SK Raina   14\n",
              "8        G Gambhir   13\n",
              "9          V Kohli   12\n",
              "10      MEK Hussey   12"
            ]
          },
          "metadata": {
            "tags": []
          },
          "execution_count": 23
        }
      ]
    },
    {
      "cell_type": "code",
      "metadata": {
        "id": "s02sRgBHQzBT",
        "outputId": "3ac277a8-e7ba-4f9c-ca10-12f0c1fa4ff7",
        "colab": {
          "base_uri": "https://localhost:8080/",
          "height": 474
        }
      },
      "source": [
        "sns.barplot(x='wins', y='player', data=man_of_the_match_df, palette='Paired');"
      ],
      "execution_count": 24,
      "outputs": [
        {
          "output_type": "display_data",
          "data": {
            "image/png": "[encoded data removed]",
            "text/plain": [
              "<Figure size 1490.4x595.44 with 1 Axes>"
            ]
          },
          "metadata": {
            "tags": []
          }
        }
      ]
    },
    {
      "cell_type": "markdown",
      "metadata": {
        "id": "2szoUIk4RF-4"
      },
      "source": [
        "Cris Gayle is the player who won the most player of the match awards and hence is the most valuable player."
      ]
    },
    {
      "cell_type": "markdown",
      "metadata": {
        "id": "_tIQZVme10DS"
      },
      "source": [
        "\n",
        "\n",
        "1.   Which team has won the toss maximum time?\n",
        "2.   Does winning the toss give any advantage over the other team?\n",
        "\n",
        "\n"
      ]
    },
    {
      "cell_type": "code",
      "metadata": {
        "id": "2WYN-iV62BO7",
        "outputId": "3e3187b8-f7aa-4104-979d-c26a296a5e07",
        "colab": {
          "base_uri": "https://localhost:8080/",
          "height": 251
        }
      },
      "source": [
        "matches_df.head(2)"
      ],
      "execution_count": 25,
      "outputs": [
        {
          "output_type": "execute_result",
          "data": {
            "text/html": [
              "<div>\n",
              "<style scoped>\n",
              "    .dataframe tbody tr th:only-of-type {\n",
              "        vertical-align: middle;\n",
              "    }\n",
              "\n",
              "    .dataframe tbody tr th {\n",
              "        vertical-align: top;\n",
              "    }\n",
              "\n",
              "    .dataframe thead th {\n",
              "        text-align: right;\n",
              "    }\n",
              "</style>\n",
              "<table border=\"1\" class=\"dataframe\">\n",
              "  <thead>\n",
              "    <tr style=\"text-align: right;\">\n",
              "      <th></th>\n",
              "      <th>id</th>\n",
              "      <th>Season</th>\n",
              "      <th>city</th>\n",
              "      <th>date</th>\n",
              "      <th>team1</th>\n",
              "      <th>team2</th>\n",
              "      <th>toss_winner</th>\n",
              "      <th>toss_decision</th>\n",
              "      <th>result</th>\n",
              "      <th>dl_applied</th>\n",
              "      <th>winner</th>\n",
              "      <th>win_by_runs</th>\n",
              "      <th>win_by_wickets</th>\n",
              "      <th>player_of_match</th>\n",
              "      <th>venue</th>\n",
              "      <th>umpire1</th>\n",
              "      <th>umpire2</th>\n",
              "      <th>umpire3</th>\n",
              "    </tr>\n",
              "  </thead>\n",
              "  <tbody>\n",
              "    <tr>\n",
              "      <th>0</th>\n",
              "      <td>1</td>\n",
              "      <td>IPL-2017</td>\n",
              "      <td>Hyderabad</td>\n",
              "      <td>05-04-2017</td>\n",
              "      <td>Sunrisers Hyderabad</td>\n",
              "      <td>Royal Challengers Bangalore</td>\n",
              "      <td>Royal Challengers Bangalore</td>\n",
              "      <td>field</td>\n",
              "      <td>normal</td>\n",
              "      <td>0</td>\n",
              "      <td>Sunrisers Hyderabad</td>\n",
              "      <td>35</td>\n",
              "      <td>0</td>\n",
              "      <td>Yuvraj Singh</td>\n",
              "      <td>Rajiv Gandhi International Stadium, Uppal</td>\n",
              "      <td>AY Dandekar</td>\n",
              "      <td>NJ Llong</td>\n",
              "      <td>NaN</td>\n",
              "    </tr>\n",
              "    <tr>\n",
              "      <th>1</th>\n",
              "      <td>2</td>\n",
              "      <td>IPL-2017</td>\n",
              "      <td>Pune</td>\n",
              "      <td>06-04-2017</td>\n",
              "      <td>Mumbai Indians</td>\n",
              "      <td>Rising Pune Supergiant</td>\n",
              "      <td>Rising Pune Supergiant</td>\n",
              "      <td>field</td>\n",
              "      <td>normal</td>\n",
              "      <td>0</td>\n",
              "      <td>Rising Pune Supergiant</td>\n",
              "      <td>0</td>\n",
              "      <td>7</td>\n",
              "      <td>SPD Smith</td>\n",
              "      <td>Maharashtra Cricket Association Stadium</td>\n",
              "      <td>A Nand Kishore</td>\n",
              "      <td>S Ravi</td>\n",
              "      <td>NaN</td>\n",
              "    </tr>\n",
              "  </tbody>\n",
              "</table>\n",
              "</div>"
            ],
            "text/plain": [
              "   id    Season       city  ...         umpire1   umpire2 umpire3\n",
              "0   1  IPL-2017  Hyderabad  ...     AY Dandekar  NJ Llong     NaN\n",
              "1   2  IPL-2017       Pune  ...  A Nand Kishore    S Ravi     NaN\n",
              "\n",
              "[2 rows x 18 columns]"
            ]
          },
          "metadata": {
            "tags": []
          },
          "execution_count": 25
        }
      ]
    },
    {
      "cell_type": "code",
      "metadata": {
        "id": "B5biGIYK2BcJ"
      },
      "source": [
        "toss_ser = matches_df['toss_winner'].value_counts()"
      ],
      "execution_count": 26,
      "outputs": []
    },
    {
      "cell_type": "code",
      "metadata": {
        "id": "CBqFK3WpgMnH"
      },
      "source": [
        "toss_winner_df = pd.DataFrame(columns=['team', \"wins\"])\n",
        "count = 0\n",
        "for items in man_of_the_match_ser.iteritems():\n",
        "    if count>10:\n",
        "        break\n",
        "    else:\n",
        "        temp_df2 = pd.DataFrame({\n",
        "            'player':[items[0]],\n",
        "            'wins':[items[1]]\n",
        "        })\n",
        "        man_of_the_match_df = man_of_the_match_df.append(temp_df2, ignore_index=True)\n",
        "        count += 1"
      ],
      "execution_count": 27,
      "outputs": []
    },
    {
      "cell_type": "code",
      "metadata": {
        "id": "UryulqyPgMZF"
      },
      "source": [
        ""
      ],
      "execution_count": 27,
      "outputs": []
    },
    {
      "cell_type": "code",
      "metadata": {
        "id": "0PDJ0JQs2BXM",
        "outputId": "7a7c71fa-2be4-4c55-ee30-6ebdeb240776",
        "colab": {
          "base_uri": "https://localhost:8080/"
        }
      },
      "source": [
        "win_count = 0\n",
        "for index, value in matches_df.iterrows():\n",
        "    if(value['toss_winner']==value['winner']):\n",
        "        # print(value['winner'])\n",
        "        win_count += 1\n",
        "\n",
        "print(f'The number of times the team winning toss have won: {win_count}')"
      ],
      "execution_count": 28,
      "outputs": [
        {
          "output_type": "stream",
          "text": [
            "The number of times the team winning toss have won: 393\n"
          ],
          "name": "stdout"
        }
      ]
    },
    {
      "cell_type": "code",
      "metadata": {
        "id": "DQsVwu2Y2BVs",
        "outputId": "76939f78-044b-46df-a124-f67afa2be6f8",
        "colab": {
          "base_uri": "https://localhost:8080/"
        }
      },
      "source": [
        "probability = win_count/len(matches_df)\n",
        "probability"
      ],
      "execution_count": 29,
      "outputs": [
        {
          "output_type": "execute_result",
          "data": {
            "text/plain": [
              "0.5198412698412699"
            ]
          },
          "metadata": {
            "tags": []
          },
          "execution_count": 29
        }
      ]
    },
    {
      "cell_type": "code",
      "metadata": {
        "id": "XwnHSqPU7V9r",
        "outputId": "bb1bd998-99ad-4ffc-8d6f-b7d8e92ee3d6",
        "colab": {
          "base_uri": "https://localhost:8080/",
          "height": 601
        }
      },
      "source": [
        "ss = matches_df['toss_winner'] == matches_df['winner']\n",
        "sns.countplot(ss)\n"
      ],
      "execution_count": 134,
      "outputs": [
        {
          "output_type": "stream",
          "text": [
            "/usr/local/lib/python3.6/dist-packages/seaborn/_decorators.py:43: FutureWarning: Pass the following variable as a keyword arg: x. From version 0.12, the only valid positional argument will be `data`, and passing other arguments without an explicit keyword will result in an error or misinterpretation.\n",
            "  FutureWarning\n"
          ],
          "name": "stderr"
        },
        {
          "output_type": "execute_result",
          "data": {
            "text/plain": [
              "<matplotlib.axes._subplots.AxesSubplot at 0x7f843f3b1908>"
            ]
          },
          "metadata": {
            "tags": []
          },
          "execution_count": 134
        },
        {
          "output_type": "display_data",
          "data": {
            "image/png": "[encoded data removed]",
            "text/plain": [
              "<Figure size 1490.4x667.44 with 1 Axes>"
            ]
          },
          "metadata": {
            "tags": []
          }
        }
      ]
    },
    {
      "cell_type": "markdown",
      "metadata": {
        "id": "kdcRj2Yz3dkT"
      },
      "source": [
        "This implies that 51.9% of the times when a team won the toss, it had won the match as well.So, it shows that the toss winning has hardly any advantage over the other team."
      ]
    },
    {
      "cell_type": "code",
      "metadata": {
        "id": "zxz5b2oH2BUB"
      },
      "source": [
        "win_by_field = 0\n",
        "win_by_bat = 0\n",
        "for index,value in matches_df.iterrows():\n",
        "  if (value['toss_decision']=='field') and (value['toss_winner']==value['winner']):\n",
        "    win_by_field +=1\n",
        "  if (value['toss_decision']=='bat') and (value['toss_winner']==value['winner']):\n",
        "    win_by_bat +=1"
      ],
      "execution_count": 30,
      "outputs": []
    },
    {
      "cell_type": "code",
      "metadata": {
        "id": "F8QfMb8v2BLf",
        "outputId": "d94b43dc-ec10-4a75-a1dd-48fdc69a0734",
        "colab": {
          "base_uri": "https://localhost:8080/"
        }
      },
      "source": [
        "print(f'The number of times the team winning toss have won when chosen to field: {win_by_field}')\n",
        "print(f'The number of times the team winning toss have won when chosen to bat: {win_by_bat}')"
      ],
      "execution_count": 31,
      "outputs": [
        {
          "output_type": "stream",
          "text": [
            "The number of times the team winning toss have won when chosen to field: 259\n",
            "The number of times the team winning toss have won when chosen to bat: 134\n"
          ],
          "name": "stdout"
        }
      ]
    },
    {
      "cell_type": "code",
      "metadata": {
        "id": "hZ_uEjnq59qz"
      },
      "source": [
        "prob_of_winning_when_toss_won_and_chose_field = win_by_field/len(matches_df)\n",
        "prob_of_winning_when_toss_won_and_chose_bat = win_by_bat/len(matches_df)"
      ],
      "execution_count": 32,
      "outputs": []
    },
    {
      "cell_type": "code",
      "metadata": {
        "id": "u-0iiVzc6Rfy",
        "outputId": "bdabb924-e906-4398-e9bc-3467077894ed",
        "colab": {
          "base_uri": "https://localhost:8080/"
        }
      },
      "source": [
        "prob_of_winning_when_toss_won_and_chose_field\n"
      ],
      "execution_count": 33,
      "outputs": [
        {
          "output_type": "execute_result",
          "data": {
            "text/plain": [
              "0.3425925925925926"
            ]
          },
          "metadata": {
            "tags": []
          },
          "execution_count": 33
        }
      ]
    },
    {
      "cell_type": "code",
      "metadata": {
        "id": "0cmmg4gR6W6x",
        "outputId": "4d04ba0b-a498-47ed-e108-46bd96329fc6",
        "colab": {
          "base_uri": "https://localhost:8080/"
        }
      },
      "source": [
        "prob_of_winning_when_toss_won_and_chose_bat"
      ],
      "execution_count": 34,
      "outputs": [
        {
          "output_type": "execute_result",
          "data": {
            "text/plain": [
              "0.17724867724867724"
            ]
          },
          "metadata": {
            "tags": []
          },
          "execution_count": 34
        }
      ]
    },
    {
      "cell_type": "markdown",
      "metadata": {
        "id": "sCVEZrgt52Nk"
      },
      "source": [
        "\n",
        "\n",
        "*   From the above operation we can conclude that, whenever a team has won the toss,and had chosen to field ,they had an edge over the team which took the other decision\n",
        "\n"
      ]
    },
    {
      "cell_type": "markdown",
      "metadata": {
        "id": "eVKI_G8h8Ryp"
      },
      "source": [
        "* Which umpire has officiated the most number of IPL matches on-field?  "
      ]
    },
    {
      "cell_type": "code",
      "metadata": {
        "id": "Q0nQbzMV8RdB"
      },
      "source": [
        "umpire1_ser = matches_df['umpire1'].value_counts()\n",
        "umpire2_ser = matches_df['umpire2'].value_counts()"
      ],
      "execution_count": 35,
      "outputs": []
    },
    {
      "cell_type": "code",
      "metadata": {
        "id": "mepj936g8e54",
        "outputId": "834ae759-9ecc-48a0-cd5a-c476388cec1e",
        "colab": {
          "base_uri": "https://localhost:8080/",
          "height": 415
        }
      },
      "source": [
        "umpires_df = pd.concat([umpire1_ser, umpire2_ser], axis=1)\n",
        "umpires_df"
      ],
      "execution_count": 36,
      "outputs": [
        {
          "output_type": "execute_result",
          "data": {
            "text/html": [
              "<div>\n",
              "<style scoped>\n",
              "    .dataframe tbody tr th:only-of-type {\n",
              "        vertical-align: middle;\n",
              "    }\n",
              "\n",
              "    .dataframe tbody tr th {\n",
              "        vertical-align: top;\n",
              "    }\n",
              "\n",
              "    .dataframe thead th {\n",
              "        text-align: right;\n",
              "    }\n",
              "</style>\n",
              "<table border=\"1\" class=\"dataframe\">\n",
              "  <thead>\n",
              "    <tr style=\"text-align: right;\">\n",
              "      <th></th>\n",
              "      <th>umpire1</th>\n",
              "      <th>umpire2</th>\n",
              "    </tr>\n",
              "  </thead>\n",
              "  <tbody>\n",
              "    <tr>\n",
              "      <th>HDPK Dharmasena</th>\n",
              "      <td>73.0</td>\n",
              "      <td>14.0</td>\n",
              "    </tr>\n",
              "    <tr>\n",
              "      <th>Asad Rauf</th>\n",
              "      <td>51.0</td>\n",
              "      <td>NaN</td>\n",
              "    </tr>\n",
              "    <tr>\n",
              "      <th>S Ravi</th>\n",
              "      <td>49.0</td>\n",
              "      <td>57.0</td>\n",
              "    </tr>\n",
              "    <tr>\n",
              "      <th>AK Chaudhary</th>\n",
              "      <td>43.0</td>\n",
              "      <td>15.0</td>\n",
              "    </tr>\n",
              "    <tr>\n",
              "      <th>Aleem Dar</th>\n",
              "      <td>38.0</td>\n",
              "      <td>NaN</td>\n",
              "    </tr>\n",
              "    <tr>\n",
              "      <th>...</th>\n",
              "      <td>...</td>\n",
              "      <td>...</td>\n",
              "    </tr>\n",
              "    <tr>\n",
              "      <th>K Srinivasan</th>\n",
              "      <td>NaN</td>\n",
              "      <td>3.0</td>\n",
              "    </tr>\n",
              "    <tr>\n",
              "      <th>KN Anantapadmanabhan</th>\n",
              "      <td>NaN</td>\n",
              "      <td>3.0</td>\n",
              "    </tr>\n",
              "    <tr>\n",
              "      <th>SD Ranade</th>\n",
              "      <td>NaN</td>\n",
              "      <td>2.0</td>\n",
              "    </tr>\n",
              "    <tr>\n",
              "      <th>Nand Kishore</th>\n",
              "      <td>NaN</td>\n",
              "      <td>1.0</td>\n",
              "    </tr>\n",
              "    <tr>\n",
              "      <th>Subroto Das</th>\n",
              "      <td>NaN</td>\n",
              "      <td>1.0</td>\n",
              "    </tr>\n",
              "  </tbody>\n",
              "</table>\n",
              "<p>75 rows × 2 columns</p>\n",
              "</div>"
            ],
            "text/plain": [
              "                      umpire1  umpire2\n",
              "HDPK Dharmasena          73.0     14.0\n",
              "Asad Rauf                51.0      NaN\n",
              "S Ravi                   49.0     57.0\n",
              "AK Chaudhary             43.0     15.0\n",
              "Aleem Dar                38.0      NaN\n",
              "...                       ...      ...\n",
              "K Srinivasan              NaN      3.0\n",
              "KN Anantapadmanabhan      NaN      3.0\n",
              "SD Ranade                 NaN      2.0\n",
              "Nand Kishore              NaN      1.0\n",
              "Subroto Das               NaN      1.0\n",
              "\n",
              "[75 rows x 2 columns]"
            ]
          },
          "metadata": {
            "tags": []
          },
          "execution_count": 36
        }
      ]
    },
    {
      "cell_type": "code",
      "metadata": {
        "id": "UNNV5QMo8etY"
      },
      "source": [
        "umpire_ser = umpires_df.sum(axis=1)\n",
        "\n",
        "umpire_df = pd.DataFrame(columns=[\"umpire\", \"matches\"])\n",
        "\n",
        "for items in umpire_ser.iteritems():\n",
        "    # print(items)\n",
        "    temp_df1 = pd.DataFrame({\n",
        "        'umpire':[items[0]],\n",
        "        'matches':[items[1]]\n",
        "    })\n",
        "    umpire_df= umpire_df.append(temp_df1, ignore_index=True) "
      ],
      "execution_count": 37,
      "outputs": []
    },
    {
      "cell_type": "code",
      "metadata": {
        "id": "eoByCTGM_lj9",
        "outputId": "f059cd62-021a-4bdf-fe61-a9d00a70692a",
        "colab": {
          "base_uri": "https://localhost:8080/",
          "height": 202
        }
      },
      "source": [
        "umpire_df.sort_values('matches', ascending=False).head()"
      ],
      "execution_count": 38,
      "outputs": [
        {
          "output_type": "execute_result",
          "data": {
            "text/html": [
              "<div>\n",
              "<style scoped>\n",
              "    .dataframe tbody tr th:only-of-type {\n",
              "        vertical-align: middle;\n",
              "    }\n",
              "\n",
              "    .dataframe tbody tr th {\n",
              "        vertical-align: top;\n",
              "    }\n",
              "\n",
              "    .dataframe thead th {\n",
              "        text-align: right;\n",
              "    }\n",
              "</style>\n",
              "<table border=\"1\" class=\"dataframe\">\n",
              "  <thead>\n",
              "    <tr style=\"text-align: right;\">\n",
              "      <th></th>\n",
              "      <th>umpire</th>\n",
              "      <th>matches</th>\n",
              "    </tr>\n",
              "  </thead>\n",
              "  <tbody>\n",
              "    <tr>\n",
              "      <th>2</th>\n",
              "      <td>S Ravi</td>\n",
              "      <td>106.0</td>\n",
              "    </tr>\n",
              "    <tr>\n",
              "      <th>0</th>\n",
              "      <td>HDPK Dharmasena</td>\n",
              "      <td>87.0</td>\n",
              "    </tr>\n",
              "    <tr>\n",
              "      <th>11</th>\n",
              "      <td>C Shamshuddin</td>\n",
              "      <td>73.0</td>\n",
              "    </tr>\n",
              "    <tr>\n",
              "      <th>3</th>\n",
              "      <td>AK Chaudhary</td>\n",
              "      <td>58.0</td>\n",
              "    </tr>\n",
              "    <tr>\n",
              "      <th>60</th>\n",
              "      <td>SJA Taufel</td>\n",
              "      <td>55.0</td>\n",
              "    </tr>\n",
              "  </tbody>\n",
              "</table>\n",
              "</div>"
            ],
            "text/plain": [
              "             umpire  matches\n",
              "2            S Ravi    106.0\n",
              "0   HDPK Dharmasena     87.0\n",
              "11    C Shamshuddin     73.0\n",
              "3      AK Chaudhary     58.0\n",
              "60       SJA Taufel     55.0"
            ]
          },
          "metadata": {
            "tags": []
          },
          "execution_count": 38
        }
      ]
    },
    {
      "cell_type": "markdown",
      "metadata": {
        "id": "4HtTp6RdBUGm"
      },
      "source": [
        "\n",
        "\n",
        "* S. Ravi(Sundaram Ravi) has officiated the most number of IPL matches on-field, followed by HDPK Dharmasena.\n",
        "* Sundaram Ravi (born 22 April 1966) is an Indian cricket umpire from who was a member of the ICC Elite Panel of Umpires between 2015 and 2019. \n",
        "\n"
      ]
    },
    {
      "cell_type": "code",
      "metadata": {
        "id": "hxBnWsUE6QQa",
        "outputId": "525920a9-8fe9-42a5-ee90-798e2f1c4f1c",
        "colab": {
          "base_uri": "https://localhost:8080/",
          "height": 35
        }
      },
      "source": [
        "matches_df.iloc[matches_df['win_by_runs'].idxmax()]['winner']"
      ],
      "execution_count": 128,
      "outputs": [
        {
          "output_type": "execute_result",
          "data": {
            "application/vnd.google.colaboratory.intrinsic+json": {
              "type": "string"
            },
            "text/plain": [
              "'Mumbai Indians'"
            ]
          },
          "metadata": {
            "tags": []
          },
          "execution_count": 128
        }
      ]
    },
    {
      "cell_type": "code",
      "metadata": {
        "id": "z6Xb9E0V6dK-"
      },
      "source": [
        "Mumbai Indians won by maximum runs."
      ],
      "execution_count": null,
      "outputs": []
    },
    {
      "cell_type": "code",
      "metadata": {
        "id": "fMXpuZfZ6QMI",
        "outputId": "516b0e00-21c9-4f02-9033-8419dde818c5",
        "colab": {
          "base_uri": "https://localhost:8080/",
          "height": 35
        }
      },
      "source": [
        "matches_df.iloc[matches_df['win_by_wickets'].idxmax()]['winner']"
      ],
      "execution_count": 130,
      "outputs": [
        {
          "output_type": "execute_result",
          "data": {
            "application/vnd.google.colaboratory.intrinsic+json": {
              "type": "string"
            },
            "text/plain": [
              "'Kolkata Knight Riders'"
            ]
          },
          "metadata": {
            "tags": []
          },
          "execution_count": 130
        }
      ]
    },
    {
      "cell_type": "markdown",
      "metadata": {
        "id": "z8_bc38u60tK"
      },
      "source": [
        "KKR won by max wickets."
      ]
    },
    {
      "cell_type": "markdown",
      "metadata": {
        "id": "1RhphKIV6yZw"
      },
      "source": [
        ""
      ]
    },
    {
      "cell_type": "code",
      "metadata": {
        "id": "GLT4rMhy6QJ2"
      },
      "source": [
        ""
      ],
      "execution_count": null,
      "outputs": []
    },
    {
      "cell_type": "code",
      "metadata": {
        "id": "d1Y96ydW6QH_"
      },
      "source": [
        ""
      ],
      "execution_count": null,
      "outputs": []
    },
    {
      "cell_type": "code",
      "metadata": {
        "id": "2CIEGJ_b6QE6"
      },
      "source": [
        ""
      ],
      "execution_count": null,
      "outputs": []
    },
    {
      "cell_type": "code",
      "metadata": {
        "id": "dXoEQGcCRFcQ"
      },
      "source": [
        "working_directory = '/content/drive/My Drive/AlmaBetter/CohortAravali/Cohort Aravali/Module 2/Capstone-1/'\n",
        "Players_df = pd.read_excel(working_directory + 'Players.xlsx')"
      ],
      "execution_count": 39,
      "outputs": []
    },
    {
      "cell_type": "code",
      "metadata": {
        "id": "rd2z99esRo_t",
        "outputId": "5fe36d2e-c332-44dd-e92e-e8ce308e3903",
        "colab": {
          "base_uri": "https://localhost:8080/",
          "height": 202
        }
      },
      "source": [
        "Players_df.head()"
      ],
      "execution_count": 40,
      "outputs": [
        {
          "output_type": "execute_result",
          "data": {
            "text/html": [
              "<div>\n",
              "<style scoped>\n",
              "    .dataframe tbody tr th:only-of-type {\n",
              "        vertical-align: middle;\n",
              "    }\n",
              "\n",
              "    .dataframe tbody tr th {\n",
              "        vertical-align: top;\n",
              "    }\n",
              "\n",
              "    .dataframe thead th {\n",
              "        text-align: right;\n",
              "    }\n",
              "</style>\n",
              "<table border=\"1\" class=\"dataframe\">\n",
              "  <thead>\n",
              "    <tr style=\"text-align: right;\">\n",
              "      <th></th>\n",
              "      <th>Player_Name</th>\n",
              "      <th>DOB</th>\n",
              "      <th>Batting_Hand</th>\n",
              "      <th>Bowling_Skill</th>\n",
              "      <th>Country</th>\n",
              "    </tr>\n",
              "  </thead>\n",
              "  <tbody>\n",
              "    <tr>\n",
              "      <th>0</th>\n",
              "      <td>A Ashish Reddy</td>\n",
              "      <td>1991-02-24</td>\n",
              "      <td>Right_Hand</td>\n",
              "      <td>Right-arm medium</td>\n",
              "      <td>India</td>\n",
              "    </tr>\n",
              "    <tr>\n",
              "      <th>1</th>\n",
              "      <td>A Chandila</td>\n",
              "      <td>1983-12-05</td>\n",
              "      <td>Right_Hand</td>\n",
              "      <td>Right-arm offbreak</td>\n",
              "      <td>India</td>\n",
              "    </tr>\n",
              "    <tr>\n",
              "      <th>2</th>\n",
              "      <td>A Chopra</td>\n",
              "      <td>1977-09-19</td>\n",
              "      <td>Right_Hand</td>\n",
              "      <td>Right-arm offbreak</td>\n",
              "      <td>India</td>\n",
              "    </tr>\n",
              "    <tr>\n",
              "      <th>3</th>\n",
              "      <td>A Choudhary</td>\n",
              "      <td>NaT</td>\n",
              "      <td>Right_hand</td>\n",
              "      <td>Left-arm fast-medium</td>\n",
              "      <td>NaN</td>\n",
              "    </tr>\n",
              "    <tr>\n",
              "      <th>4</th>\n",
              "      <td>A Dananjaya</td>\n",
              "      <td>NaT</td>\n",
              "      <td>Right_Hand</td>\n",
              "      <td>Right-arm offbreak</td>\n",
              "      <td>NaN</td>\n",
              "    </tr>\n",
              "  </tbody>\n",
              "</table>\n",
              "</div>"
            ],
            "text/plain": [
              "      Player_Name        DOB Batting_Hand         Bowling_Skill Country\n",
              "0  A Ashish Reddy 1991-02-24   Right_Hand      Right-arm medium   India\n",
              "1      A Chandila 1983-12-05   Right_Hand    Right-arm offbreak   India\n",
              "2        A Chopra 1977-09-19   Right_Hand    Right-arm offbreak   India\n",
              "3     A Choudhary        NaT   Right_hand  Left-arm fast-medium     NaN\n",
              "4     A Dananjaya        NaT   Right_Hand    Right-arm offbreak     NaN"
            ]
          },
          "metadata": {
            "tags": []
          },
          "execution_count": 40
        }
      ]
    },
    {
      "cell_type": "code",
      "metadata": {
        "id": "CJeVeZe8SYXB",
        "outputId": "f7bb9852-0626-4bcc-bd51-2692b95d2b0c",
        "colab": {
          "base_uri": "https://localhost:8080/",
          "height": 202
        }
      },
      "source": [
        "Players_df.tail()"
      ],
      "execution_count": 41,
      "outputs": [
        {
          "output_type": "execute_result",
          "data": {
            "text/html": [
              "<div>\n",
              "<style scoped>\n",
              "    .dataframe tbody tr th:only-of-type {\n",
              "        vertical-align: middle;\n",
              "    }\n",
              "\n",
              "    .dataframe tbody tr th {\n",
              "        vertical-align: top;\n",
              "    }\n",
              "\n",
              "    .dataframe thead th {\n",
              "        text-align: right;\n",
              "    }\n",
              "</style>\n",
              "<table border=\"1\" class=\"dataframe\">\n",
              "  <thead>\n",
              "    <tr style=\"text-align: right;\">\n",
              "      <th></th>\n",
              "      <th>Player_Name</th>\n",
              "      <th>DOB</th>\n",
              "      <th>Batting_Hand</th>\n",
              "      <th>Bowling_Skill</th>\n",
              "      <th>Country</th>\n",
              "    </tr>\n",
              "  </thead>\n",
              "  <tbody>\n",
              "    <tr>\n",
              "      <th>561</th>\n",
              "      <td>Younis Khan</td>\n",
              "      <td>1977-11-29</td>\n",
              "      <td>Right_Hand</td>\n",
              "      <td>Right-arm medium</td>\n",
              "      <td>Pakistan</td>\n",
              "    </tr>\n",
              "    <tr>\n",
              "      <th>562</th>\n",
              "      <td>YS Chahal</td>\n",
              "      <td>1990-07-23</td>\n",
              "      <td>Right_Hand</td>\n",
              "      <td>Legbreak googly</td>\n",
              "      <td>India</td>\n",
              "    </tr>\n",
              "    <tr>\n",
              "      <th>563</th>\n",
              "      <td>Yuvraj Singh</td>\n",
              "      <td>1981-12-12</td>\n",
              "      <td>Left_Hand</td>\n",
              "      <td>Slow left-arm orthodox</td>\n",
              "      <td>India</td>\n",
              "    </tr>\n",
              "    <tr>\n",
              "      <th>564</th>\n",
              "      <td>YV Takawale</td>\n",
              "      <td>1984-11-05</td>\n",
              "      <td>Right_Hand</td>\n",
              "      <td>NaN</td>\n",
              "      <td>India</td>\n",
              "    </tr>\n",
              "    <tr>\n",
              "      <th>565</th>\n",
              "      <td>Z Khan</td>\n",
              "      <td>1978-10-07</td>\n",
              "      <td>Right_Hand</td>\n",
              "      <td>Left-arm fast-medium</td>\n",
              "      <td>India</td>\n",
              "    </tr>\n",
              "  </tbody>\n",
              "</table>\n",
              "</div>"
            ],
            "text/plain": [
              "      Player_Name        DOB Batting_Hand           Bowling_Skill   Country\n",
              "561   Younis Khan 1977-11-29   Right_Hand        Right-arm medium  Pakistan\n",
              "562     YS Chahal 1990-07-23   Right_Hand         Legbreak googly     India\n",
              "563  Yuvraj Singh 1981-12-12    Left_Hand  Slow left-arm orthodox     India\n",
              "564   YV Takawale 1984-11-05   Right_Hand                     NaN     India\n",
              "565        Z Khan 1978-10-07   Right_Hand    Left-arm fast-medium     India"
            ]
          },
          "metadata": {
            "tags": []
          },
          "execution_count": 41
        }
      ]
    },
    {
      "cell_type": "code",
      "metadata": {
        "id": "-SqxTwFFUS1C",
        "outputId": "148288c0-15ab-4a4f-b72d-ad2163bf096e",
        "colab": {
          "base_uri": "https://localhost:8080/"
        }
      },
      "source": [
        "Players_df['Player_Name'].unique()"
      ],
      "execution_count": 42,
      "outputs": [
        {
          "output_type": "execute_result",
          "data": {
            "text/plain": [
              "array(['A Ashish Reddy', 'A Chandila', 'A Chopra', 'A Choudhary',\n",
              "       'A Dananjaya', 'A Flintoff', 'A Hales', 'A Joseph', 'A Kumble',\n",
              "       'A Mishra', 'A Mithun', 'A Mukund', 'A Nehra', 'A Nel', 'A Roy',\n",
              "       'A Singh', 'A Symonds', 'A Turner', 'A Uniyal', 'A Zampa',\n",
              "       'AA Bilakhia', 'AA Chavan', 'AA Jhunjhunwala', 'AA Kazi',\n",
              "       'AA Noffke', 'AB Agarkar', 'AB Barath', 'AB de Villiers',\n",
              "       'AB Dinda', 'AB McDonald', 'Abdur Razzak', 'AC Blizzard',\n",
              "       'AC Gilchrist', 'AC Thomas', 'AC Voges', 'AD Mascarenhas',\n",
              "       'AD Mathews', 'AD Nath', 'AD Russell', 'AF Milne', 'AG Murtaza',\n",
              "       'AG Paunikar', 'AJ Finch', 'AJ Tye', 'AL Menaria', 'AM Nayar',\n",
              "       'AM Rahane', 'AM Salvi', 'AN Ahmed', 'AN Ghosh', 'Anand Rajan',\n",
              "       'Anirudh Singh', 'Ankit Sharma', 'Ankit Soni', 'Anureet Singh',\n",
              "       'AP Dole', 'AP Majumdar', 'AP Tare', 'AR Bawne', 'AR Patel',\n",
              "       'AS Rajpoot', 'AS Raut', 'AS Yadav', 'AT Rayudu', 'AUK Pathan',\n",
              "       'AV Wankhade', 'Avesh Khan', 'Azhar Mahmood', 'B Akhil',\n",
              "       'B Aparajith', 'B Chipli', 'B Geeves', 'B Kumar', 'B Laughlin',\n",
              "       'B Lee', 'B Stanlake', 'B Sumanth', 'BA Bhatt', 'BA Stokes',\n",
              "       'Basil Thampi', 'BAW Mendis', 'BB McCullum', 'BB Samantray',\n",
              "       'BB Sran', 'BCJ Cutting', 'BE Hendricks', 'Bipul Sharma',\n",
              "       'BJ Haddin', 'BJ Hodge', 'BJ Rohrer', 'BMAJ Mendis', 'BR Dunk',\n",
              "       'BW Hilfenhaus', 'C de Grandhomme', 'C Ganapathy', 'C Ingram',\n",
              "       'C Madan', 'C Munro', 'C Nanda', 'CA Ingram', 'CA Lynn',\n",
              "       'CA Pujara', 'CH Gayle', 'CH Morris', 'CJ Anderson', 'CJ Ferguson',\n",
              "       'CJ Jordan', 'CJ McKay', 'CK Kapugedera', 'CK Langeveldt',\n",
              "       'CL White', 'CM Gautam', 'CR Brathwaite', 'CR Woakes',\n",
              "       'CRD Fernando', 'D du Preez', 'D Kalyankrishna', 'D Salunkhe',\n",
              "       'D Shorey', 'D Short', 'D Wiese', 'D Willey', 'DA Miller',\n",
              "       'DA Warner', 'DAJ Bracewell', 'DB Das', 'DB Ravi Teja',\n",
              "       'DE Bollinger', 'DH Yagnik', 'DJ Bravo', 'DJ Harris', 'DJ Hooda',\n",
              "       'DJ Hussey', 'DJ Jacobs', 'DJ Muthuswami', 'DJ Thornely',\n",
              "       'DJG Sammy', 'DL Chahar', 'DL Vettori', 'DM Bravo', 'DNT Zoysa',\n",
              "       'DP Nannes', 'DP Vijaykumar', 'DPMD Jayawardene', 'DR Martyn',\n",
              "       'DR Smith', 'DS Kulkarni', 'DS Lehmann', 'DT Christian',\n",
              "       'DT Patil', 'DW Steyn', 'E Lewis', 'EJG Morgan', 'ER Dwivedi',\n",
              "       'F Behardien', 'F du Plessis', 'FH Edwards', 'FY Fazal',\n",
              "       'G Gambhir', 'Gagandeep Singh', 'GB Hogg', 'GC Smith',\n",
              "       'GD McGrath', 'GH Vihari', 'GJ Bailey', 'GJ Maxwell', 'GR Napier',\n",
              "       'GS Sandhu', 'Gurkeerat Singh', 'H Brar', 'H Das', 'H Gurney',\n",
              "       'H Klaasen', 'H Vihari', 'H Viljoen', 'Harbhajan Singh',\n",
              "       'Harmeet Singh', 'Harmeet Singh (2)', 'Harpreet Singh', 'HH Gibbs',\n",
              "       'HH Pandya', 'HM Amla', 'HV Patel', 'I Malhotra', 'I Sharma',\n",
              "       'I Sodhi', 'IC Pandey', 'IK Pathan', 'Imran Tahir',\n",
              "       'Iqbal Abdulla', 'IR Jaggi', 'Ishan Kishan', 'J Archer',\n",
              "       'J Arunkumar', 'J Bairstow', 'J Behrendorff', 'J Botha', 'J Dala',\n",
              "       'J Denly', 'J Searles', 'J Suchith', 'J Syed Mohammad', 'J Theron',\n",
              "       'J Yadav', 'JA Morkel', 'Jaskaran Singh', 'JC Buttler', 'JD Ryder',\n",
              "       'JD Unadkat', 'JDP Oram', 'JDS Neesham', 'JE Taylor',\n",
              "       'JEC Franklin', 'JH Kallis', 'JJ Bumrah', 'JJ Roy',\n",
              "       'JJ van der Wath', 'JM Kemp', 'JO Holder', 'Joginder Sharma',\n",
              "       'JP Duminy', 'JP Faulkner', 'JR Hopes', 'JW Hastings', 'K Ahmed',\n",
              "       'K Goel', 'K Gowtham', 'K Khejroliya', 'K Paul', 'K Rabada',\n",
              "       'K Santokie', 'K Upadhyay', 'KA Pollard', 'KAJ Roach',\n",
              "       'Kamran Akmal', 'Kamran Khan', 'Karanveer Singh',\n",
              "       'KB Arun Karthik', 'KC Cariappa', 'KC Sangakkara', 'KD Karthik',\n",
              "       'KH Devdhar', 'KH Pandya', 'KJ Abbott', 'KK Cooper', 'KK Nair',\n",
              "       'KL Rahul', 'KM Asif', 'KM Jadhav', 'KMDN Kulasekara',\n",
              "       'KP Appanna', 'KP Pietersen', 'KS Williamson', 'Kuldeep Yadav',\n",
              "       'KV Sharma', 'KW Richardson', 'L Ablish', 'L Balaji', 'L Ferguson',\n",
              "       'L Livingstone', 'L Ngidi', 'L Plunkett', 'L Ronchi',\n",
              "       'LA Carseldine', 'LA Pomersbach', 'LH Ferguson', 'LJ Wright',\n",
              "       'LMP Simmons', 'LPC Silva', 'LR Shukla', 'LRPL Taylor', 'M Ali',\n",
              "       'M Ashwin', 'M de Lange', 'M Kaif', 'M Kartik', 'M Klinger',\n",
              "       'M Lomror', 'M Manhas', 'M Markande', 'M Morkel', 'M Muralitharan',\n",
              "       'M Ntini', 'M Rawat', 'M Santner', 'M Ur Rahman', 'M Vijay',\n",
              "       'M Vohra', 'M Wood', 'MA Agarwal', 'MA Khote', 'MA Starc',\n",
              "       'Mandeep Singh', 'Mashrafe Mortaza', 'MB Parmar', 'MC Henriques',\n",
              "       'MC Juneja', 'MD Mishra', 'MDKJ Perera', 'MEK Hussey',\n",
              "       'MF Maharoof', 'MG Johnson', 'MG Neser', 'Misbah-ul-Haq',\n",
              "       'MJ Clarke', 'MJ Guptill', 'MJ Henry', 'MJ Lumb', 'MJ McClenaghan',\n",
              "       'MK Pandey', 'MK Tiwary', 'ML Hayden', 'MM Patel', 'MM Sharma',\n",
              "       'MN Samuels', 'MN van Wyk', 'Mohammad Ashraful', 'Mohammad Asif',\n",
              "       'Mohammad Hafeez', 'Mohammad Nabi', 'Mohammed Shami',\n",
              "       'Mohammed Siraj', 'MP Stoinis', 'MR Marsh', 'MS Bisla', 'MS Dhoni',\n",
              "       'MS Gony', 'MS Wade', 'Mustafizur Rahman', 'MV Boucher', 'N Naik',\n",
              "       'N Pooran', 'N Rana', 'N Saini', 'NB Singh', 'ND Doshi',\n",
              "       'Niraj Patel', 'NJ Maddinson', 'NJ Rimmington', 'NK Patel',\n",
              "       'NL McCullum', 'NLTC Perera', 'NM Coulter-Nile', 'NS Naik',\n",
              "       'NV Ojha', 'O Thomas', 'OA Shah', 'P Amarnath', 'P Awana',\n",
              "       'P Chopra', 'P Dharmani', 'P Dogra', 'P Krishna', 'P Kumar',\n",
              "       'P Negi', 'P Parameswaran', 'P Prasanth', 'P R Barman', 'P Raj',\n",
              "       'P Sahu', 'P Shaw', 'P Suyal', 'PA Patel', 'PA Reddy',\n",
              "       'Pankaj Singh', 'Parvez Rasool', 'PC Valthaty', 'PD Collingwood',\n",
              "       'PJ Cummins', 'PJ Sangwan', 'PM Sarvesh Kumar', 'PP Chawla',\n",
              "       'PP Ojha', 'PR Shah', 'PSP Handscomb', 'PV Tambe', 'Q de Kock',\n",
              "       'R Ashwin', 'R Bhatia', 'R Bhui', 'R Bishnoi', 'R Dhawan',\n",
              "       'R Dravid', 'R McLaren', 'R Ninan', 'R Parag', 'R Rampaul',\n",
              "       'R Salam', 'R Sathish', 'R Sharma', 'R Shukla', 'R Singh',\n",
              "       'R Tewatia', 'R Vinay Kumar', 'RA Jadeja', 'RA Shaikh',\n",
              "       'RA Tripathi', 'Rashid Khan', 'RD Chahar', 'RE Levi',\n",
              "       'RE van der Merwe', 'RG More', 'RG Sharma', 'RJ Harris',\n",
              "       'RJ Peterson', 'RJ Quiney', 'RN ten Doeschate', 'RP Singh',\n",
              "       'RR Bhatkal', 'RR Bose', 'RR Pant', 'RR Powar', 'RR Raje',\n",
              "       'RR Rossouw', 'RR Sarwan', 'RS Bopara', 'RS Gavaskar', 'RS Sodhi',\n",
              "       'RT Ponting', 'RV Gomez', 'RV Pawar', 'RV Uthappa', 'RW Price',\n",
              "       'S Anirudha', 'S Aravind', 'S Badree', 'S Badrinath',\n",
              "       'S Chanderpaul', 'S Curran', 'S Dhawan', 'S Dube', 'S Gill',\n",
              "       'S Gopal', 'S Hetmyer', 'S Kaul', 'S Kaushik', 'S Kuggeleijn',\n",
              "       'S Ladda', 'S Lamichhane', 'S Mavi', 'S Midhun', 'S Nadeem',\n",
              "       'S Narwal', 'S Rana', 'S Randiv', 'S Rutherford', 'S Sharma',\n",
              "       'S Singh', 'S Sohal', 'S Sreesanth', 'S Sriram', 'S Tyagi',\n",
              "       'S Vidyut', 'S Warrier', 'SA Abbott', 'SA Asnodkar', 'SA Yadav',\n",
              "       'Sachin Baby', 'Salman Butt', 'Sandeep Sharma', 'SB Bangar',\n",
              "       'SB Jakati', 'SB Joshi', 'SB Styris', 'SB Wagh', 'SC Ganguly',\n",
              "       'SD Chitnis', 'SD Lad', 'SE Bond', 'SE Marsh', 'Shahid Afridi',\n",
              "       'Shakib Al Hasan', 'Shivam Sharma', 'Shoaib Ahmed',\n",
              "       'Shoaib Akhtar', 'Shoaib Malik', 'SJ Srivastava', 'SK Raina',\n",
              "       'SK Trivedi', 'SK Warne', 'SL Malinga', 'SM Boland', 'SM Harwood',\n",
              "       'SM Katich', 'SM Pollock', 'SMSM Senanayake', 'SN Khan',\n",
              "       'SN Thakur', 'Sohail Tanvir', 'SP Fleming', 'SP Goswami',\n",
              "       'SP Jackson', 'SP Narine', 'SPD Smith', 'SR Tendulkar',\n",
              "       'SR Watson', 'SS Agarwal', 'SS Iyer', 'SS Mundhe', 'SS Sarkar',\n",
              "       'SS Shaikh', 'SS Tiwary', 'ST Jayasuriya', 'STR Binny',\n",
              "       'Sunny Gupta', 'Sunny Singh', 'SV Samson', 'SW Billings',\n",
              "       'SW Tait', 'Swapnil Singh', 'T Curran', 'T Henderson', 'T Kohli',\n",
              "       'T Mishra', 'T Natarajan', 'T Shamsi', 'T Taibu', 'T Thushara',\n",
              "       'TA Boult', 'TD Paine', 'Tejas Baroka', 'TG Southee', 'TL Suman',\n",
              "       'TM Dilshan', 'TM Head', 'TM Srivastava', 'TP Sudhindra',\n",
              "       'TR Birt', 'TS Mills', 'U Kaul', 'UA Birla', 'UBT Chand',\n",
              "       'Umar Gul', 'UT Khawaja', 'UT Yadav', 'V Chakravarthy', 'V Kohli',\n",
              "       'V Pratap Singh', 'V Sehwag', 'V Shankar', 'VH Zol',\n",
              "       'Vishnu Vinod', 'VR Aaron', 'VRV Singh', 'VS Malik', 'VS Yeligati',\n",
              "       'VVS Laxman', 'VY Mahesh', 'W Jaffer', 'WA Mota',\n",
              "       'Washington Sundar', 'WD Parnell', 'WP Saha', 'WPUJC Vaas',\n",
              "       'X Thalaivan Sargunam', 'Y Gnaneswara Rao', 'Y Nagar',\n",
              "       'Y Venugopal Rao', 'YA Abdulla', 'Yashpal Singh', 'YK Pathan',\n",
              "       'Younis Khan', 'YS Chahal', 'Yuvraj Singh', 'YV Takawale',\n",
              "       'Z Khan'], dtype=object)"
            ]
          },
          "metadata": {
            "tags": []
          },
          "execution_count": 42
        }
      ]
    },
    {
      "cell_type": "code",
      "metadata": {
        "id": "wOaAPeJDS_IL",
        "outputId": "a205daf7-6b37-446d-cf2e-568ddd52e888",
        "colab": {
          "base_uri": "https://localhost:8080/"
        }
      },
      "source": [
        "print(Players_df.loc[Players_df['Player_Name'] == 'CH Gayle'])"
      ],
      "execution_count": 43,
      "outputs": [
        {
          "output_type": "stream",
          "text": [
            "    Player_Name        DOB Batting_Hand       Bowling_Skill      Country\n",
            "102    CH Gayle 1979-09-21    Left_Hand  Right-arm offbreak  West Indies\n"
          ],
          "name": "stdout"
        }
      ]
    },
    {
      "cell_type": "markdown",
      "metadata": {
        "id": "qR3_QLEVWm-J"
      },
      "source": [
        "From above two operations we can conclude that Cris Gayle who has been Player of the match for most of the matches is Left handed ,age is 41 years old and hails from West Indies.\n",
        "\n"
      ]
    },
    {
      "cell_type": "code",
      "metadata": {
        "id": "4jJ1Q7Z7XMFE"
      },
      "source": [
        "working_directory = '/content/drive/My Drive/AlmaBetter/CohortAravali/Cohort Aravali/Module 2/Capstone-1/'\n",
        "most_runs_average_strikerate_df = pd.read_csv(working_directory + 'most_runs_average_strikerate.csv')"
      ],
      "execution_count": 44,
      "outputs": []
    },
    {
      "cell_type": "code",
      "metadata": {
        "id": "NJlxXnpeXLwq",
        "outputId": "1acf1d07-481e-43af-b340-5aad5ba9df8f",
        "colab": {
          "base_uri": "https://localhost:8080/",
          "height": 202
        }
      },
      "source": [
        "most_runs_average_strikerate_df.head()"
      ],
      "execution_count": 45,
      "outputs": [
        {
          "output_type": "execute_result",
          "data": {
            "text/html": [
              "<div>\n",
              "<style scoped>\n",
              "    .dataframe tbody tr th:only-of-type {\n",
              "        vertical-align: middle;\n",
              "    }\n",
              "\n",
              "    .dataframe tbody tr th {\n",
              "        vertical-align: top;\n",
              "    }\n",
              "\n",
              "    .dataframe thead th {\n",
              "        text-align: right;\n",
              "    }\n",
              "</style>\n",
              "<table border=\"1\" class=\"dataframe\">\n",
              "  <thead>\n",
              "    <tr style=\"text-align: right;\">\n",
              "      <th></th>\n",
              "      <th>batsman</th>\n",
              "      <th>total_runs</th>\n",
              "      <th>out</th>\n",
              "      <th>numberofballs</th>\n",
              "      <th>average</th>\n",
              "      <th>strikerate</th>\n",
              "    </tr>\n",
              "  </thead>\n",
              "  <tbody>\n",
              "    <tr>\n",
              "      <th>0</th>\n",
              "      <td>V Kohli</td>\n",
              "      <td>5426</td>\n",
              "      <td>152</td>\n",
              "      <td>4111</td>\n",
              "      <td>35.697368</td>\n",
              "      <td>131.987351</td>\n",
              "    </tr>\n",
              "    <tr>\n",
              "      <th>1</th>\n",
              "      <td>SK Raina</td>\n",
              "      <td>5386</td>\n",
              "      <td>160</td>\n",
              "      <td>3916</td>\n",
              "      <td>33.662500</td>\n",
              "      <td>137.538304</td>\n",
              "    </tr>\n",
              "    <tr>\n",
              "      <th>2</th>\n",
              "      <td>RG Sharma</td>\n",
              "      <td>4902</td>\n",
              "      <td>161</td>\n",
              "      <td>3742</td>\n",
              "      <td>30.447205</td>\n",
              "      <td>130.999466</td>\n",
              "    </tr>\n",
              "    <tr>\n",
              "      <th>3</th>\n",
              "      <td>DA Warner</td>\n",
              "      <td>4717</td>\n",
              "      <td>114</td>\n",
              "      <td>3292</td>\n",
              "      <td>41.377193</td>\n",
              "      <td>143.286756</td>\n",
              "    </tr>\n",
              "    <tr>\n",
              "      <th>4</th>\n",
              "      <td>S Dhawan</td>\n",
              "      <td>4601</td>\n",
              "      <td>137</td>\n",
              "      <td>3665</td>\n",
              "      <td>33.583942</td>\n",
              "      <td>125.538881</td>\n",
              "    </tr>\n",
              "  </tbody>\n",
              "</table>\n",
              "</div>"
            ],
            "text/plain": [
              "     batsman  total_runs  out  numberofballs    average  strikerate\n",
              "0    V Kohli        5426  152           4111  35.697368  131.987351\n",
              "1   SK Raina        5386  160           3916  33.662500  137.538304\n",
              "2  RG Sharma        4902  161           3742  30.447205  130.999466\n",
              "3  DA Warner        4717  114           3292  41.377193  143.286756\n",
              "4   S Dhawan        4601  137           3665  33.583942  125.538881"
            ]
          },
          "metadata": {
            "tags": []
          },
          "execution_count": 45
        }
      ]
    },
    {
      "cell_type": "code",
      "metadata": {
        "id": "9G1_g73Mw_Xa",
        "outputId": "f1560ca2-8ecf-448b-bee9-6c43ded5287b",
        "colab": {
          "base_uri": "https://localhost:8080/",
          "height": 294
        }
      },
      "source": [
        "most_runs_average_strikerate_df.describe()"
      ],
      "execution_count": 46,
      "outputs": [
        {
          "output_type": "execute_result",
          "data": {
            "text/html": [
              "<div>\n",
              "<style scoped>\n",
              "    .dataframe tbody tr th:only-of-type {\n",
              "        vertical-align: middle;\n",
              "    }\n",
              "\n",
              "    .dataframe tbody tr th {\n",
              "        vertical-align: top;\n",
              "    }\n",
              "\n",
              "    .dataframe thead th {\n",
              "        text-align: right;\n",
              "    }\n",
              "</style>\n",
              "<table border=\"1\" class=\"dataframe\">\n",
              "  <thead>\n",
              "    <tr style=\"text-align: right;\">\n",
              "      <th></th>\n",
              "      <th>total_runs</th>\n",
              "      <th>out</th>\n",
              "      <th>numberofballs</th>\n",
              "      <th>average</th>\n",
              "      <th>strikerate</th>\n",
              "    </tr>\n",
              "  </thead>\n",
              "  <tbody>\n",
              "    <tr>\n",
              "      <th>count</th>\n",
              "      <td>516.000000</td>\n",
              "      <td>516.000000</td>\n",
              "      <td>516.000000</td>\n",
              "      <td>482.000000</td>\n",
              "      <td>516.000000</td>\n",
              "    </tr>\n",
              "    <tr>\n",
              "      <th>mean</th>\n",
              "      <td>430.625969</td>\n",
              "      <td>17.063953</td>\n",
              "      <td>335.645349</td>\n",
              "      <td>16.355074</td>\n",
              "      <td>105.433442</td>\n",
              "    </tr>\n",
              "    <tr>\n",
              "      <th>std</th>\n",
              "      <td>882.275431</td>\n",
              "      <td>28.124511</td>\n",
              "      <td>663.593679</td>\n",
              "      <td>11.146222</td>\n",
              "      <td>39.633938</td>\n",
              "    </tr>\n",
              "    <tr>\n",
              "      <th>min</th>\n",
              "      <td>0.000000</td>\n",
              "      <td>0.000000</td>\n",
              "      <td>1.000000</td>\n",
              "      <td>0.000000</td>\n",
              "      <td>0.000000</td>\n",
              "    </tr>\n",
              "    <tr>\n",
              "      <th>25%</th>\n",
              "      <td>15.000000</td>\n",
              "      <td>2.000000</td>\n",
              "      <td>17.000000</td>\n",
              "      <td>8.000000</td>\n",
              "      <td>84.362069</td>\n",
              "    </tr>\n",
              "    <tr>\n",
              "      <th>50%</th>\n",
              "      <td>74.000000</td>\n",
              "      <td>5.500000</td>\n",
              "      <td>68.000000</td>\n",
              "      <td>14.607143</td>\n",
              "      <td>111.651584</td>\n",
              "    </tr>\n",
              "    <tr>\n",
              "      <th>75%</th>\n",
              "      <td>340.500000</td>\n",
              "      <td>18.000000</td>\n",
              "      <td>290.000000</td>\n",
              "      <td>23.657609</td>\n",
              "      <td>130.499036</td>\n",
              "    </tr>\n",
              "    <tr>\n",
              "      <th>max</th>\n",
              "      <td>5426.000000</td>\n",
              "      <td>161.000000</td>\n",
              "      <td>4111.000000</td>\n",
              "      <td>88.000000</td>\n",
              "      <td>250.000000</td>\n",
              "    </tr>\n",
              "  </tbody>\n",
              "</table>\n",
              "</div>"
            ],
            "text/plain": [
              "        total_runs         out  numberofballs     average  strikerate\n",
              "count   516.000000  516.000000     516.000000  482.000000  516.000000\n",
              "mean    430.625969   17.063953     335.645349   16.355074  105.433442\n",
              "std     882.275431   28.124511     663.593679   11.146222   39.633938\n",
              "min       0.000000    0.000000       1.000000    0.000000    0.000000\n",
              "25%      15.000000    2.000000      17.000000    8.000000   84.362069\n",
              "50%      74.000000    5.500000      68.000000   14.607143  111.651584\n",
              "75%     340.500000   18.000000     290.000000   23.657609  130.499036\n",
              "max    5426.000000  161.000000    4111.000000   88.000000  250.000000"
            ]
          },
          "metadata": {
            "tags": []
          },
          "execution_count": 46
        }
      ]
    },
    {
      "cell_type": "code",
      "metadata": {
        "id": "vnVjsBzGxLoi",
        "outputId": "1a827ae9-f2de-4bac-f223-798b8eefdbf9",
        "colab": {
          "base_uri": "https://localhost:8080/"
        }
      },
      "source": [
        "most_runs_average_strikerate_df.info()"
      ],
      "execution_count": 47,
      "outputs": [
        {
          "output_type": "stream",
          "text": [
            "<class 'pandas.core.frame.DataFrame'>\n",
            "RangeIndex: 516 entries, 0 to 515\n",
            "Data columns (total 6 columns):\n",
            " #   Column         Non-Null Count  Dtype  \n",
            "---  ------         --------------  -----  \n",
            " 0   batsman        516 non-null    object \n",
            " 1   total_runs     516 non-null    int64  \n",
            " 2   out            516 non-null    int64  \n",
            " 3   numberofballs  516 non-null    int64  \n",
            " 4   average        482 non-null    float64\n",
            " 5   strikerate     516 non-null    float64\n",
            "dtypes: float64(2), int64(3), object(1)\n",
            "memory usage: 24.3+ KB\n"
          ],
          "name": "stdout"
        }
      ]
    },
    {
      "cell_type": "code",
      "metadata": {
        "id": "wGEzhNf7k1mo",
        "outputId": "cc3f2588-07db-4d6e-d0b9-30d1ca45e3c4",
        "colab": {
          "base_uri": "https://localhost:8080/",
          "height": 263
        }
      },
      "source": [
        "mras = most_runs_average_strikerate_df[['batsman','average']].groupby('batsman').sum().sort_values(by = 'average',ascending = False)\n",
        "mras.iloc[:6]"
      ],
      "execution_count": 48,
      "outputs": [
        {
          "output_type": "execute_result",
          "data": {
            "text/html": [
              "<div>\n",
              "<style scoped>\n",
              "    .dataframe tbody tr th:only-of-type {\n",
              "        vertical-align: middle;\n",
              "    }\n",
              "\n",
              "    .dataframe tbody tr th {\n",
              "        vertical-align: top;\n",
              "    }\n",
              "\n",
              "    .dataframe thead th {\n",
              "        text-align: right;\n",
              "    }\n",
              "</style>\n",
              "<table border=\"1\" class=\"dataframe\">\n",
              "  <thead>\n",
              "    <tr style=\"text-align: right;\">\n",
              "      <th></th>\n",
              "      <th>average</th>\n",
              "    </tr>\n",
              "    <tr>\n",
              "      <th>batsman</th>\n",
              "      <th></th>\n",
              "    </tr>\n",
              "  </thead>\n",
              "  <tbody>\n",
              "    <tr>\n",
              "      <th>Iqbal Abdulla</th>\n",
              "      <td>88.000000</td>\n",
              "    </tr>\n",
              "    <tr>\n",
              "      <th>J Bairstow</th>\n",
              "      <td>57.375000</td>\n",
              "    </tr>\n",
              "    <tr>\n",
              "      <th>MN van Wyk</th>\n",
              "      <td>55.666667</td>\n",
              "    </tr>\n",
              "    <tr>\n",
              "      <th>PD Collingwood</th>\n",
              "      <td>50.750000</td>\n",
              "    </tr>\n",
              "    <tr>\n",
              "      <th>HM Amla</th>\n",
              "      <td>44.384615</td>\n",
              "    </tr>\n",
              "    <tr>\n",
              "      <th>AB de Villiers</th>\n",
              "      <td>42.442308</td>\n",
              "    </tr>\n",
              "  </tbody>\n",
              "</table>\n",
              "</div>"
            ],
            "text/plain": [
              "                  average\n",
              "batsman                  \n",
              "Iqbal Abdulla   88.000000\n",
              "J Bairstow      57.375000\n",
              "MN van Wyk      55.666667\n",
              "PD Collingwood  50.750000\n",
              "HM Amla         44.384615\n",
              "AB de Villiers  42.442308"
            ]
          },
          "metadata": {
            "tags": []
          },
          "execution_count": 48
        }
      ]
    },
    {
      "cell_type": "markdown",
      "metadata": {
        "id": "jwl2R5DstB1T"
      },
      "source": [
        "Above are the batsman with highest average."
      ]
    },
    {
      "cell_type": "code",
      "metadata": {
        "id": "V7IpBgYbk1jG",
        "outputId": "81a73ebf-94c0-4105-b383-4dc99657bcdc",
        "colab": {
          "base_uri": "https://localhost:8080/",
          "height": 202
        }
      },
      "source": [
        "most_runs_average_strikerate_df.sort_values(['strikerate'],ascending=False).head()"
      ],
      "execution_count": 49,
      "outputs": [
        {
          "output_type": "execute_result",
          "data": {
            "text/html": [
              "<div>\n",
              "<style scoped>\n",
              "    .dataframe tbody tr th:only-of-type {\n",
              "        vertical-align: middle;\n",
              "    }\n",
              "\n",
              "    .dataframe tbody tr th {\n",
              "        vertical-align: top;\n",
              "    }\n",
              "\n",
              "    .dataframe thead th {\n",
              "        text-align: right;\n",
              "    }\n",
              "</style>\n",
              "<table border=\"1\" class=\"dataframe\">\n",
              "  <thead>\n",
              "    <tr style=\"text-align: right;\">\n",
              "      <th></th>\n",
              "      <th>batsman</th>\n",
              "      <th>total_runs</th>\n",
              "      <th>out</th>\n",
              "      <th>numberofballs</th>\n",
              "      <th>average</th>\n",
              "      <th>strikerate</th>\n",
              "    </tr>\n",
              "  </thead>\n",
              "  <tbody>\n",
              "    <tr>\n",
              "      <th>443</th>\n",
              "      <td>B Stanlake</td>\n",
              "      <td>5</td>\n",
              "      <td>0</td>\n",
              "      <td>2</td>\n",
              "      <td>NaN</td>\n",
              "      <td>250.000000</td>\n",
              "    </tr>\n",
              "    <tr>\n",
              "      <th>449</th>\n",
              "      <td>KMDN Kulasekara</td>\n",
              "      <td>5</td>\n",
              "      <td>0</td>\n",
              "      <td>2</td>\n",
              "      <td>NaN</td>\n",
              "      <td>250.000000</td>\n",
              "    </tr>\n",
              "    <tr>\n",
              "      <th>301</th>\n",
              "      <td>Umar Gul</td>\n",
              "      <td>39</td>\n",
              "      <td>3</td>\n",
              "      <td>19</td>\n",
              "      <td>13.0</td>\n",
              "      <td>205.263158</td>\n",
              "    </tr>\n",
              "    <tr>\n",
              "      <th>462</th>\n",
              "      <td>VRV Singh</td>\n",
              "      <td>4</td>\n",
              "      <td>1</td>\n",
              "      <td>2</td>\n",
              "      <td>4.0</td>\n",
              "      <td>200.000000</td>\n",
              "    </tr>\n",
              "    <tr>\n",
              "      <th>461</th>\n",
              "      <td>RS Sodhi</td>\n",
              "      <td>4</td>\n",
              "      <td>0</td>\n",
              "      <td>2</td>\n",
              "      <td>NaN</td>\n",
              "      <td>200.000000</td>\n",
              "    </tr>\n",
              "  </tbody>\n",
              "</table>\n",
              "</div>"
            ],
            "text/plain": [
              "             batsman  total_runs  out  numberofballs  average  strikerate\n",
              "443       B Stanlake           5    0              2      NaN  250.000000\n",
              "449  KMDN Kulasekara           5    0              2      NaN  250.000000\n",
              "301         Umar Gul          39    3             19     13.0  205.263158\n",
              "462        VRV Singh           4    1              2      4.0  200.000000\n",
              "461         RS Sodhi           4    0              2      NaN  200.000000"
            ]
          },
          "metadata": {
            "tags": []
          },
          "execution_count": 49
        }
      ]
    },
    {
      "cell_type": "markdown",
      "metadata": {
        "id": "d18AGFAjuwy_"
      },
      "source": [
        "These are the top 5 batsman with best strike rate."
      ]
    },
    {
      "cell_type": "code",
      "metadata": {
        "id": "QiIFGYu2k1g8"
      },
      "source": [
        "data_df = most_runs_average_strikerate_df[['batsman','total_runs','out','numberofballs','average','strikerate']]"
      ],
      "execution_count": 50,
      "outputs": []
    },
    {
      "cell_type": "code",
      "metadata": {
        "id": "EAl1bmxHk1ds",
        "outputId": "679fc549-0460-4cac-c7db-67db8be9842f",
        "colab": {
          "base_uri": "https://localhost:8080/",
          "height": 202
        }
      },
      "source": [
        "corr_df = data_df.corr()\n",
        "corr_df"
      ],
      "execution_count": 51,
      "outputs": [
        {
          "output_type": "execute_result",
          "data": {
            "text/html": [
              "<div>\n",
              "<style scoped>\n",
              "    .dataframe tbody tr th:only-of-type {\n",
              "        vertical-align: middle;\n",
              "    }\n",
              "\n",
              "    .dataframe tbody tr th {\n",
              "        vertical-align: top;\n",
              "    }\n",
              "\n",
              "    .dataframe thead th {\n",
              "        text-align: right;\n",
              "    }\n",
              "</style>\n",
              "<table border=\"1\" class=\"dataframe\">\n",
              "  <thead>\n",
              "    <tr style=\"text-align: right;\">\n",
              "      <th></th>\n",
              "      <th>total_runs</th>\n",
              "      <th>out</th>\n",
              "      <th>numberofballs</th>\n",
              "      <th>average</th>\n",
              "      <th>strikerate</th>\n",
              "    </tr>\n",
              "  </thead>\n",
              "  <tbody>\n",
              "    <tr>\n",
              "      <th>total_runs</th>\n",
              "      <td>1.000000</td>\n",
              "      <td>0.972650</td>\n",
              "      <td>0.995744</td>\n",
              "      <td>0.556467</td>\n",
              "      <td>0.308024</td>\n",
              "    </tr>\n",
              "    <tr>\n",
              "      <th>out</th>\n",
              "      <td>0.972650</td>\n",
              "      <td>1.000000</td>\n",
              "      <td>0.977280</td>\n",
              "      <td>0.506673</td>\n",
              "      <td>0.316884</td>\n",
              "    </tr>\n",
              "    <tr>\n",
              "      <th>numberofballs</th>\n",
              "      <td>0.995744</td>\n",
              "      <td>0.977280</td>\n",
              "      <td>1.000000</td>\n",
              "      <td>0.550079</td>\n",
              "      <td>0.292358</td>\n",
              "    </tr>\n",
              "    <tr>\n",
              "      <th>average</th>\n",
              "      <td>0.556467</td>\n",
              "      <td>0.506673</td>\n",
              "      <td>0.550079</td>\n",
              "      <td>1.000000</td>\n",
              "      <td>0.626234</td>\n",
              "    </tr>\n",
              "    <tr>\n",
              "      <th>strikerate</th>\n",
              "      <td>0.308024</td>\n",
              "      <td>0.316884</td>\n",
              "      <td>0.292358</td>\n",
              "      <td>0.626234</td>\n",
              "      <td>1.000000</td>\n",
              "    </tr>\n",
              "  </tbody>\n",
              "</table>\n",
              "</div>"
            ],
            "text/plain": [
              "               total_runs       out  numberofballs   average  strikerate\n",
              "total_runs       1.000000  0.972650       0.995744  0.556467    0.308024\n",
              "out              0.972650  1.000000       0.977280  0.506673    0.316884\n",
              "numberofballs    0.995744  0.977280       1.000000  0.550079    0.292358\n",
              "average          0.556467  0.506673       0.550079  1.000000    0.626234\n",
              "strikerate       0.308024  0.316884       0.292358  0.626234    1.000000"
            ]
          },
          "metadata": {
            "tags": []
          },
          "execution_count": 51
        }
      ]
    },
    {
      "cell_type": "code",
      "metadata": {
        "id": "E8qthRPAEbSG",
        "outputId": "0176eb7b-1714-4e09-ceea-3e3084f744fa",
        "colab": {
          "base_uri": "https://localhost:8080/",
          "height": 345
        }
      },
      "source": [
        "plt.figure(figsize=(10,5))\n",
        "sns.heatmap(corr_df)"
      ],
      "execution_count": 52,
      "outputs": [
        {
          "output_type": "execute_result",
          "data": {
            "text/plain": [
              "<matplotlib.axes._subplots.AxesSubplot at 0x7f844c5310b8>"
            ]
          },
          "metadata": {
            "tags": []
          },
          "execution_count": 52
        },
        {
          "output_type": "display_data",
          "data": {
            "image/png": "[encoded data removed]",
            "text/plain": [
              "<Figure size 720x360 with 2 Axes>"
            ]
          },
          "metadata": {
            "tags": []
          }
        }
      ]
    },
    {
      "cell_type": "code",
      "metadata": {
        "id": "U3WTscydxTZS"
      },
      "source": [
        "working_directory = '/content/drive/My Drive/AlmaBetter/CohortAravali/Cohort Aravali/Module 2/Capstone-1/'\n",
        "deliveries_df = pd.read_csv(working_directory + 'deliveries.csv')"
      ],
      "execution_count": 53,
      "outputs": []
    },
    {
      "cell_type": "code",
      "metadata": {
        "id": "LUhRuNxzlgkV",
        "outputId": "a71ef841-ad4e-4222-a382-8d4e02caf241",
        "colab": {
          "base_uri": "https://localhost:8080/",
          "height": 395
        }
      },
      "source": [
        "deliveries_df.head()"
      ],
      "execution_count": 54,
      "outputs": [
        {
          "output_type": "execute_result",
          "data": {
            "text/html": [
              "<div>\n",
              "<style scoped>\n",
              "    .dataframe tbody tr th:only-of-type {\n",
              "        vertical-align: middle;\n",
              "    }\n",
              "\n",
              "    .dataframe tbody tr th {\n",
              "        vertical-align: top;\n",
              "    }\n",
              "\n",
              "    .dataframe thead th {\n",
              "        text-align: right;\n",
              "    }\n",
              "</style>\n",
              "<table border=\"1\" class=\"dataframe\">\n",
              "  <thead>\n",
              "    <tr style=\"text-align: right;\">\n",
              "      <th></th>\n",
              "      <th>match_id</th>\n",
              "      <th>inning</th>\n",
              "      <th>batting_team</th>\n",
              "      <th>bowling_team</th>\n",
              "      <th>over</th>\n",
              "      <th>ball</th>\n",
              "      <th>batsman</th>\n",
              "      <th>non_striker</th>\n",
              "      <th>bowler</th>\n",
              "      <th>is_super_over</th>\n",
              "      <th>wide_runs</th>\n",
              "      <th>bye_runs</th>\n",
              "      <th>legbye_runs</th>\n",
              "      <th>noball_runs</th>\n",
              "      <th>penalty_runs</th>\n",
              "      <th>batsman_runs</th>\n",
              "      <th>extra_runs</th>\n",
              "      <th>total_runs</th>\n",
              "      <th>player_dismissed</th>\n",
              "      <th>dismissal_kind</th>\n",
              "      <th>fielder</th>\n",
              "    </tr>\n",
              "  </thead>\n",
              "  <tbody>\n",
              "    <tr>\n",
              "      <th>0</th>\n",
              "      <td>1</td>\n",
              "      <td>1</td>\n",
              "      <td>Sunrisers Hyderabad</td>\n",
              "      <td>Royal Challengers Bangalore</td>\n",
              "      <td>1</td>\n",
              "      <td>1</td>\n",
              "      <td>DA Warner</td>\n",
              "      <td>S Dhawan</td>\n",
              "      <td>TS Mills</td>\n",
              "      <td>0</td>\n",
              "      <td>0</td>\n",
              "      <td>0</td>\n",
              "      <td>0</td>\n",
              "      <td>0</td>\n",
              "      <td>0</td>\n",
              "      <td>0</td>\n",
              "      <td>0</td>\n",
              "      <td>0</td>\n",
              "      <td>NaN</td>\n",
              "      <td>NaN</td>\n",
              "      <td>NaN</td>\n",
              "    </tr>\n",
              "    <tr>\n",
              "      <th>1</th>\n",
              "      <td>1</td>\n",
              "      <td>1</td>\n",
              "      <td>Sunrisers Hyderabad</td>\n",
              "      <td>Royal Challengers Bangalore</td>\n",
              "      <td>1</td>\n",
              "      <td>2</td>\n",
              "      <td>DA Warner</td>\n",
              "      <td>S Dhawan</td>\n",
              "      <td>TS Mills</td>\n",
              "      <td>0</td>\n",
              "      <td>0</td>\n",
              "      <td>0</td>\n",
              "      <td>0</td>\n",
              "      <td>0</td>\n",
              "      <td>0</td>\n",
              "      <td>0</td>\n",
              "      <td>0</td>\n",
              "      <td>0</td>\n",
              "      <td>NaN</td>\n",
              "      <td>NaN</td>\n",
              "      <td>NaN</td>\n",
              "    </tr>\n",
              "    <tr>\n",
              "      <th>2</th>\n",
              "      <td>1</td>\n",
              "      <td>1</td>\n",
              "      <td>Sunrisers Hyderabad</td>\n",
              "      <td>Royal Challengers Bangalore</td>\n",
              "      <td>1</td>\n",
              "      <td>3</td>\n",
              "      <td>DA Warner</td>\n",
              "      <td>S Dhawan</td>\n",
              "      <td>TS Mills</td>\n",
              "      <td>0</td>\n",
              "      <td>0</td>\n",
              "      <td>0</td>\n",
              "      <td>0</td>\n",
              "      <td>0</td>\n",
              "      <td>0</td>\n",
              "      <td>4</td>\n",
              "      <td>0</td>\n",
              "      <td>4</td>\n",
              "      <td>NaN</td>\n",
              "      <td>NaN</td>\n",
              "      <td>NaN</td>\n",
              "    </tr>\n",
              "    <tr>\n",
              "      <th>3</th>\n",
              "      <td>1</td>\n",
              "      <td>1</td>\n",
              "      <td>Sunrisers Hyderabad</td>\n",
              "      <td>Royal Challengers Bangalore</td>\n",
              "      <td>1</td>\n",
              "      <td>4</td>\n",
              "      <td>DA Warner</td>\n",
              "      <td>S Dhawan</td>\n",
              "      <td>TS Mills</td>\n",
              "      <td>0</td>\n",
              "      <td>0</td>\n",
              "      <td>0</td>\n",
              "      <td>0</td>\n",
              "      <td>0</td>\n",
              "      <td>0</td>\n",
              "      <td>0</td>\n",
              "      <td>0</td>\n",
              "      <td>0</td>\n",
              "      <td>NaN</td>\n",
              "      <td>NaN</td>\n",
              "      <td>NaN</td>\n",
              "    </tr>\n",
              "    <tr>\n",
              "      <th>4</th>\n",
              "      <td>1</td>\n",
              "      <td>1</td>\n",
              "      <td>Sunrisers Hyderabad</td>\n",
              "      <td>Royal Challengers Bangalore</td>\n",
              "      <td>1</td>\n",
              "      <td>5</td>\n",
              "      <td>DA Warner</td>\n",
              "      <td>S Dhawan</td>\n",
              "      <td>TS Mills</td>\n",
              "      <td>0</td>\n",
              "      <td>2</td>\n",
              "      <td>0</td>\n",
              "      <td>0</td>\n",
              "      <td>0</td>\n",
              "      <td>0</td>\n",
              "      <td>0</td>\n",
              "      <td>2</td>\n",
              "      <td>2</td>\n",
              "      <td>NaN</td>\n",
              "      <td>NaN</td>\n",
              "      <td>NaN</td>\n",
              "    </tr>\n",
              "  </tbody>\n",
              "</table>\n",
              "</div>"
            ],
            "text/plain": [
              "   match_id  inning  ... dismissal_kind fielder\n",
              "0         1       1  ...            NaN     NaN\n",
              "1         1       1  ...            NaN     NaN\n",
              "2         1       1  ...            NaN     NaN\n",
              "3         1       1  ...            NaN     NaN\n",
              "4         1       1  ...            NaN     NaN\n",
              "\n",
              "[5 rows x 21 columns]"
            ]
          },
          "metadata": {
            "tags": []
          },
          "execution_count": 54
        }
      ]
    },
    {
      "cell_type": "code",
      "metadata": {
        "id": "Kmr0QQ9NnoIE",
        "outputId": "c19040bc-fb3f-4a39-c311-e88a9cfca257",
        "colab": {
          "base_uri": "https://localhost:8080/"
        }
      },
      "source": [
        "deliveries_df.info()"
      ],
      "execution_count": 55,
      "outputs": [
        {
          "output_type": "stream",
          "text": [
            "<class 'pandas.core.frame.DataFrame'>\n",
            "RangeIndex: 179078 entries, 0 to 179077\n",
            "Data columns (total 21 columns):\n",
            " #   Column            Non-Null Count   Dtype \n",
            "---  ------            --------------   ----- \n",
            " 0   match_id          179078 non-null  int64 \n",
            " 1   inning            179078 non-null  int64 \n",
            " 2   batting_team      179078 non-null  object\n",
            " 3   bowling_team      179078 non-null  object\n",
            " 4   over              179078 non-null  int64 \n",
            " 5   ball              179078 non-null  int64 \n",
            " 6   batsman           179078 non-null  object\n",
            " 7   non_striker       179078 non-null  object\n",
            " 8   bowler            179078 non-null  object\n",
            " 9   is_super_over     179078 non-null  int64 \n",
            " 10  wide_runs         179078 non-null  int64 \n",
            " 11  bye_runs          179078 non-null  int64 \n",
            " 12  legbye_runs       179078 non-null  int64 \n",
            " 13  noball_runs       179078 non-null  int64 \n",
            " 14  penalty_runs      179078 non-null  int64 \n",
            " 15  batsman_runs      179078 non-null  int64 \n",
            " 16  extra_runs        179078 non-null  int64 \n",
            " 17  total_runs        179078 non-null  int64 \n",
            " 18  player_dismissed  8834 non-null    object\n",
            " 19  dismissal_kind    8834 non-null    object\n",
            " 20  fielder           6448 non-null    object\n",
            "dtypes: int64(13), object(8)\n",
            "memory usage: 28.7+ MB\n"
          ],
          "name": "stdout"
        }
      ]
    },
    {
      "cell_type": "code",
      "metadata": {
        "id": "igiW3EKPntyQ",
        "outputId": "a200b0a2-0339-4edc-8eb5-c490cdc33c4a",
        "colab": {
          "base_uri": "https://localhost:8080/",
          "height": 314
        }
      },
      "source": [
        "deliveries_df.describe()"
      ],
      "execution_count": 56,
      "outputs": [
        {
          "output_type": "execute_result",
          "data": {
            "text/html": [
              "<div>\n",
              "<style scoped>\n",
              "    .dataframe tbody tr th:only-of-type {\n",
              "        vertical-align: middle;\n",
              "    }\n",
              "\n",
              "    .dataframe tbody tr th {\n",
              "        vertical-align: top;\n",
              "    }\n",
              "\n",
              "    .dataframe thead th {\n",
              "        text-align: right;\n",
              "    }\n",
              "</style>\n",
              "<table border=\"1\" class=\"dataframe\">\n",
              "  <thead>\n",
              "    <tr style=\"text-align: right;\">\n",
              "      <th></th>\n",
              "      <th>match_id</th>\n",
              "      <th>inning</th>\n",
              "      <th>over</th>\n",
              "      <th>ball</th>\n",
              "      <th>is_super_over</th>\n",
              "      <th>wide_runs</th>\n",
              "      <th>bye_runs</th>\n",
              "      <th>legbye_runs</th>\n",
              "      <th>noball_runs</th>\n",
              "      <th>penalty_runs</th>\n",
              "      <th>batsman_runs</th>\n",
              "      <th>extra_runs</th>\n",
              "      <th>total_runs</th>\n",
              "    </tr>\n",
              "  </thead>\n",
              "  <tbody>\n",
              "    <tr>\n",
              "      <th>count</th>\n",
              "      <td>179078.000000</td>\n",
              "      <td>179078.000000</td>\n",
              "      <td>179078.000000</td>\n",
              "      <td>179078.000000</td>\n",
              "      <td>179078.000000</td>\n",
              "      <td>179078.000000</td>\n",
              "      <td>179078.000000</td>\n",
              "      <td>179078.000000</td>\n",
              "      <td>179078.000000</td>\n",
              "      <td>179078.000000</td>\n",
              "      <td>179078.000000</td>\n",
              "      <td>179078.000000</td>\n",
              "      <td>179078.000000</td>\n",
              "    </tr>\n",
              "    <tr>\n",
              "      <th>mean</th>\n",
              "      <td>1802.252957</td>\n",
              "      <td>1.482952</td>\n",
              "      <td>10.162488</td>\n",
              "      <td>3.615587</td>\n",
              "      <td>0.000452</td>\n",
              "      <td>0.036721</td>\n",
              "      <td>0.004936</td>\n",
              "      <td>0.021136</td>\n",
              "      <td>0.004183</td>\n",
              "      <td>0.000056</td>\n",
              "      <td>1.246864</td>\n",
              "      <td>0.067032</td>\n",
              "      <td>1.313897</td>\n",
              "    </tr>\n",
              "    <tr>\n",
              "      <th>std</th>\n",
              "      <td>3472.322805</td>\n",
              "      <td>0.502074</td>\n",
              "      <td>5.677684</td>\n",
              "      <td>1.806966</td>\n",
              "      <td>0.021263</td>\n",
              "      <td>0.251161</td>\n",
              "      <td>0.116480</td>\n",
              "      <td>0.194908</td>\n",
              "      <td>0.070492</td>\n",
              "      <td>0.016709</td>\n",
              "      <td>1.608270</td>\n",
              "      <td>0.342553</td>\n",
              "      <td>1.605422</td>\n",
              "    </tr>\n",
              "    <tr>\n",
              "      <th>min</th>\n",
              "      <td>1.000000</td>\n",
              "      <td>1.000000</td>\n",
              "      <td>1.000000</td>\n",
              "      <td>1.000000</td>\n",
              "      <td>0.000000</td>\n",
              "      <td>0.000000</td>\n",
              "      <td>0.000000</td>\n",
              "      <td>0.000000</td>\n",
              "      <td>0.000000</td>\n",
              "      <td>0.000000</td>\n",
              "      <td>0.000000</td>\n",
              "      <td>0.000000</td>\n",
              "      <td>0.000000</td>\n",
              "    </tr>\n",
              "    <tr>\n",
              "      <th>25%</th>\n",
              "      <td>190.000000</td>\n",
              "      <td>1.000000</td>\n",
              "      <td>5.000000</td>\n",
              "      <td>2.000000</td>\n",
              "      <td>0.000000</td>\n",
              "      <td>0.000000</td>\n",
              "      <td>0.000000</td>\n",
              "      <td>0.000000</td>\n",
              "      <td>0.000000</td>\n",
              "      <td>0.000000</td>\n",
              "      <td>0.000000</td>\n",
              "      <td>0.000000</td>\n",
              "      <td>0.000000</td>\n",
              "    </tr>\n",
              "    <tr>\n",
              "      <th>50%</th>\n",
              "      <td>379.000000</td>\n",
              "      <td>1.000000</td>\n",
              "      <td>10.000000</td>\n",
              "      <td>4.000000</td>\n",
              "      <td>0.000000</td>\n",
              "      <td>0.000000</td>\n",
              "      <td>0.000000</td>\n",
              "      <td>0.000000</td>\n",
              "      <td>0.000000</td>\n",
              "      <td>0.000000</td>\n",
              "      <td>1.000000</td>\n",
              "      <td>0.000000</td>\n",
              "      <td>1.000000</td>\n",
              "    </tr>\n",
              "    <tr>\n",
              "      <th>75%</th>\n",
              "      <td>567.000000</td>\n",
              "      <td>2.000000</td>\n",
              "      <td>15.000000</td>\n",
              "      <td>5.000000</td>\n",
              "      <td>0.000000</td>\n",
              "      <td>0.000000</td>\n",
              "      <td>0.000000</td>\n",
              "      <td>0.000000</td>\n",
              "      <td>0.000000</td>\n",
              "      <td>0.000000</td>\n",
              "      <td>1.000000</td>\n",
              "      <td>0.000000</td>\n",
              "      <td>1.000000</td>\n",
              "    </tr>\n",
              "    <tr>\n",
              "      <th>max</th>\n",
              "      <td>11415.000000</td>\n",
              "      <td>5.000000</td>\n",
              "      <td>20.000000</td>\n",
              "      <td>9.000000</td>\n",
              "      <td>1.000000</td>\n",
              "      <td>5.000000</td>\n",
              "      <td>4.000000</td>\n",
              "      <td>5.000000</td>\n",
              "      <td>5.000000</td>\n",
              "      <td>5.000000</td>\n",
              "      <td>7.000000</td>\n",
              "      <td>7.000000</td>\n",
              "      <td>10.000000</td>\n",
              "    </tr>\n",
              "  </tbody>\n",
              "</table>\n",
              "</div>"
            ],
            "text/plain": [
              "            match_id         inning  ...     extra_runs     total_runs\n",
              "count  179078.000000  179078.000000  ...  179078.000000  179078.000000\n",
              "mean     1802.252957       1.482952  ...       0.067032       1.313897\n",
              "std      3472.322805       0.502074  ...       0.342553       1.605422\n",
              "min         1.000000       1.000000  ...       0.000000       0.000000\n",
              "25%       190.000000       1.000000  ...       0.000000       0.000000\n",
              "50%       379.000000       1.000000  ...       0.000000       1.000000\n",
              "75%       567.000000       2.000000  ...       0.000000       1.000000\n",
              "max     11415.000000       5.000000  ...       7.000000      10.000000\n",
              "\n",
              "[8 rows x 13 columns]"
            ]
          },
          "metadata": {
            "tags": []
          },
          "execution_count": 56
        }
      ]
    },
    {
      "cell_type": "code",
      "metadata": {
        "id": "IYIsk_fQlgiZ",
        "outputId": "2a82466d-e873-454c-8a37-dc362c1ccaaf",
        "colab": {
          "base_uri": "https://localhost:8080/",
          "height": 233
        }
      },
      "source": [
        "batsmen_score = pd.DataFrame(deliveries_df.groupby(['match_id','batsman']).sum()['batsman_runs'])\n",
        "batsmen_score.head()"
      ],
      "execution_count": 57,
      "outputs": [
        {
          "output_type": "execute_result",
          "data": {
            "text/html": [
              "<div>\n",
              "<style scoped>\n",
              "    .dataframe tbody tr th:only-of-type {\n",
              "        vertical-align: middle;\n",
              "    }\n",
              "\n",
              "    .dataframe tbody tr th {\n",
              "        vertical-align: top;\n",
              "    }\n",
              "\n",
              "    .dataframe thead th {\n",
              "        text-align: right;\n",
              "    }\n",
              "</style>\n",
              "<table border=\"1\" class=\"dataframe\">\n",
              "  <thead>\n",
              "    <tr style=\"text-align: right;\">\n",
              "      <th></th>\n",
              "      <th></th>\n",
              "      <th>batsman_runs</th>\n",
              "    </tr>\n",
              "    <tr>\n",
              "      <th>match_id</th>\n",
              "      <th>batsman</th>\n",
              "      <th></th>\n",
              "    </tr>\n",
              "  </thead>\n",
              "  <tbody>\n",
              "    <tr>\n",
              "      <th rowspan=\"5\" valign=\"top\">1</th>\n",
              "      <th>A Choudhary</th>\n",
              "      <td>6</td>\n",
              "    </tr>\n",
              "    <tr>\n",
              "      <th>BCJ Cutting</th>\n",
              "      <td>16</td>\n",
              "    </tr>\n",
              "    <tr>\n",
              "      <th>CH Gayle</th>\n",
              "      <td>32</td>\n",
              "    </tr>\n",
              "    <tr>\n",
              "      <th>DA Warner</th>\n",
              "      <td>14</td>\n",
              "    </tr>\n",
              "    <tr>\n",
              "      <th>DJ Hooda</th>\n",
              "      <td>16</td>\n",
              "    </tr>\n",
              "  </tbody>\n",
              "</table>\n",
              "</div>"
            ],
            "text/plain": [
              "                      batsman_runs\n",
              "match_id batsman                  \n",
              "1        A Choudhary             6\n",
              "         BCJ Cutting            16\n",
              "         CH Gayle               32\n",
              "         DA Warner              14\n",
              "         DJ Hooda               16"
            ]
          },
          "metadata": {
            "tags": []
          },
          "execution_count": 57
        }
      ]
    },
    {
      "cell_type": "code",
      "metadata": {
        "id": "LHeSS2jWlggu",
        "outputId": "b56d42e7-4a65-47d6-f3ee-5b318a965fa3",
        "colab": {
          "base_uri": "https://localhost:8080/",
          "height": 375
        }
      },
      "source": [
        "plt.rcParams['figure.figsize'] = 10,5\n",
        "batsmen_score.plot(kind = 'hist',fontsize = 20)\n",
        "plt.xlabel('Runs Scored',fontsize = 20)\n",
        "plt.ylabel('Number of Times',fontsize = 20)\n",
        "plt.title('Histogram for Runs Scored',fontsize = 20)\n",
        "plt.show()"
      ],
      "execution_count": 58,
      "outputs": [
        {
          "output_type": "display_data",
          "data": {
            "image/png": "[encoded data removed]",
            "text/plain": [
              "<Figure size 720x360 with 1 Axes>"
            ]
          },
          "metadata": {
            "tags": []
          }
        }
      ]
    },
    {
      "cell_type": "code",
      "metadata": {
        "id": "H6gwcSEilgeI"
      },
      "source": [
        "Batsman_score=deliveries_df.groupby('batsman')[\"batsman_runs\"].agg(sum).reset_index().sort_values(by=\"batsman_runs\",ascending=False).reset_index(drop=True)"
      ],
      "execution_count": 59,
      "outputs": []
    },
    {
      "cell_type": "code",
      "metadata": {
        "id": "43d3N4TQlgcT"
      },
      "source": [
        "Top_batsman_score= Batsman_score.iloc[:10]"
      ],
      "execution_count": 60,
      "outputs": []
    },
    {
      "cell_type": "code",
      "metadata": {
        "id": "qGP12IxflgXv",
        "outputId": "a6797bff-8ffb-45e0-e937-3c0af6bc68ad",
        "colab": {
          "base_uri": "https://localhost:8080/",
          "height": 355
        }
      },
      "source": [
        "Top_batsman_score"
      ],
      "execution_count": 61,
      "outputs": [
        {
          "output_type": "execute_result",
          "data": {
            "text/html": [
              "<div>\n",
              "<style scoped>\n",
              "    .dataframe tbody tr th:only-of-type {\n",
              "        vertical-align: middle;\n",
              "    }\n",
              "\n",
              "    .dataframe tbody tr th {\n",
              "        vertical-align: top;\n",
              "    }\n",
              "\n",
              "    .dataframe thead th {\n",
              "        text-align: right;\n",
              "    }\n",
              "</style>\n",
              "<table border=\"1\" class=\"dataframe\">\n",
              "  <thead>\n",
              "    <tr style=\"text-align: right;\">\n",
              "      <th></th>\n",
              "      <th>batsman</th>\n",
              "      <th>batsman_runs</th>\n",
              "    </tr>\n",
              "  </thead>\n",
              "  <tbody>\n",
              "    <tr>\n",
              "      <th>0</th>\n",
              "      <td>V Kohli</td>\n",
              "      <td>5434</td>\n",
              "    </tr>\n",
              "    <tr>\n",
              "      <th>1</th>\n",
              "      <td>SK Raina</td>\n",
              "      <td>5415</td>\n",
              "    </tr>\n",
              "    <tr>\n",
              "      <th>2</th>\n",
              "      <td>RG Sharma</td>\n",
              "      <td>4914</td>\n",
              "    </tr>\n",
              "    <tr>\n",
              "      <th>3</th>\n",
              "      <td>DA Warner</td>\n",
              "      <td>4741</td>\n",
              "    </tr>\n",
              "    <tr>\n",
              "      <th>4</th>\n",
              "      <td>S Dhawan</td>\n",
              "      <td>4632</td>\n",
              "    </tr>\n",
              "    <tr>\n",
              "      <th>5</th>\n",
              "      <td>CH Gayle</td>\n",
              "      <td>4560</td>\n",
              "    </tr>\n",
              "    <tr>\n",
              "      <th>6</th>\n",
              "      <td>MS Dhoni</td>\n",
              "      <td>4477</td>\n",
              "    </tr>\n",
              "    <tr>\n",
              "      <th>7</th>\n",
              "      <td>RV Uthappa</td>\n",
              "      <td>4446</td>\n",
              "    </tr>\n",
              "    <tr>\n",
              "      <th>8</th>\n",
              "      <td>AB de Villiers</td>\n",
              "      <td>4428</td>\n",
              "    </tr>\n",
              "    <tr>\n",
              "      <th>9</th>\n",
              "      <td>G Gambhir</td>\n",
              "      <td>4223</td>\n",
              "    </tr>\n",
              "  </tbody>\n",
              "</table>\n",
              "</div>"
            ],
            "text/plain": [
              "          batsman  batsman_runs\n",
              "0         V Kohli          5434\n",
              "1        SK Raina          5415\n",
              "2       RG Sharma          4914\n",
              "3       DA Warner          4741\n",
              "4        S Dhawan          4632\n",
              "5        CH Gayle          4560\n",
              "6        MS Dhoni          4477\n",
              "7      RV Uthappa          4446\n",
              "8  AB de Villiers          4428\n",
              "9       G Gambhir          4223"
            ]
          },
          "metadata": {
            "tags": []
          },
          "execution_count": 61
        }
      ]
    },
    {
      "cell_type": "markdown",
      "metadata": {
        "id": "_txvQ2yDp3_3"
      },
      "source": [
        "\n",
        "\n",
        "*   Virat Kohli is the batsman with highest runs.\n"
      ]
    },
    {
      "cell_type": "code",
      "metadata": {
        "id": "-HDuLlE6qvdm",
        "outputId": "97292dd8-0045-448b-d26e-d712c075230f",
        "colab": {
          "base_uri": "https://localhost:8080/",
          "height": 386
        }
      },
      "source": [
        "Batsman_ball_faced=deliveries_df.groupby(['batsman'])[\"ball\"].count().reset_index().sort_values(by=\"ball\",ascending=False).reset_index(drop=True)\n",
        "Batsman_ball_faced_Top=Batsman_ball_faced.iloc[:11]\n",
        "Batsman_ball_faced_Top"
      ],
      "execution_count": 62,
      "outputs": [
        {
          "output_type": "execute_result",
          "data": {
            "text/html": [
              "<div>\n",
              "<style scoped>\n",
              "    .dataframe tbody tr th:only-of-type {\n",
              "        vertical-align: middle;\n",
              "    }\n",
              "\n",
              "    .dataframe tbody tr th {\n",
              "        vertical-align: top;\n",
              "    }\n",
              "\n",
              "    .dataframe thead th {\n",
              "        text-align: right;\n",
              "    }\n",
              "</style>\n",
              "<table border=\"1\" class=\"dataframe\">\n",
              "  <thead>\n",
              "    <tr style=\"text-align: right;\">\n",
              "      <th></th>\n",
              "      <th>batsman</th>\n",
              "      <th>ball</th>\n",
              "    </tr>\n",
              "  </thead>\n",
              "  <tbody>\n",
              "    <tr>\n",
              "      <th>0</th>\n",
              "      <td>V Kohli</td>\n",
              "      <td>4211</td>\n",
              "    </tr>\n",
              "    <tr>\n",
              "      <th>1</th>\n",
              "      <td>SK Raina</td>\n",
              "      <td>4044</td>\n",
              "    </tr>\n",
              "    <tr>\n",
              "      <th>2</th>\n",
              "      <td>RG Sharma</td>\n",
              "      <td>3816</td>\n",
              "    </tr>\n",
              "    <tr>\n",
              "      <th>3</th>\n",
              "      <td>S Dhawan</td>\n",
              "      <td>3776</td>\n",
              "    </tr>\n",
              "    <tr>\n",
              "      <th>4</th>\n",
              "      <td>G Gambhir</td>\n",
              "      <td>3524</td>\n",
              "    </tr>\n",
              "    <tr>\n",
              "      <th>5</th>\n",
              "      <td>RV Uthappa</td>\n",
              "      <td>3492</td>\n",
              "    </tr>\n",
              "    <tr>\n",
              "      <th>6</th>\n",
              "      <td>DA Warner</td>\n",
              "      <td>3398</td>\n",
              "    </tr>\n",
              "    <tr>\n",
              "      <th>7</th>\n",
              "      <td>MS Dhoni</td>\n",
              "      <td>3318</td>\n",
              "    </tr>\n",
              "    <tr>\n",
              "      <th>8</th>\n",
              "      <td>AM Rahane</td>\n",
              "      <td>3215</td>\n",
              "    </tr>\n",
              "    <tr>\n",
              "      <th>9</th>\n",
              "      <td>CH Gayle</td>\n",
              "      <td>3131</td>\n",
              "    </tr>\n",
              "    <tr>\n",
              "      <th>10</th>\n",
              "      <td>AB de Villiers</td>\n",
              "      <td>2977</td>\n",
              "    </tr>\n",
              "  </tbody>\n",
              "</table>\n",
              "</div>"
            ],
            "text/plain": [
              "           batsman  ball\n",
              "0          V Kohli  4211\n",
              "1         SK Raina  4044\n",
              "2        RG Sharma  3816\n",
              "3         S Dhawan  3776\n",
              "4        G Gambhir  3524\n",
              "5       RV Uthappa  3492\n",
              "6        DA Warner  3398\n",
              "7         MS Dhoni  3318\n",
              "8        AM Rahane  3215\n",
              "9         CH Gayle  3131\n",
              "10  AB de Villiers  2977"
            ]
          },
          "metadata": {
            "tags": []
          },
          "execution_count": 62
        }
      ]
    },
    {
      "cell_type": "markdown",
      "metadata": {
        "id": "jtoUtk6XrFYk"
      },
      "source": [
        "* Virat Kohli has faced maximum balls.\n",
        "\n"
      ]
    },
    {
      "cell_type": "code",
      "metadata": {
        "id": "bZt0cgn72jC9",
        "outputId": "a9980d9b-ad38-4dd7-d477-3b32e21e100a",
        "colab": {
          "base_uri": "https://localhost:8080/",
          "height": 183
        }
      },
      "source": [
        "aggregatedata = pd.merge(matches,deliveries, left_on = 'id',right_on = 'match_id')\n",
        "aggregatedata.columns"
      ],
      "execution_count": 126,
      "outputs": [
        {
          "output_type": "error",
          "ename": "NameError",
          "evalue": "ignored",
          "traceback": [
            "\u001b[0;31m---------------------------------------------------------------------------\u001b[0m",
            "\u001b[0;31mNameError\u001b[0m                                 Traceback (most recent call last)",
            "\u001b[0;32m<ipython-input-126-59e902c1eeeb>\u001b[0m in \u001b[0;36m<module>\u001b[0;34m()\u001b[0m\n\u001b[0;32m----> 1\u001b[0;31m \u001b[0maggregatedata\u001b[0m \u001b[0;34m=\u001b[0m \u001b[0mpd\u001b[0m\u001b[0;34m.\u001b[0m\u001b[0mmerge\u001b[0m\u001b[0;34m(\u001b[0m\u001b[0mmatches\u001b[0m\u001b[0;34m,\u001b[0m\u001b[0mdeliveries\u001b[0m\u001b[0;34m,\u001b[0m \u001b[0mleft_on\u001b[0m \u001b[0;34m=\u001b[0m \u001b[0;34m'id'\u001b[0m\u001b[0;34m,\u001b[0m\u001b[0mright_on\u001b[0m \u001b[0;34m=\u001b[0m \u001b[0;34m'match_id'\u001b[0m\u001b[0;34m)\u001b[0m\u001b[0;34m\u001b[0m\u001b[0;34m\u001b[0m\u001b[0m\n\u001b[0m\u001b[1;32m      2\u001b[0m \u001b[0maggregatedata\u001b[0m\u001b[0;34m.\u001b[0m\u001b[0mcolumns\u001b[0m\u001b[0;34m\u001b[0m\u001b[0;34m\u001b[0m\u001b[0m\n",
            "\u001b[0;31mNameError\u001b[0m: name 'matches' is not defined"
          ]
        }
      ]
    },
    {
      "cell_type": "code",
      "metadata": {
        "id": "3bjjZQYA2i-f"
      },
      "source": [
        ""
      ],
      "execution_count": null,
      "outputs": []
    },
    {
      "cell_type": "code",
      "metadata": {
        "id": "cD2kdpf317ih",
        "outputId": "28146422-bca5-4c82-d484-fb1a87046be7",
        "colab": {
          "base_uri": "https://localhost:8080/",
          "height": 235
        }
      },
      "source": [
        "batsmen_strikerate_season = pd.DataFrame(aggregatedata.groupby(['season','batsman']).agg({'batsman_runs' : 'sum','ball' : 'count'}))\n",
        "batsmen_strikerate_season['Strike Rate'] = batsmen_strikerate_season['batsman_runs']/batsmen_strikerate_season['ball']*100\n",
        "batsmen_strikerate_season = batsmen_strikerate_season.sort_values(by =['season','Strike Rate'] , ascending = False)\n",
        "batsmen_strikerate_season.reset_index(inplace = True)\n",
        "batsmen_strikerate_season[batsmen_strikerate_season['batsman_runs'] > 300].head()"
      ],
      "execution_count": 125,
      "outputs": [
        {
          "output_type": "error",
          "ename": "NameError",
          "evalue": "ignored",
          "traceback": [
            "\u001b[0;31m---------------------------------------------------------------------------\u001b[0m",
            "\u001b[0;31mNameError\u001b[0m                                 Traceback (most recent call last)",
            "\u001b[0;32m<ipython-input-125-1effa1c63ace>\u001b[0m in \u001b[0;36m<module>\u001b[0;34m()\u001b[0m\n\u001b[0;32m----> 1\u001b[0;31m \u001b[0mbatsmen_strikerate_season\u001b[0m \u001b[0;34m=\u001b[0m \u001b[0mpd\u001b[0m\u001b[0;34m.\u001b[0m\u001b[0mDataFrame\u001b[0m\u001b[0;34m(\u001b[0m\u001b[0maggregatedata\u001b[0m\u001b[0;34m.\u001b[0m\u001b[0mgroupby\u001b[0m\u001b[0;34m(\u001b[0m\u001b[0;34m[\u001b[0m\u001b[0;34m'season'\u001b[0m\u001b[0;34m,\u001b[0m\u001b[0;34m'batsman'\u001b[0m\u001b[0;34m]\u001b[0m\u001b[0;34m)\u001b[0m\u001b[0;34m.\u001b[0m\u001b[0magg\u001b[0m\u001b[0;34m(\u001b[0m\u001b[0;34m{\u001b[0m\u001b[0;34m'batsman_runs'\u001b[0m \u001b[0;34m:\u001b[0m \u001b[0;34m'sum'\u001b[0m\u001b[0;34m,\u001b[0m\u001b[0;34m'ball'\u001b[0m \u001b[0;34m:\u001b[0m \u001b[0;34m'count'\u001b[0m\u001b[0;34m}\u001b[0m\u001b[0;34m)\u001b[0m\u001b[0;34m)\u001b[0m\u001b[0;34m\u001b[0m\u001b[0;34m\u001b[0m\u001b[0m\n\u001b[0m\u001b[1;32m      2\u001b[0m \u001b[0mbatsmen_strikerate_season\u001b[0m\u001b[0;34m[\u001b[0m\u001b[0;34m'Strike Rate'\u001b[0m\u001b[0;34m]\u001b[0m \u001b[0;34m=\u001b[0m \u001b[0mbatsmen_strikerate_season\u001b[0m\u001b[0;34m[\u001b[0m\u001b[0;34m'batsman_runs'\u001b[0m\u001b[0;34m]\u001b[0m\u001b[0;34m/\u001b[0m\u001b[0mbatsmen_strikerate_season\u001b[0m\u001b[0;34m[\u001b[0m\u001b[0;34m'ball'\u001b[0m\u001b[0;34m]\u001b[0m\u001b[0;34m*\u001b[0m\u001b[0;36m100\u001b[0m\u001b[0;34m\u001b[0m\u001b[0;34m\u001b[0m\u001b[0m\n\u001b[1;32m      3\u001b[0m \u001b[0mbatsmen_strikerate_season\u001b[0m \u001b[0;34m=\u001b[0m \u001b[0mbatsmen_strikerate_season\u001b[0m\u001b[0;34m.\u001b[0m\u001b[0msort_values\u001b[0m\u001b[0;34m(\u001b[0m\u001b[0mby\u001b[0m \u001b[0;34m=\u001b[0m\u001b[0;34m[\u001b[0m\u001b[0;34m'season'\u001b[0m\u001b[0;34m,\u001b[0m\u001b[0;34m'Strike Rate'\u001b[0m\u001b[0;34m]\u001b[0m \u001b[0;34m,\u001b[0m \u001b[0mascending\u001b[0m \u001b[0;34m=\u001b[0m \u001b[0;32mFalse\u001b[0m\u001b[0;34m)\u001b[0m\u001b[0;34m\u001b[0m\u001b[0;34m\u001b[0m\u001b[0m\n\u001b[1;32m      4\u001b[0m \u001b[0mbatsmen_strikerate_season\u001b[0m\u001b[0;34m.\u001b[0m\u001b[0mreset_index\u001b[0m\u001b[0;34m(\u001b[0m\u001b[0minplace\u001b[0m \u001b[0;34m=\u001b[0m \u001b[0;32mTrue\u001b[0m\u001b[0;34m)\u001b[0m\u001b[0;34m\u001b[0m\u001b[0;34m\u001b[0m\u001b[0m\n\u001b[1;32m      5\u001b[0m \u001b[0mbatsmen_strikerate_season\u001b[0m\u001b[0;34m[\u001b[0m\u001b[0mbatsmen_strikerate_season\u001b[0m\u001b[0;34m[\u001b[0m\u001b[0;34m'batsman_runs'\u001b[0m\u001b[0;34m]\u001b[0m \u001b[0;34m>\u001b[0m \u001b[0;36m300\u001b[0m\u001b[0;34m]\u001b[0m\u001b[0;34m.\u001b[0m\u001b[0mhead\u001b[0m\u001b[0;34m(\u001b[0m\u001b[0;34m)\u001b[0m\u001b[0;34m\u001b[0m\u001b[0;34m\u001b[0m\u001b[0m\n",
            "\u001b[0;31mNameError\u001b[0m: name 'aggregatedata' is not defined"
          ]
        }
      ]
    },
    {
      "cell_type": "code",
      "metadata": {
        "id": "0YhVQ5l917fk"
      },
      "source": [
        ""
      ],
      "execution_count": null,
      "outputs": []
    },
    {
      "cell_type": "code",
      "metadata": {
        "id": "KFrO4ycn0yvB"
      },
      "source": [
        "working_directory = '/content/drive/My Drive/AlmaBetter/CohortAravali/Cohort Aravali/Module 2/Capstone-1/'\n",
        "deliveries_df = pd.read_csv(working_directory + 'deliveries.csv')"
      ],
      "execution_count": 63,
      "outputs": []
    },
    {
      "cell_type": "code",
      "metadata": {
        "id": "Q5SG_g0lfCkn",
        "outputId": "a6773960-e1a6-4f45-8ca1-f12e97aa03b9",
        "colab": {
          "base_uri": "https://localhost:8080/",
          "height": 395
        }
      },
      "source": [
        "deliveries_df.head()"
      ],
      "execution_count": 64,
      "outputs": [
        {
          "output_type": "execute_result",
          "data": {
            "text/html": [
              "<div>\n",
              "<style scoped>\n",
              "    .dataframe tbody tr th:only-of-type {\n",
              "        vertical-align: middle;\n",
              "    }\n",
              "\n",
              "    .dataframe tbody tr th {\n",
              "        vertical-align: top;\n",
              "    }\n",
              "\n",
              "    .dataframe thead th {\n",
              "        text-align: right;\n",
              "    }\n",
              "</style>\n",
              "<table border=\"1\" class=\"dataframe\">\n",
              "  <thead>\n",
              "    <tr style=\"text-align: right;\">\n",
              "      <th></th>\n",
              "      <th>match_id</th>\n",
              "      <th>inning</th>\n",
              "      <th>batting_team</th>\n",
              "      <th>bowling_team</th>\n",
              "      <th>over</th>\n",
              "      <th>ball</th>\n",
              "      <th>batsman</th>\n",
              "      <th>non_striker</th>\n",
              "      <th>bowler</th>\n",
              "      <th>is_super_over</th>\n",
              "      <th>wide_runs</th>\n",
              "      <th>bye_runs</th>\n",
              "      <th>legbye_runs</th>\n",
              "      <th>noball_runs</th>\n",
              "      <th>penalty_runs</th>\n",
              "      <th>batsman_runs</th>\n",
              "      <th>extra_runs</th>\n",
              "      <th>total_runs</th>\n",
              "      <th>player_dismissed</th>\n",
              "      <th>dismissal_kind</th>\n",
              "      <th>fielder</th>\n",
              "    </tr>\n",
              "  </thead>\n",
              "  <tbody>\n",
              "    <tr>\n",
              "      <th>0</th>\n",
              "      <td>1</td>\n",
              "      <td>1</td>\n",
              "      <td>Sunrisers Hyderabad</td>\n",
              "      <td>Royal Challengers Bangalore</td>\n",
              "      <td>1</td>\n",
              "      <td>1</td>\n",
              "      <td>DA Warner</td>\n",
              "      <td>S Dhawan</td>\n",
              "      <td>TS Mills</td>\n",
              "      <td>0</td>\n",
              "      <td>0</td>\n",
              "      <td>0</td>\n",
              "      <td>0</td>\n",
              "      <td>0</td>\n",
              "      <td>0</td>\n",
              "      <td>0</td>\n",
              "      <td>0</td>\n",
              "      <td>0</td>\n",
              "      <td>NaN</td>\n",
              "      <td>NaN</td>\n",
              "      <td>NaN</td>\n",
              "    </tr>\n",
              "    <tr>\n",
              "      <th>1</th>\n",
              "      <td>1</td>\n",
              "      <td>1</td>\n",
              "      <td>Sunrisers Hyderabad</td>\n",
              "      <td>Royal Challengers Bangalore</td>\n",
              "      <td>1</td>\n",
              "      <td>2</td>\n",
              "      <td>DA Warner</td>\n",
              "      <td>S Dhawan</td>\n",
              "      <td>TS Mills</td>\n",
              "      <td>0</td>\n",
              "      <td>0</td>\n",
              "      <td>0</td>\n",
              "      <td>0</td>\n",
              "      <td>0</td>\n",
              "      <td>0</td>\n",
              "      <td>0</td>\n",
              "      <td>0</td>\n",
              "      <td>0</td>\n",
              "      <td>NaN</td>\n",
              "      <td>NaN</td>\n",
              "      <td>NaN</td>\n",
              "    </tr>\n",
              "    <tr>\n",
              "      <th>2</th>\n",
              "      <td>1</td>\n",
              "      <td>1</td>\n",
              "      <td>Sunrisers Hyderabad</td>\n",
              "      <td>Royal Challengers Bangalore</td>\n",
              "      <td>1</td>\n",
              "      <td>3</td>\n",
              "      <td>DA Warner</td>\n",
              "      <td>S Dhawan</td>\n",
              "      <td>TS Mills</td>\n",
              "      <td>0</td>\n",
              "      <td>0</td>\n",
              "      <td>0</td>\n",
              "      <td>0</td>\n",
              "      <td>0</td>\n",
              "      <td>0</td>\n",
              "      <td>4</td>\n",
              "      <td>0</td>\n",
              "      <td>4</td>\n",
              "      <td>NaN</td>\n",
              "      <td>NaN</td>\n",
              "      <td>NaN</td>\n",
              "    </tr>\n",
              "    <tr>\n",
              "      <th>3</th>\n",
              "      <td>1</td>\n",
              "      <td>1</td>\n",
              "      <td>Sunrisers Hyderabad</td>\n",
              "      <td>Royal Challengers Bangalore</td>\n",
              "      <td>1</td>\n",
              "      <td>4</td>\n",
              "      <td>DA Warner</td>\n",
              "      <td>S Dhawan</td>\n",
              "      <td>TS Mills</td>\n",
              "      <td>0</td>\n",
              "      <td>0</td>\n",
              "      <td>0</td>\n",
              "      <td>0</td>\n",
              "      <td>0</td>\n",
              "      <td>0</td>\n",
              "      <td>0</td>\n",
              "      <td>0</td>\n",
              "      <td>0</td>\n",
              "      <td>NaN</td>\n",
              "      <td>NaN</td>\n",
              "      <td>NaN</td>\n",
              "    </tr>\n",
              "    <tr>\n",
              "      <th>4</th>\n",
              "      <td>1</td>\n",
              "      <td>1</td>\n",
              "      <td>Sunrisers Hyderabad</td>\n",
              "      <td>Royal Challengers Bangalore</td>\n",
              "      <td>1</td>\n",
              "      <td>5</td>\n",
              "      <td>DA Warner</td>\n",
              "      <td>S Dhawan</td>\n",
              "      <td>TS Mills</td>\n",
              "      <td>0</td>\n",
              "      <td>2</td>\n",
              "      <td>0</td>\n",
              "      <td>0</td>\n",
              "      <td>0</td>\n",
              "      <td>0</td>\n",
              "      <td>0</td>\n",
              "      <td>2</td>\n",
              "      <td>2</td>\n",
              "      <td>NaN</td>\n",
              "      <td>NaN</td>\n",
              "      <td>NaN</td>\n",
              "    </tr>\n",
              "  </tbody>\n",
              "</table>\n",
              "</div>"
            ],
            "text/plain": [
              "   match_id  inning  ... dismissal_kind fielder\n",
              "0         1       1  ...            NaN     NaN\n",
              "1         1       1  ...            NaN     NaN\n",
              "2         1       1  ...            NaN     NaN\n",
              "3         1       1  ...            NaN     NaN\n",
              "4         1       1  ...            NaN     NaN\n",
              "\n",
              "[5 rows x 21 columns]"
            ]
          },
          "metadata": {
            "tags": []
          },
          "execution_count": 64
        }
      ]
    },
    {
      "cell_type": "markdown",
      "metadata": {
        "id": "CWEfA5e4fNMb"
      },
      "source": [
        "Which bowler has given max wide runs?"
      ]
    },
    {
      "cell_type": "code",
      "metadata": {
        "id": "vSB0E5JRfCh2",
        "outputId": "9d16ceb0-d50e-4647-e491-cc7a389cc180",
        "colab": {
          "base_uri": "https://localhost:8080/",
          "height": 446
        }
      },
      "source": [
        "deliveries_df[['bowler','wide_runs']].groupby('bowler').sum().sort_values(by=\"wide_runs\",ascending=False)"
      ],
      "execution_count": 65,
      "outputs": [
        {
          "output_type": "execute_result",
          "data": {
            "text/html": [
              "<div>\n",
              "<style scoped>\n",
              "    .dataframe tbody tr th:only-of-type {\n",
              "        vertical-align: middle;\n",
              "    }\n",
              "\n",
              "    .dataframe tbody tr th {\n",
              "        vertical-align: top;\n",
              "    }\n",
              "\n",
              "    .dataframe thead th {\n",
              "        text-align: right;\n",
              "    }\n",
              "</style>\n",
              "<table border=\"1\" class=\"dataframe\">\n",
              "  <thead>\n",
              "    <tr style=\"text-align: right;\">\n",
              "      <th></th>\n",
              "      <th>wide_runs</th>\n",
              "    </tr>\n",
              "    <tr>\n",
              "      <th>bowler</th>\n",
              "      <th></th>\n",
              "    </tr>\n",
              "  </thead>\n",
              "  <tbody>\n",
              "    <tr>\n",
              "      <th>SL Malinga</th>\n",
              "      <td>152</td>\n",
              "    </tr>\n",
              "    <tr>\n",
              "      <th>P Kumar</th>\n",
              "      <td>144</td>\n",
              "    </tr>\n",
              "    <tr>\n",
              "      <th>DJ Bravo</th>\n",
              "      <td>124</td>\n",
              "    </tr>\n",
              "    <tr>\n",
              "      <th>R Ashwin</th>\n",
              "      <td>111</td>\n",
              "    </tr>\n",
              "    <tr>\n",
              "      <th>UT Yadav</th>\n",
              "      <td>110</td>\n",
              "    </tr>\n",
              "    <tr>\n",
              "      <th>...</th>\n",
              "      <td>...</td>\n",
              "    </tr>\n",
              "    <tr>\n",
              "      <th>RR Bhatkal</th>\n",
              "      <td>0</td>\n",
              "    </tr>\n",
              "    <tr>\n",
              "      <th>RJ Peterson</th>\n",
              "      <td>0</td>\n",
              "    </tr>\n",
              "    <tr>\n",
              "      <th>GR Napier</th>\n",
              "      <td>0</td>\n",
              "    </tr>\n",
              "    <tr>\n",
              "      <th>GS Sandhu</th>\n",
              "      <td>0</td>\n",
              "    </tr>\n",
              "    <tr>\n",
              "      <th>RR Bose</th>\n",
              "      <td>0</td>\n",
              "    </tr>\n",
              "  </tbody>\n",
              "</table>\n",
              "<p>405 rows × 1 columns</p>\n",
              "</div>"
            ],
            "text/plain": [
              "             wide_runs\n",
              "bowler                \n",
              "SL Malinga         152\n",
              "P Kumar            144\n",
              "DJ Bravo           124\n",
              "R Ashwin           111\n",
              "UT Yadav           110\n",
              "...                ...\n",
              "RR Bhatkal           0\n",
              "RJ Peterson          0\n",
              "GR Napier            0\n",
              "GS Sandhu            0\n",
              "RR Bose              0\n",
              "\n",
              "[405 rows x 1 columns]"
            ]
          },
          "metadata": {
            "tags": []
          },
          "execution_count": 65
        }
      ]
    },
    {
      "cell_type": "markdown",
      "metadata": {
        "id": "lM5HmqpKgdR4"
      },
      "source": [
        "SL Malinga is the bowler who gave maximum wide runs during the IPLs."
      ]
    },
    {
      "cell_type": "code",
      "metadata": {
        "id": "L8sUgLUdiGXp",
        "outputId": "c135b07d-f68b-46c4-d788-748fa00b3a38",
        "colab": {
          "base_uri": "https://localhost:8080/",
          "height": 609
        }
      },
      "source": [
        "deliveries_df[deliveries_df['is_super_over']==1]"
      ],
      "execution_count": 66,
      "outputs": [
        {
          "output_type": "execute_result",
          "data": {
            "text/html": [
              "<div>\n",
              "<style scoped>\n",
              "    .dataframe tbody tr th:only-of-type {\n",
              "        vertical-align: middle;\n",
              "    }\n",
              "\n",
              "    .dataframe tbody tr th {\n",
              "        vertical-align: top;\n",
              "    }\n",
              "\n",
              "    .dataframe thead th {\n",
              "        text-align: right;\n",
              "    }\n",
              "</style>\n",
              "<table border=\"1\" class=\"dataframe\">\n",
              "  <thead>\n",
              "    <tr style=\"text-align: right;\">\n",
              "      <th></th>\n",
              "      <th>match_id</th>\n",
              "      <th>inning</th>\n",
              "      <th>batting_team</th>\n",
              "      <th>bowling_team</th>\n",
              "      <th>over</th>\n",
              "      <th>ball</th>\n",
              "      <th>batsman</th>\n",
              "      <th>non_striker</th>\n",
              "      <th>bowler</th>\n",
              "      <th>is_super_over</th>\n",
              "      <th>wide_runs</th>\n",
              "      <th>bye_runs</th>\n",
              "      <th>legbye_runs</th>\n",
              "      <th>noball_runs</th>\n",
              "      <th>penalty_runs</th>\n",
              "      <th>batsman_runs</th>\n",
              "      <th>extra_runs</th>\n",
              "      <th>total_runs</th>\n",
              "      <th>player_dismissed</th>\n",
              "      <th>dismissal_kind</th>\n",
              "      <th>fielder</th>\n",
              "    </tr>\n",
              "  </thead>\n",
              "  <tbody>\n",
              "    <tr>\n",
              "      <th>8092</th>\n",
              "      <td>34</td>\n",
              "      <td>3</td>\n",
              "      <td>Mumbai Indians</td>\n",
              "      <td>Gujarat Lions</td>\n",
              "      <td>1</td>\n",
              "      <td>1</td>\n",
              "      <td>JC Buttler</td>\n",
              "      <td>KA Pollard</td>\n",
              "      <td>JP Faulkner</td>\n",
              "      <td>1</td>\n",
              "      <td>0</td>\n",
              "      <td>0</td>\n",
              "      <td>0</td>\n",
              "      <td>0</td>\n",
              "      <td>0</td>\n",
              "      <td>1</td>\n",
              "      <td>0</td>\n",
              "      <td>1</td>\n",
              "      <td>NaN</td>\n",
              "      <td>NaN</td>\n",
              "      <td>NaN</td>\n",
              "    </tr>\n",
              "    <tr>\n",
              "      <th>8093</th>\n",
              "      <td>34</td>\n",
              "      <td>3</td>\n",
              "      <td>Mumbai Indians</td>\n",
              "      <td>Gujarat Lions</td>\n",
              "      <td>1</td>\n",
              "      <td>2</td>\n",
              "      <td>KA Pollard</td>\n",
              "      <td>JC Buttler</td>\n",
              "      <td>JP Faulkner</td>\n",
              "      <td>1</td>\n",
              "      <td>0</td>\n",
              "      <td>0</td>\n",
              "      <td>0</td>\n",
              "      <td>0</td>\n",
              "      <td>0</td>\n",
              "      <td>4</td>\n",
              "      <td>0</td>\n",
              "      <td>4</td>\n",
              "      <td>NaN</td>\n",
              "      <td>NaN</td>\n",
              "      <td>NaN</td>\n",
              "    </tr>\n",
              "    <tr>\n",
              "      <th>8094</th>\n",
              "      <td>34</td>\n",
              "      <td>3</td>\n",
              "      <td>Mumbai Indians</td>\n",
              "      <td>Gujarat Lions</td>\n",
              "      <td>1</td>\n",
              "      <td>3</td>\n",
              "      <td>KA Pollard</td>\n",
              "      <td>JC Buttler</td>\n",
              "      <td>JP Faulkner</td>\n",
              "      <td>1</td>\n",
              "      <td>0</td>\n",
              "      <td>0</td>\n",
              "      <td>0</td>\n",
              "      <td>0</td>\n",
              "      <td>0</td>\n",
              "      <td>6</td>\n",
              "      <td>0</td>\n",
              "      <td>6</td>\n",
              "      <td>NaN</td>\n",
              "      <td>NaN</td>\n",
              "      <td>NaN</td>\n",
              "    </tr>\n",
              "    <tr>\n",
              "      <th>8095</th>\n",
              "      <td>34</td>\n",
              "      <td>3</td>\n",
              "      <td>Mumbai Indians</td>\n",
              "      <td>Gujarat Lions</td>\n",
              "      <td>1</td>\n",
              "      <td>4</td>\n",
              "      <td>KA Pollard</td>\n",
              "      <td>JC Buttler</td>\n",
              "      <td>JP Faulkner</td>\n",
              "      <td>1</td>\n",
              "      <td>0</td>\n",
              "      <td>0</td>\n",
              "      <td>0</td>\n",
              "      <td>0</td>\n",
              "      <td>0</td>\n",
              "      <td>0</td>\n",
              "      <td>0</td>\n",
              "      <td>0</td>\n",
              "      <td>KA Pollard</td>\n",
              "      <td>caught</td>\n",
              "      <td>AJ Finch</td>\n",
              "    </tr>\n",
              "    <tr>\n",
              "      <th>8096</th>\n",
              "      <td>34</td>\n",
              "      <td>3</td>\n",
              "      <td>Mumbai Indians</td>\n",
              "      <td>Gujarat Lions</td>\n",
              "      <td>1</td>\n",
              "      <td>5</td>\n",
              "      <td>JC Buttler</td>\n",
              "      <td>RG Sharma</td>\n",
              "      <td>JP Faulkner</td>\n",
              "      <td>1</td>\n",
              "      <td>0</td>\n",
              "      <td>0</td>\n",
              "      <td>0</td>\n",
              "      <td>0</td>\n",
              "      <td>0</td>\n",
              "      <td>0</td>\n",
              "      <td>0</td>\n",
              "      <td>0</td>\n",
              "      <td>JC Buttler</td>\n",
              "      <td>caught</td>\n",
              "      <td>Ishan Kishan</td>\n",
              "    </tr>\n",
              "    <tr>\n",
              "      <th>...</th>\n",
              "      <td>...</td>\n",
              "      <td>...</td>\n",
              "      <td>...</td>\n",
              "      <td>...</td>\n",
              "      <td>...</td>\n",
              "      <td>...</td>\n",
              "      <td>...</td>\n",
              "      <td>...</td>\n",
              "      <td>...</td>\n",
              "      <td>...</td>\n",
              "      <td>...</td>\n",
              "      <td>...</td>\n",
              "      <td>...</td>\n",
              "      <td>...</td>\n",
              "      <td>...</td>\n",
              "      <td>...</td>\n",
              "      <td>...</td>\n",
              "      <td>...</td>\n",
              "      <td>...</td>\n",
              "      <td>...</td>\n",
              "      <td>...</td>\n",
              "    </tr>\n",
              "    <tr>\n",
              "      <th>127365</th>\n",
              "      <td>536</td>\n",
              "      <td>3</td>\n",
              "      <td>Kings XI Punjab</td>\n",
              "      <td>Rajasthan Royals</td>\n",
              "      <td>1</td>\n",
              "      <td>7</td>\n",
              "      <td>SE Marsh</td>\n",
              "      <td>GJ Maxwell</td>\n",
              "      <td>CH Morris</td>\n",
              "      <td>1</td>\n",
              "      <td>0</td>\n",
              "      <td>0</td>\n",
              "      <td>1</td>\n",
              "      <td>0</td>\n",
              "      <td>0</td>\n",
              "      <td>0</td>\n",
              "      <td>1</td>\n",
              "      <td>1</td>\n",
              "      <td>SE Marsh</td>\n",
              "      <td>run out</td>\n",
              "      <td>NaN</td>\n",
              "    </tr>\n",
              "    <tr>\n",
              "      <th>127366</th>\n",
              "      <td>536</td>\n",
              "      <td>4</td>\n",
              "      <td>Rajasthan Royals</td>\n",
              "      <td>Kings XI Punjab</td>\n",
              "      <td>1</td>\n",
              "      <td>1</td>\n",
              "      <td>SR Watson</td>\n",
              "      <td>JP Faulkner</td>\n",
              "      <td>MG Johnson</td>\n",
              "      <td>1</td>\n",
              "      <td>0</td>\n",
              "      <td>0</td>\n",
              "      <td>0</td>\n",
              "      <td>0</td>\n",
              "      <td>0</td>\n",
              "      <td>0</td>\n",
              "      <td>0</td>\n",
              "      <td>0</td>\n",
              "      <td>SR Watson</td>\n",
              "      <td>bowled</td>\n",
              "      <td>NaN</td>\n",
              "    </tr>\n",
              "    <tr>\n",
              "      <th>127367</th>\n",
              "      <td>536</td>\n",
              "      <td>4</td>\n",
              "      <td>Rajasthan Royals</td>\n",
              "      <td>Kings XI Punjab</td>\n",
              "      <td>1</td>\n",
              "      <td>2</td>\n",
              "      <td>SPD Smith</td>\n",
              "      <td>JP Faulkner</td>\n",
              "      <td>MG Johnson</td>\n",
              "      <td>1</td>\n",
              "      <td>0</td>\n",
              "      <td>0</td>\n",
              "      <td>0</td>\n",
              "      <td>1</td>\n",
              "      <td>0</td>\n",
              "      <td>4</td>\n",
              "      <td>1</td>\n",
              "      <td>5</td>\n",
              "      <td>NaN</td>\n",
              "      <td>NaN</td>\n",
              "      <td>NaN</td>\n",
              "    </tr>\n",
              "    <tr>\n",
              "      <th>127368</th>\n",
              "      <td>536</td>\n",
              "      <td>4</td>\n",
              "      <td>Rajasthan Royals</td>\n",
              "      <td>Kings XI Punjab</td>\n",
              "      <td>1</td>\n",
              "      <td>3</td>\n",
              "      <td>SPD Smith</td>\n",
              "      <td>JP Faulkner</td>\n",
              "      <td>MG Johnson</td>\n",
              "      <td>1</td>\n",
              "      <td>0</td>\n",
              "      <td>0</td>\n",
              "      <td>0</td>\n",
              "      <td>0</td>\n",
              "      <td>0</td>\n",
              "      <td>1</td>\n",
              "      <td>0</td>\n",
              "      <td>1</td>\n",
              "      <td>NaN</td>\n",
              "      <td>NaN</td>\n",
              "      <td>NaN</td>\n",
              "    </tr>\n",
              "    <tr>\n",
              "      <th>127369</th>\n",
              "      <td>536</td>\n",
              "      <td>4</td>\n",
              "      <td>Rajasthan Royals</td>\n",
              "      <td>Kings XI Punjab</td>\n",
              "      <td>1</td>\n",
              "      <td>4</td>\n",
              "      <td>JP Faulkner</td>\n",
              "      <td>SPD Smith</td>\n",
              "      <td>MG Johnson</td>\n",
              "      <td>1</td>\n",
              "      <td>0</td>\n",
              "      <td>0</td>\n",
              "      <td>0</td>\n",
              "      <td>0</td>\n",
              "      <td>0</td>\n",
              "      <td>0</td>\n",
              "      <td>0</td>\n",
              "      <td>0</td>\n",
              "      <td>JP Faulkner</td>\n",
              "      <td>run out</td>\n",
              "      <td>NaN</td>\n",
              "    </tr>\n",
              "  </tbody>\n",
              "</table>\n",
              "<p>81 rows × 21 columns</p>\n",
              "</div>"
            ],
            "text/plain": [
              "        match_id  inning  ... dismissal_kind       fielder\n",
              "8092          34       3  ...            NaN           NaN\n",
              "8093          34       3  ...            NaN           NaN\n",
              "8094          34       3  ...            NaN           NaN\n",
              "8095          34       3  ...         caught      AJ Finch\n",
              "8096          34       3  ...         caught  Ishan Kishan\n",
              "...          ...     ...  ...            ...           ...\n",
              "127365       536       3  ...        run out           NaN\n",
              "127366       536       4  ...         bowled           NaN\n",
              "127367       536       4  ...            NaN           NaN\n",
              "127368       536       4  ...            NaN           NaN\n",
              "127369       536       4  ...        run out           NaN\n",
              "\n",
              "[81 rows x 21 columns]"
            ]
          },
          "metadata": {
            "tags": []
          },
          "execution_count": 66
        }
      ]
    },
    {
      "cell_type": "code",
      "metadata": {
        "id": "hW-Gh8_0in8q",
        "outputId": "e7848863-0ca9-421e-805b-7d53873d4b0f",
        "colab": {
          "base_uri": "https://localhost:8080/",
          "height": 202
        }
      },
      "source": [
        "super_over_df = pd.DataFrame(deliveries_df,columns= ['batting_team','is_super_over'])\n",
        "super_over_df.head()"
      ],
      "execution_count": 67,
      "outputs": [
        {
          "output_type": "execute_result",
          "data": {
            "text/html": [
              "<div>\n",
              "<style scoped>\n",
              "    .dataframe tbody tr th:only-of-type {\n",
              "        vertical-align: middle;\n",
              "    }\n",
              "\n",
              "    .dataframe tbody tr th {\n",
              "        vertical-align: top;\n",
              "    }\n",
              "\n",
              "    .dataframe thead th {\n",
              "        text-align: right;\n",
              "    }\n",
              "</style>\n",
              "<table border=\"1\" class=\"dataframe\">\n",
              "  <thead>\n",
              "    <tr style=\"text-align: right;\">\n",
              "      <th></th>\n",
              "      <th>batting_team</th>\n",
              "      <th>is_super_over</th>\n",
              "    </tr>\n",
              "  </thead>\n",
              "  <tbody>\n",
              "    <tr>\n",
              "      <th>0</th>\n",
              "      <td>Sunrisers Hyderabad</td>\n",
              "      <td>0</td>\n",
              "    </tr>\n",
              "    <tr>\n",
              "      <th>1</th>\n",
              "      <td>Sunrisers Hyderabad</td>\n",
              "      <td>0</td>\n",
              "    </tr>\n",
              "    <tr>\n",
              "      <th>2</th>\n",
              "      <td>Sunrisers Hyderabad</td>\n",
              "      <td>0</td>\n",
              "    </tr>\n",
              "    <tr>\n",
              "      <th>3</th>\n",
              "      <td>Sunrisers Hyderabad</td>\n",
              "      <td>0</td>\n",
              "    </tr>\n",
              "    <tr>\n",
              "      <th>4</th>\n",
              "      <td>Sunrisers Hyderabad</td>\n",
              "      <td>0</td>\n",
              "    </tr>\n",
              "  </tbody>\n",
              "</table>\n",
              "</div>"
            ],
            "text/plain": [
              "          batting_team  is_super_over\n",
              "0  Sunrisers Hyderabad              0\n",
              "1  Sunrisers Hyderabad              0\n",
              "2  Sunrisers Hyderabad              0\n",
              "3  Sunrisers Hyderabad              0\n",
              "4  Sunrisers Hyderabad              0"
            ]
          },
          "metadata": {
            "tags": []
          },
          "execution_count": 67
        }
      ]
    },
    {
      "cell_type": "code",
      "metadata": {
        "id": "q-7PlSU4jzB3"
      },
      "source": [
        "gkk= super_over_df[super_over_df['is_super_over']==1]"
      ],
      "execution_count": 68,
      "outputs": []
    },
    {
      "cell_type": "code",
      "metadata": {
        "id": "Tla87-UbkP4o",
        "outputId": "0fb12a3d-6e96-4544-f546-1f6a6a46efca",
        "colab": {
          "base_uri": "https://localhost:8080/"
        }
      },
      "source": [
        "gkk['batting_team'].value_counts()"
      ],
      "execution_count": 69,
      "outputs": [
        {
          "output_type": "execute_result",
          "data": {
            "text/plain": [
              "Rajasthan Royals               14\n",
              "Kolkata Knight Riders          13\n",
              "Royal Challengers Bangalore    12\n",
              "Kings XI Punjab                11\n",
              "Gujarat Lions                   8\n",
              "Sunrisers Hyderabad             7\n",
              "Delhi Daredevils                6\n",
              "Mumbai Indians                  5\n",
              "Chennai Super Kings             5\n",
              "Name: batting_team, dtype: int64"
            ]
          },
          "metadata": {
            "tags": []
          },
          "execution_count": 69
        }
      ]
    },
    {
      "cell_type": "markdown",
      "metadata": {
        "id": "nY0EOXpxkX6S"
      },
      "source": [
        "1.By the above observation ,we can conclude that , all above teams have taken super over.\n",
        "2. Rajasthan Royals have taken 14 super overs followed by Kolkata Knight Riders.\n",
        "\n",
        "\n"
      ]
    },
    {
      "cell_type": "code",
      "metadata": {
        "id": "uTaHOipefCfU",
        "outputId": "b7137312-fbab-4a07-e519-6c0ec83d82da",
        "colab": {
          "base_uri": "https://localhost:8080/",
          "height": 429
        }
      },
      "source": [
        "deliveries_df[['batting_team','batsman','batsman_runs']].groupby(['batting_team','batsman','batsman_runs']).sum().sort_values(by='batsman_runs',ascending=False)"
      ],
      "execution_count": 70,
      "outputs": [
        {
          "output_type": "execute_result",
          "data": {
            "text/html": [
              "<div>\n",
              "<style scoped>\n",
              "    .dataframe tbody tr th:only-of-type {\n",
              "        vertical-align: middle;\n",
              "    }\n",
              "\n",
              "    .dataframe tbody tr th {\n",
              "        vertical-align: top;\n",
              "    }\n",
              "\n",
              "    .dataframe thead th {\n",
              "        text-align: right;\n",
              "    }\n",
              "</style>\n",
              "<table border=\"1\" class=\"dataframe\">\n",
              "  <thead>\n",
              "    <tr style=\"text-align: right;\">\n",
              "      <th></th>\n",
              "      <th></th>\n",
              "      <th></th>\n",
              "    </tr>\n",
              "    <tr>\n",
              "      <th>batting_team</th>\n",
              "      <th>batsman</th>\n",
              "      <th>batsman_runs</th>\n",
              "    </tr>\n",
              "  </thead>\n",
              "  <tbody>\n",
              "    <tr>\n",
              "      <th>Kolkata Knight Riders</th>\n",
              "      <th>AD Russell</th>\n",
              "      <th>7</th>\n",
              "    </tr>\n",
              "    <tr>\n",
              "      <th>Chennai Super Kings</th>\n",
              "      <th>DJ Bravo</th>\n",
              "      <th>7</th>\n",
              "    </tr>\n",
              "    <tr>\n",
              "      <th>Kolkata Knight Riders</th>\n",
              "      <th>CA Lynn</th>\n",
              "      <th>7</th>\n",
              "    </tr>\n",
              "    <tr>\n",
              "      <th rowspan=\"2\" valign=\"top\">Royal Challengers Bangalore</th>\n",
              "      <th>BB McCullum</th>\n",
              "      <th>7</th>\n",
              "    </tr>\n",
              "    <tr>\n",
              "      <th>C de Grandhomme</th>\n",
              "      <th>7</th>\n",
              "    </tr>\n",
              "    <tr>\n",
              "      <th>...</th>\n",
              "      <th>...</th>\n",
              "      <th>...</th>\n",
              "    </tr>\n",
              "    <tr>\n",
              "      <th rowspan=\"4\" valign=\"top\">Mumbai Indians</th>\n",
              "      <th>E Lewis</th>\n",
              "      <th>0</th>\n",
              "    </tr>\n",
              "    <tr>\n",
              "      <th>DS Kulkarni</th>\n",
              "      <th>0</th>\n",
              "    </tr>\n",
              "    <tr>\n",
              "      <th>DR Smith</th>\n",
              "      <th>0</th>\n",
              "    </tr>\n",
              "    <tr>\n",
              "      <th>DJ Thornely</th>\n",
              "      <th>0</th>\n",
              "    </tr>\n",
              "    <tr>\n",
              "      <th>Kolkata Knight Riders</th>\n",
              "      <th>SMSM Senanayake</th>\n",
              "      <th>0</th>\n",
              "    </tr>\n",
              "  </tbody>\n",
              "</table>\n",
              "<p>4110 rows × 0 columns</p>\n",
              "</div>"
            ],
            "text/plain": [
              "Empty DataFrame\n",
              "Columns: []\n",
              "Index: [(Kolkata Knight Riders, AD Russell, 7), (Chennai Super Kings, DJ Bravo, 7), (Kolkata Knight Riders, CA Lynn, 7), (Royal Challengers Bangalore, BB McCullum, 7), (Royal Challengers Bangalore, C de Grandhomme, 7), (Sunrisers Hyderabad, Mohammad Nabi, 7), (Chennai Super Kings, MS Dhoni, 7), (Mumbai Indians, KA Pollard, 7), (Mumbai Indians, RG Sharma, 7), (Deccan Chargers, LPC Silva, 6), (Mumbai Indians, TL Suman, 6), (Delhi Daredevils, KD Karthik, 6), (Mumbai Indians, TG Southee, 6), (Kolkata Knight Riders, C de Grandhomme, 6), (Mumbai Indians, ST Jayasuriya, 6), (Royal Challengers Bangalore, S Hetmyer, 6), (Delhi Daredevils, K Rabada, 6), (Deccan Chargers, MD Mishra, 6), (Kolkata Knight Riders, CA Lynn, 6), (Sunrisers Hyderabad, NV Ojha, 6), (Mumbai Indians, SS Tiwary, 6), (Deccan Chargers, KC Sangakkara, 6), (Kolkata Knight Riders, BJ Hodge, 6), (Royal Challengers Bangalore, LRPL Taylor, 6), (Mumbai Indians, Yuvraj Singh, 6), (Delhi Daredevils, KP Pietersen, 6), (Royal Challengers Bangalore, LA Pomersbach, 6), (Sunrisers Hyderabad, DW Steyn, 6), (Mumbai Indians, Z Khan, 6), (Deccan Chargers, JP Duminy, 6), (Delhi Daredevils, KM Jadhav, 6), (Kolkata Knight Riders, B Lee, 6), (Deccan Chargers, MR Marsh, 6), (Mumbai Indians, YV Takawale, 6), (Royal Challengers Bangalore, S Rana, 6), (Kolkata Knight Riders, BB McCullum, 6), (Delhi Daredevils, KK Nair, 6), (Kolkata Knight Riders, BJ Haddin, 6), (Mumbai Indians, UBT Chand, 6), (Royal Challengers Bangalore, M Ali, 6), (Sunrisers Hyderabad, Yuvraj Singh, 6), (Mumbai Indians, SR Tendulkar, 6), (Sunrisers Hyderabad, NLTC Perera, 6), (Kolkata Knight Riders, DJ Hussey, 6), (Mumbai Indians, RR Raje, 6), (Deccan Chargers, R Sharma, 6), (Kolkata Knight Riders, EJG Morgan, 6), (Mumbai Indians, RJ Peterson, 6), (Delhi Daredevils, JA Morkel, 6), (Mumbai Indians, RG Sharma, 6), (Deccan Chargers, RG Sharma, 6), (Kolkata Knight Riders, G Gambhir, 6), (Kolkata Knight Riders, I Sharma, 6), (Mumbai Indians, RE Levi, 6), (Sunrisers Hyderabad, GH Vihari, 6), (Delhi Daredevils, J Botha, 6), (Deccan Chargers, RJ Harris, 6), (Kolkata Knight Riders, J Botha, 6), (Mumbai Indians, RT Ponting, 6), (Delhi Daredevils, JDS Neesham, 6), (Kolkata Knight Riders, AD Russell, 6), (Mumbai Indians, RV Uthappa, 6), (Mumbai Indians, SM Pollock, 6), (Kolkata Knight Riders, CA Pujara, 6), (Mumbai Indians, SL Malinga, 6), (Sunrisers Hyderabad, EJG Morgan, 6), (Mumbai Indians, SD Lad, 6), (Delhi Daredevils, JP Duminy, 6), (Deccan Chargers, PA Patel, 6), (Kolkata Knight Riders, CH Gayle, 6), (Mumbai Indians, SD Chitnis, 6), (Royal Challengers Bangalore, S Dube, 6), (Kolkata Knight Riders, CR Woakes, 6), (Deccan Chargers, PA Reddy, 6), (Delhi Daredevils, JJ Roy, 6), (Mumbai Indians, S Dhawan, 6), (Kolkata Knight Riders, DB Das, 6), (Delhi Daredevils, JR Hopes, 6), (Pune Warriors, AC Thomas, 6), (Kolkata Knight Riders, AD Mathews, 6), (Deccan Chargers, CL White, 6), (Pune Warriors, R Sharma, 6), (Delhi Daredevils, MF Maharoof, 6), (Pune Warriors, NL McCullum, 6), (Kochi Tuskers Kerala, B Akhil, 6), (Pune Warriors, MR Marsh, 6), (Royal Challengers Bangalore, SR Watson, 6), (Deccan Chargers, DB Ravi Teja, 6), (Pune Warriors, MN Samuels, 6), (Kochi Tuskers Kerala, BB McCullum, 6), (Pune Warriors, MK Pandey, 6), (Delhi Daredevils, MC Juneja, 6), (Deccan Chargers, DJ Harris, 6), (Kochi Tuskers Kerala, BJ Hodge, 6), (Kochi Tuskers Kerala, DPMD Jayawardene, 6), (Royal Challengers Bangalore, SP Goswami, 6), (Sunrisers Hyderabad, DJ Hooda, 6), (Kings XI Punjab, Yuvraj Singh, 6), (Royal Challengers Bangalore, M Vohra, 6), (Pune Warriors, RV Uthappa, 6), ...]\n",
              "\n",
              "[4110 rows x 0 columns]"
            ]
          },
          "metadata": {
            "tags": []
          },
          "execution_count": 70
        }
      ]
    },
    {
      "cell_type": "code",
      "metadata": {
        "id": "EdjDm-SDfCbU"
      },
      "source": [
        "Batsman_fours=deliveries_df.groupby(['batsman'])[\"batsman_runs\"].agg(lambda x: (x==4).sum()).reset_index().sort_values(by=\"batsman_runs\",ascending=False).reset_index(drop=True)"
      ],
      "execution_count": 71,
      "outputs": []
    },
    {
      "cell_type": "code",
      "metadata": {
        "id": "wDuwwEIJnHaz",
        "outputId": "195243e7-5520-4d0d-ed84-bab985618c89",
        "colab": {
          "base_uri": "https://localhost:8080/",
          "height": 355
        }
      },
      "source": [
        "Batsman_fours.columns = [\"batsman\", \"No. of 4s\"]\n",
        "Batsman_fours.iloc[:10]"
      ],
      "execution_count": 72,
      "outputs": [
        {
          "output_type": "execute_result",
          "data": {
            "text/html": [
              "<div>\n",
              "<style scoped>\n",
              "    .dataframe tbody tr th:only-of-type {\n",
              "        vertical-align: middle;\n",
              "    }\n",
              "\n",
              "    .dataframe tbody tr th {\n",
              "        vertical-align: top;\n",
              "    }\n",
              "\n",
              "    .dataframe thead th {\n",
              "        text-align: right;\n",
              "    }\n",
              "</style>\n",
              "<table border=\"1\" class=\"dataframe\">\n",
              "  <thead>\n",
              "    <tr style=\"text-align: right;\">\n",
              "      <th></th>\n",
              "      <th>batsman</th>\n",
              "      <th>No. of 4s</th>\n",
              "    </tr>\n",
              "  </thead>\n",
              "  <tbody>\n",
              "    <tr>\n",
              "      <th>0</th>\n",
              "      <td>S Dhawan</td>\n",
              "      <td>526</td>\n",
              "    </tr>\n",
              "    <tr>\n",
              "      <th>1</th>\n",
              "      <td>SK Raina</td>\n",
              "      <td>495</td>\n",
              "    </tr>\n",
              "    <tr>\n",
              "      <th>2</th>\n",
              "      <td>G Gambhir</td>\n",
              "      <td>492</td>\n",
              "    </tr>\n",
              "    <tr>\n",
              "      <th>3</th>\n",
              "      <td>V Kohli</td>\n",
              "      <td>482</td>\n",
              "    </tr>\n",
              "    <tr>\n",
              "      <th>4</th>\n",
              "      <td>DA Warner</td>\n",
              "      <td>459</td>\n",
              "    </tr>\n",
              "    <tr>\n",
              "      <th>5</th>\n",
              "      <td>RV Uthappa</td>\n",
              "      <td>436</td>\n",
              "    </tr>\n",
              "    <tr>\n",
              "      <th>6</th>\n",
              "      <td>RG Sharma</td>\n",
              "      <td>431</td>\n",
              "    </tr>\n",
              "    <tr>\n",
              "      <th>7</th>\n",
              "      <td>AM Rahane</td>\n",
              "      <td>405</td>\n",
              "    </tr>\n",
              "    <tr>\n",
              "      <th>8</th>\n",
              "      <td>CH Gayle</td>\n",
              "      <td>376</td>\n",
              "    </tr>\n",
              "    <tr>\n",
              "      <th>9</th>\n",
              "      <td>PA Patel</td>\n",
              "      <td>366</td>\n",
              "    </tr>\n",
              "  </tbody>\n",
              "</table>\n",
              "</div>"
            ],
            "text/plain": [
              "      batsman  No. of 4s\n",
              "0    S Dhawan        526\n",
              "1    SK Raina        495\n",
              "2   G Gambhir        492\n",
              "3     V Kohli        482\n",
              "4   DA Warner        459\n",
              "5  RV Uthappa        436\n",
              "6   RG Sharma        431\n",
              "7   AM Rahane        405\n",
              "8    CH Gayle        376\n",
              "9    PA Patel        366"
            ]
          },
          "metadata": {
            "tags": []
          },
          "execution_count": 72
        }
      ]
    },
    {
      "cell_type": "markdown",
      "metadata": {
        "id": "eHisbMn5nz__"
      },
      "source": [
        ""
      ]
    },
    {
      "cell_type": "code",
      "metadata": {
        "id": "hJ2o-EUfr-Z4",
        "outputId": "00ccec03-ff8d-45c9-d280-54f09d54e467",
        "colab": {
          "base_uri": "https://localhost:8080/",
          "height": 662
        }
      },
      "source": [
        "Batsman_sixes=deliveries_df.groupby(\"batsman\")[\"batsman_runs\"].agg(lambda x: (x==6).sum()).reset_index().sort_values(by=\"batsman_runs\",ascending=False).reset_index(drop=True)\n",
        "Batsman_sixes.columns= [\"batsman\",\"No_of_6s\"]\n",
        "Batsman_sixes.iloc[:20,:]"
      ],
      "execution_count": 73,
      "outputs": [
        {
          "output_type": "execute_result",
          "data": {
            "text/html": [
              "<div>\n",
              "<style scoped>\n",
              "    .dataframe tbody tr th:only-of-type {\n",
              "        vertical-align: middle;\n",
              "    }\n",
              "\n",
              "    .dataframe tbody tr th {\n",
              "        vertical-align: top;\n",
              "    }\n",
              "\n",
              "    .dataframe thead th {\n",
              "        text-align: right;\n",
              "    }\n",
              "</style>\n",
              "<table border=\"1\" class=\"dataframe\">\n",
              "  <thead>\n",
              "    <tr style=\"text-align: right;\">\n",
              "      <th></th>\n",
              "      <th>batsman</th>\n",
              "      <th>No_of_6s</th>\n",
              "    </tr>\n",
              "  </thead>\n",
              "  <tbody>\n",
              "    <tr>\n",
              "      <th>0</th>\n",
              "      <td>CH Gayle</td>\n",
              "      <td>327</td>\n",
              "    </tr>\n",
              "    <tr>\n",
              "      <th>1</th>\n",
              "      <td>AB de Villiers</td>\n",
              "      <td>214</td>\n",
              "    </tr>\n",
              "    <tr>\n",
              "      <th>2</th>\n",
              "      <td>MS Dhoni</td>\n",
              "      <td>207</td>\n",
              "    </tr>\n",
              "    <tr>\n",
              "      <th>3</th>\n",
              "      <td>SK Raina</td>\n",
              "      <td>195</td>\n",
              "    </tr>\n",
              "    <tr>\n",
              "      <th>4</th>\n",
              "      <td>RG Sharma</td>\n",
              "      <td>194</td>\n",
              "    </tr>\n",
              "    <tr>\n",
              "      <th>5</th>\n",
              "      <td>V Kohli</td>\n",
              "      <td>191</td>\n",
              "    </tr>\n",
              "    <tr>\n",
              "      <th>6</th>\n",
              "      <td>DA Warner</td>\n",
              "      <td>181</td>\n",
              "    </tr>\n",
              "    <tr>\n",
              "      <th>7</th>\n",
              "      <td>SR Watson</td>\n",
              "      <td>177</td>\n",
              "    </tr>\n",
              "    <tr>\n",
              "      <th>8</th>\n",
              "      <td>KA Pollard</td>\n",
              "      <td>175</td>\n",
              "    </tr>\n",
              "    <tr>\n",
              "      <th>9</th>\n",
              "      <td>YK Pathan</td>\n",
              "      <td>161</td>\n",
              "    </tr>\n",
              "    <tr>\n",
              "      <th>10</th>\n",
              "      <td>RV Uthappa</td>\n",
              "      <td>156</td>\n",
              "    </tr>\n",
              "    <tr>\n",
              "      <th>11</th>\n",
              "      <td>Yuvraj Singh</td>\n",
              "      <td>149</td>\n",
              "    </tr>\n",
              "    <tr>\n",
              "      <th>12</th>\n",
              "      <td>BB McCullum</td>\n",
              "      <td>129</td>\n",
              "    </tr>\n",
              "    <tr>\n",
              "      <th>13</th>\n",
              "      <td>AT Rayudu</td>\n",
              "      <td>120</td>\n",
              "    </tr>\n",
              "    <tr>\n",
              "      <th>14</th>\n",
              "      <td>AD Russell</td>\n",
              "      <td>119</td>\n",
              "    </tr>\n",
              "    <tr>\n",
              "      <th>15</th>\n",
              "      <td>DR Smith</td>\n",
              "      <td>117</td>\n",
              "    </tr>\n",
              "    <tr>\n",
              "      <th>16</th>\n",
              "      <td>V Sehwag</td>\n",
              "      <td>106</td>\n",
              "    </tr>\n",
              "    <tr>\n",
              "      <th>17</th>\n",
              "      <td>KD Karthik</td>\n",
              "      <td>101</td>\n",
              "    </tr>\n",
              "    <tr>\n",
              "      <th>18</th>\n",
              "      <td>S Dhawan</td>\n",
              "      <td>96</td>\n",
              "    </tr>\n",
              "    <tr>\n",
              "      <th>19</th>\n",
              "      <td>RR Pant</td>\n",
              "      <td>94</td>\n",
              "    </tr>\n",
              "  </tbody>\n",
              "</table>\n",
              "</div>"
            ],
            "text/plain": [
              "           batsman  No_of_6s\n",
              "0         CH Gayle       327\n",
              "1   AB de Villiers       214\n",
              "2         MS Dhoni       207\n",
              "3         SK Raina       195\n",
              "4        RG Sharma       194\n",
              "5          V Kohli       191\n",
              "6        DA Warner       181\n",
              "7        SR Watson       177\n",
              "8       KA Pollard       175\n",
              "9        YK Pathan       161\n",
              "10      RV Uthappa       156\n",
              "11    Yuvraj Singh       149\n",
              "12     BB McCullum       129\n",
              "13       AT Rayudu       120\n",
              "14      AD Russell       119\n",
              "15        DR Smith       117\n",
              "16        V Sehwag       106\n",
              "17      KD Karthik       101\n",
              "18        S Dhawan        96\n",
              "19         RR Pant        94"
            ]
          },
          "metadata": {
            "tags": []
          },
          "execution_count": 73
        }
      ]
    },
    {
      "cell_type": "markdown",
      "metadata": {
        "id": "C6uDgx_lsQPF"
      },
      "source": [
        ""
      ]
    },
    {
      "cell_type": "code",
      "metadata": {
        "id": "qQhtxbP7sRCq",
        "outputId": "83ecee64-5271-4f3e-e26a-71435c81ec6a",
        "colab": {
          "base_uri": "https://localhost:8080/",
          "height": 1000
        }
      },
      "source": [
        "Batsman_Score_by_Match= deliveries_df[[\"match_id\",\"batsman\",\"batsman_runs\"]]\n",
        "Batsman_Score_by_Match=Batsman_Score_by_Match.groupby([\"match_id\",\"batsman\"]).sum()\n",
        "Batsman_with_centuries=Batsman_Score_by_Match[Batsman_Score_by_Match[\"batsman_runs\"]>=100].reset_index()\n",
        "Batsman_with_centuries=Batsman_with_centuries.groupby(\"batsman\")[\"match_id\"].count().reset_index().sort_values(by=\"match_id\",ascending=False).reset_index(drop=True)\n",
        "Batsman_with_centuries.columns=[\"batsman\",\"No_of_centuries\"]\n",
        "Batsman_with_centuries"
      ],
      "execution_count": 74,
      "outputs": [
        {
          "output_type": "execute_result",
          "data": {
            "text/html": [
              "<div>\n",
              "<style scoped>\n",
              "    .dataframe tbody tr th:only-of-type {\n",
              "        vertical-align: middle;\n",
              "    }\n",
              "\n",
              "    .dataframe tbody tr th {\n",
              "        vertical-align: top;\n",
              "    }\n",
              "\n",
              "    .dataframe thead th {\n",
              "        text-align: right;\n",
              "    }\n",
              "</style>\n",
              "<table border=\"1\" class=\"dataframe\">\n",
              "  <thead>\n",
              "    <tr style=\"text-align: right;\">\n",
              "      <th></th>\n",
              "      <th>batsman</th>\n",
              "      <th>No_of_centuries</th>\n",
              "    </tr>\n",
              "  </thead>\n",
              "  <tbody>\n",
              "    <tr>\n",
              "      <th>0</th>\n",
              "      <td>CH Gayle</td>\n",
              "      <td>7</td>\n",
              "    </tr>\n",
              "    <tr>\n",
              "      <th>1</th>\n",
              "      <td>V Kohli</td>\n",
              "      <td>5</td>\n",
              "    </tr>\n",
              "    <tr>\n",
              "      <th>2</th>\n",
              "      <td>DA Warner</td>\n",
              "      <td>4</td>\n",
              "    </tr>\n",
              "    <tr>\n",
              "      <th>3</th>\n",
              "      <td>SR Watson</td>\n",
              "      <td>4</td>\n",
              "    </tr>\n",
              "    <tr>\n",
              "      <th>4</th>\n",
              "      <td>AB de Villiers</td>\n",
              "      <td>3</td>\n",
              "    </tr>\n",
              "    <tr>\n",
              "      <th>5</th>\n",
              "      <td>HM Amla</td>\n",
              "      <td>2</td>\n",
              "    </tr>\n",
              "    <tr>\n",
              "      <th>6</th>\n",
              "      <td>AC Gilchrist</td>\n",
              "      <td>2</td>\n",
              "    </tr>\n",
              "    <tr>\n",
              "      <th>7</th>\n",
              "      <td>AM Rahane</td>\n",
              "      <td>2</td>\n",
              "    </tr>\n",
              "    <tr>\n",
              "      <th>8</th>\n",
              "      <td>V Sehwag</td>\n",
              "      <td>2</td>\n",
              "    </tr>\n",
              "    <tr>\n",
              "      <th>9</th>\n",
              "      <td>BB McCullum</td>\n",
              "      <td>2</td>\n",
              "    </tr>\n",
              "    <tr>\n",
              "      <th>10</th>\n",
              "      <td>SV Samson</td>\n",
              "      <td>2</td>\n",
              "    </tr>\n",
              "    <tr>\n",
              "      <th>11</th>\n",
              "      <td>KL Rahul</td>\n",
              "      <td>2</td>\n",
              "    </tr>\n",
              "    <tr>\n",
              "      <th>12</th>\n",
              "      <td>M Vijay</td>\n",
              "      <td>2</td>\n",
              "    </tr>\n",
              "    <tr>\n",
              "      <th>13</th>\n",
              "      <td>SPD Smith</td>\n",
              "      <td>1</td>\n",
              "    </tr>\n",
              "    <tr>\n",
              "      <th>14</th>\n",
              "      <td>SE Marsh</td>\n",
              "      <td>1</td>\n",
              "    </tr>\n",
              "    <tr>\n",
              "      <th>15</th>\n",
              "      <td>SK Raina</td>\n",
              "      <td>1</td>\n",
              "    </tr>\n",
              "    <tr>\n",
              "      <th>16</th>\n",
              "      <td>A Symonds</td>\n",
              "      <td>1</td>\n",
              "    </tr>\n",
              "    <tr>\n",
              "      <th>17</th>\n",
              "      <td>SR Tendulkar</td>\n",
              "      <td>1</td>\n",
              "    </tr>\n",
              "    <tr>\n",
              "      <th>18</th>\n",
              "      <td>ST Jayasuriya</td>\n",
              "      <td>1</td>\n",
              "    </tr>\n",
              "    <tr>\n",
              "      <th>19</th>\n",
              "      <td>RG Sharma</td>\n",
              "      <td>1</td>\n",
              "    </tr>\n",
              "    <tr>\n",
              "      <th>20</th>\n",
              "      <td>WP Saha</td>\n",
              "      <td>1</td>\n",
              "    </tr>\n",
              "    <tr>\n",
              "      <th>21</th>\n",
              "      <td>RR Pant</td>\n",
              "      <td>1</td>\n",
              "    </tr>\n",
              "    <tr>\n",
              "      <th>22</th>\n",
              "      <td>MEK Hussey</td>\n",
              "      <td>1</td>\n",
              "    </tr>\n",
              "    <tr>\n",
              "      <th>23</th>\n",
              "      <td>Q de Kock</td>\n",
              "      <td>1</td>\n",
              "    </tr>\n",
              "    <tr>\n",
              "      <th>24</th>\n",
              "      <td>PC Valthaty</td>\n",
              "      <td>1</td>\n",
              "    </tr>\n",
              "    <tr>\n",
              "      <th>25</th>\n",
              "      <td>P Shaw</td>\n",
              "      <td>1</td>\n",
              "    </tr>\n",
              "    <tr>\n",
              "      <th>26</th>\n",
              "      <td>MK Pandey</td>\n",
              "      <td>1</td>\n",
              "    </tr>\n",
              "    <tr>\n",
              "      <th>27</th>\n",
              "      <td>LMP Simmons</td>\n",
              "      <td>1</td>\n",
              "    </tr>\n",
              "    <tr>\n",
              "      <th>28</th>\n",
              "      <td>KP Pietersen</td>\n",
              "      <td>1</td>\n",
              "    </tr>\n",
              "    <tr>\n",
              "      <th>29</th>\n",
              "      <td>KD Karthik</td>\n",
              "      <td>1</td>\n",
              "    </tr>\n",
              "    <tr>\n",
              "      <th>30</th>\n",
              "      <td>J Bairstow</td>\n",
              "      <td>1</td>\n",
              "    </tr>\n",
              "    <tr>\n",
              "      <th>31</th>\n",
              "      <td>DPMD Jayawardene</td>\n",
              "      <td>1</td>\n",
              "    </tr>\n",
              "    <tr>\n",
              "      <th>32</th>\n",
              "      <td>DA Miller</td>\n",
              "      <td>1</td>\n",
              "    </tr>\n",
              "    <tr>\n",
              "      <th>33</th>\n",
              "      <td>BA Stokes</td>\n",
              "      <td>1</td>\n",
              "    </tr>\n",
              "    <tr>\n",
              "      <th>34</th>\n",
              "      <td>AT Rayudu</td>\n",
              "      <td>1</td>\n",
              "    </tr>\n",
              "    <tr>\n",
              "      <th>35</th>\n",
              "      <td>YK Pathan</td>\n",
              "      <td>1</td>\n",
              "    </tr>\n",
              "  </tbody>\n",
              "</table>\n",
              "</div>"
            ],
            "text/plain": [
              "             batsman  No_of_centuries\n",
              "0           CH Gayle                7\n",
              "1            V Kohli                5\n",
              "2          DA Warner                4\n",
              "3          SR Watson                4\n",
              "4     AB de Villiers                3\n",
              "5            HM Amla                2\n",
              "6       AC Gilchrist                2\n",
              "7          AM Rahane                2\n",
              "8           V Sehwag                2\n",
              "9        BB McCullum                2\n",
              "10         SV Samson                2\n",
              "11          KL Rahul                2\n",
              "12           M Vijay                2\n",
              "13         SPD Smith                1\n",
              "14          SE Marsh                1\n",
              "15          SK Raina                1\n",
              "16         A Symonds                1\n",
              "17      SR Tendulkar                1\n",
              "18     ST Jayasuriya                1\n",
              "19         RG Sharma                1\n",
              "20           WP Saha                1\n",
              "21           RR Pant                1\n",
              "22        MEK Hussey                1\n",
              "23         Q de Kock                1\n",
              "24       PC Valthaty                1\n",
              "25            P Shaw                1\n",
              "26         MK Pandey                1\n",
              "27       LMP Simmons                1\n",
              "28      KP Pietersen                1\n",
              "29        KD Karthik                1\n",
              "30        J Bairstow                1\n",
              "31  DPMD Jayawardene                1\n",
              "32         DA Miller                1\n",
              "33         BA Stokes                1\n",
              "34         AT Rayudu                1\n",
              "35         YK Pathan                1"
            ]
          },
          "metadata": {
            "tags": []
          },
          "execution_count": 74
        }
      ]
    },
    {
      "cell_type": "markdown",
      "metadata": {
        "id": "-iSMSz2D8wBG"
      },
      "source": [
        "CH Gayke has made maximum centuries during the IPL"
      ]
    },
    {
      "cell_type": "code",
      "metadata": {
        "id": "29VPeE3U8tn_",
        "outputId": "789017db-1135-405e-820e-3272aa1240bb",
        "colab": {
          "base_uri": "https://localhost:8080/",
          "height": 1000
        }
      },
      "source": [
        "Batsman_with_Half_centuries=Batsman_Score_by_Match[Batsman_Score_by_Match[\"batsman_runs\"]>=50].reset_index()\n",
        "Batsman_with_Half_centuries=Batsman_with_Half_centuries.groupby(\"batsman\")[\"match_id\"].count().reset_index().sort_values(by=\"match_id\",ascending=False).reset_index(drop=True)\n",
        "Batsman_with_Half_centuries_top=Batsman_with_Half_centuries[Batsman_with_Half_centuries[\"match_id\"]>=10]\n",
        "Batsman_with_Half_centuries_top.columns = [\"batsman\",\"No_of_half_centuries\"]\n",
        "Batsman_with_Half_centuries_top"
      ],
      "execution_count": 75,
      "outputs": [
        {
          "output_type": "execute_result",
          "data": {
            "text/html": [
              "<div>\n",
              "<style scoped>\n",
              "    .dataframe tbody tr th:only-of-type {\n",
              "        vertical-align: middle;\n",
              "    }\n",
              "\n",
              "    .dataframe tbody tr th {\n",
              "        vertical-align: top;\n",
              "    }\n",
              "\n",
              "    .dataframe thead th {\n",
              "        text-align: right;\n",
              "    }\n",
              "</style>\n",
              "<table border=\"1\" class=\"dataframe\">\n",
              "  <thead>\n",
              "    <tr style=\"text-align: right;\">\n",
              "      <th></th>\n",
              "      <th>batsman</th>\n",
              "      <th>No_of_half_centuries</th>\n",
              "    </tr>\n",
              "  </thead>\n",
              "  <tbody>\n",
              "    <tr>\n",
              "      <th>0</th>\n",
              "      <td>DA Warner</td>\n",
              "      <td>48</td>\n",
              "    </tr>\n",
              "    <tr>\n",
              "      <th>1</th>\n",
              "      <td>V Kohli</td>\n",
              "      <td>43</td>\n",
              "    </tr>\n",
              "    <tr>\n",
              "      <th>2</th>\n",
              "      <td>SK Raina</td>\n",
              "      <td>39</td>\n",
              "    </tr>\n",
              "    <tr>\n",
              "      <th>3</th>\n",
              "      <td>S Dhawan</td>\n",
              "      <td>37</td>\n",
              "    </tr>\n",
              "    <tr>\n",
              "      <th>4</th>\n",
              "      <td>RG Sharma</td>\n",
              "      <td>37</td>\n",
              "    </tr>\n",
              "    <tr>\n",
              "      <th>5</th>\n",
              "      <td>AB de Villiers</td>\n",
              "      <td>37</td>\n",
              "    </tr>\n",
              "    <tr>\n",
              "      <th>6</th>\n",
              "      <td>G Gambhir</td>\n",
              "      <td>36</td>\n",
              "    </tr>\n",
              "    <tr>\n",
              "      <th>7</th>\n",
              "      <td>CH Gayle</td>\n",
              "      <td>35</td>\n",
              "    </tr>\n",
              "    <tr>\n",
              "      <th>8</th>\n",
              "      <td>AM Rahane</td>\n",
              "      <td>29</td>\n",
              "    </tr>\n",
              "    <tr>\n",
              "      <th>9</th>\n",
              "      <td>RV Uthappa</td>\n",
              "      <td>24</td>\n",
              "    </tr>\n",
              "    <tr>\n",
              "      <th>10</th>\n",
              "      <td>SR Watson</td>\n",
              "      <td>23</td>\n",
              "    </tr>\n",
              "    <tr>\n",
              "      <th>11</th>\n",
              "      <td>MS Dhoni</td>\n",
              "      <td>23</td>\n",
              "    </tr>\n",
              "    <tr>\n",
              "      <th>12</th>\n",
              "      <td>SE Marsh</td>\n",
              "      <td>21</td>\n",
              "    </tr>\n",
              "    <tr>\n",
              "      <th>13</th>\n",
              "      <td>AT Rayudu</td>\n",
              "      <td>20</td>\n",
              "    </tr>\n",
              "    <tr>\n",
              "      <th>14</th>\n",
              "      <td>V Sehwag</td>\n",
              "      <td>18</td>\n",
              "    </tr>\n",
              "    <tr>\n",
              "      <th>15</th>\n",
              "      <td>KD Karthik</td>\n",
              "      <td>18</td>\n",
              "    </tr>\n",
              "    <tr>\n",
              "      <th>16</th>\n",
              "      <td>JH Kallis</td>\n",
              "      <td>17</td>\n",
              "    </tr>\n",
              "    <tr>\n",
              "      <th>17</th>\n",
              "      <td>KL Rahul</td>\n",
              "      <td>17</td>\n",
              "    </tr>\n",
              "    <tr>\n",
              "      <th>18</th>\n",
              "      <td>DR Smith</td>\n",
              "      <td>17</td>\n",
              "    </tr>\n",
              "    <tr>\n",
              "      <th>19</th>\n",
              "      <td>MEK Hussey</td>\n",
              "      <td>16</td>\n",
              "    </tr>\n",
              "    <tr>\n",
              "      <th>20</th>\n",
              "      <td>MK Pandey</td>\n",
              "      <td>16</td>\n",
              "    </tr>\n",
              "    <tr>\n",
              "      <th>21</th>\n",
              "      <td>BB McCullum</td>\n",
              "      <td>15</td>\n",
              "    </tr>\n",
              "    <tr>\n",
              "      <th>22</th>\n",
              "      <td>M Vijay</td>\n",
              "      <td>15</td>\n",
              "    </tr>\n",
              "    <tr>\n",
              "      <th>23</th>\n",
              "      <td>YK Pathan</td>\n",
              "      <td>15</td>\n",
              "    </tr>\n",
              "    <tr>\n",
              "      <th>24</th>\n",
              "      <td>SR Tendulkar</td>\n",
              "      <td>14</td>\n",
              "    </tr>\n",
              "    <tr>\n",
              "      <th>25</th>\n",
              "      <td>SV Samson</td>\n",
              "      <td>14</td>\n",
              "    </tr>\n",
              "    <tr>\n",
              "      <th>26</th>\n",
              "      <td>JP Duminy</td>\n",
              "      <td>14</td>\n",
              "    </tr>\n",
              "    <tr>\n",
              "      <th>27</th>\n",
              "      <td>KA Pollard</td>\n",
              "      <td>14</td>\n",
              "    </tr>\n",
              "    <tr>\n",
              "      <th>28</th>\n",
              "      <td>PA Patel</td>\n",
              "      <td>13</td>\n",
              "    </tr>\n",
              "    <tr>\n",
              "      <th>29</th>\n",
              "      <td>KS Williamson</td>\n",
              "      <td>13</td>\n",
              "    </tr>\n",
              "    <tr>\n",
              "      <th>30</th>\n",
              "      <td>Yuvraj Singh</td>\n",
              "      <td>13</td>\n",
              "    </tr>\n",
              "    <tr>\n",
              "      <th>31</th>\n",
              "      <td>RR Pant</td>\n",
              "      <td>13</td>\n",
              "    </tr>\n",
              "    <tr>\n",
              "      <th>32</th>\n",
              "      <td>AC Gilchrist</td>\n",
              "      <td>13</td>\n",
              "    </tr>\n",
              "    <tr>\n",
              "      <th>33</th>\n",
              "      <td>AJ Finch</td>\n",
              "      <td>13</td>\n",
              "    </tr>\n",
              "    <tr>\n",
              "      <th>34</th>\n",
              "      <td>SS Iyer</td>\n",
              "      <td>13</td>\n",
              "    </tr>\n",
              "    <tr>\n",
              "      <th>35</th>\n",
              "      <td>F du Plessis</td>\n",
              "      <td>12</td>\n",
              "    </tr>\n",
              "    <tr>\n",
              "      <th>36</th>\n",
              "      <td>LMP Simmons</td>\n",
              "      <td>12</td>\n",
              "    </tr>\n",
              "    <tr>\n",
              "      <th>37</th>\n",
              "      <td>DPMD Jayawardene</td>\n",
              "      <td>11</td>\n",
              "    </tr>\n",
              "    <tr>\n",
              "      <th>38</th>\n",
              "      <td>AD Russell</td>\n",
              "      <td>11</td>\n",
              "    </tr>\n",
              "    <tr>\n",
              "      <th>39</th>\n",
              "      <td>S Badrinath</td>\n",
              "      <td>11</td>\n",
              "    </tr>\n",
              "    <tr>\n",
              "      <th>40</th>\n",
              "      <td>Q de Kock</td>\n",
              "      <td>11</td>\n",
              "    </tr>\n",
              "    <tr>\n",
              "      <th>41</th>\n",
              "      <td>R Dravid</td>\n",
              "      <td>11</td>\n",
              "    </tr>\n",
              "    <tr>\n",
              "      <th>42</th>\n",
              "      <td>DA Miller</td>\n",
              "      <td>11</td>\n",
              "    </tr>\n",
              "    <tr>\n",
              "      <th>43</th>\n",
              "      <td>CA Lynn</td>\n",
              "      <td>10</td>\n",
              "    </tr>\n",
              "    <tr>\n",
              "      <th>44</th>\n",
              "      <td>KK Nair</td>\n",
              "      <td>10</td>\n",
              "    </tr>\n",
              "    <tr>\n",
              "      <th>45</th>\n",
              "      <td>KC Sangakkara</td>\n",
              "      <td>10</td>\n",
              "    </tr>\n",
              "  </tbody>\n",
              "</table>\n",
              "</div>"
            ],
            "text/plain": [
              "             batsman  No_of_half_centuries\n",
              "0          DA Warner                    48\n",
              "1            V Kohli                    43\n",
              "2           SK Raina                    39\n",
              "3           S Dhawan                    37\n",
              "4          RG Sharma                    37\n",
              "5     AB de Villiers                    37\n",
              "6          G Gambhir                    36\n",
              "7           CH Gayle                    35\n",
              "8          AM Rahane                    29\n",
              "9         RV Uthappa                    24\n",
              "10         SR Watson                    23\n",
              "11          MS Dhoni                    23\n",
              "12          SE Marsh                    21\n",
              "13         AT Rayudu                    20\n",
              "14          V Sehwag                    18\n",
              "15        KD Karthik                    18\n",
              "16         JH Kallis                    17\n",
              "17          KL Rahul                    17\n",
              "18          DR Smith                    17\n",
              "19        MEK Hussey                    16\n",
              "20         MK Pandey                    16\n",
              "21       BB McCullum                    15\n",
              "22           M Vijay                    15\n",
              "23         YK Pathan                    15\n",
              "24      SR Tendulkar                    14\n",
              "25         SV Samson                    14\n",
              "26         JP Duminy                    14\n",
              "27        KA Pollard                    14\n",
              "28          PA Patel                    13\n",
              "29     KS Williamson                    13\n",
              "30      Yuvraj Singh                    13\n",
              "31           RR Pant                    13\n",
              "32      AC Gilchrist                    13\n",
              "33          AJ Finch                    13\n",
              "34           SS Iyer                    13\n",
              "35      F du Plessis                    12\n",
              "36       LMP Simmons                    12\n",
              "37  DPMD Jayawardene                    11\n",
              "38        AD Russell                    11\n",
              "39       S Badrinath                    11\n",
              "40         Q de Kock                    11\n",
              "41          R Dravid                    11\n",
              "42         DA Miller                    11\n",
              "43           CA Lynn                    10\n",
              "44           KK Nair                    10\n",
              "45     KC Sangakkara                    10"
            ]
          },
          "metadata": {
            "tags": []
          },
          "execution_count": 75
        }
      ]
    },
    {
      "cell_type": "markdown",
      "metadata": {
        "id": "uFm2DUrv9dPb"
      },
      "source": [
        "DA Warner has made max half centuries during the IPL."
      ]
    },
    {
      "cell_type": "code",
      "metadata": {
        "id": "Olv6betV9eCu",
        "outputId": "39bb4270-f708-44c0-981b-93201ad2c47c",
        "colab": {
          "base_uri": "https://localhost:8080/",
          "height": 233
        }
      },
      "source": [
        "Bowler_wicket = deliveries_df[deliveries_df[\"dismissal_kind\"] != \"run out\"]\n",
        "Bowler_wicket= Bowler_wicket[[\"bowler\",\"player_dismissed\"]]\n",
        "Bowler_wicket = Bowler_wicket.dropna()\n",
        "Bowler_wicket= Bowler_wicket.groupby(\"bowler\")[\"player_dismissed\"].count().reset_index().sort_values(by=\"player_dismissed\",ascending=False).reset_index(drop=True)\n",
        "Bowler_wicket.columns=[\"bowler\",\"Wickets\"]\n",
        "Bowler_wicket.iloc[:6]"
      ],
      "execution_count": 76,
      "outputs": [
        {
          "output_type": "execute_result",
          "data": {
            "text/html": [
              "<div>\n",
              "<style scoped>\n",
              "    .dataframe tbody tr th:only-of-type {\n",
              "        vertical-align: middle;\n",
              "    }\n",
              "\n",
              "    .dataframe tbody tr th {\n",
              "        vertical-align: top;\n",
              "    }\n",
              "\n",
              "    .dataframe thead th {\n",
              "        text-align: right;\n",
              "    }\n",
              "</style>\n",
              "<table border=\"1\" class=\"dataframe\">\n",
              "  <thead>\n",
              "    <tr style=\"text-align: right;\">\n",
              "      <th></th>\n",
              "      <th>bowler</th>\n",
              "      <th>Wickets</th>\n",
              "    </tr>\n",
              "  </thead>\n",
              "  <tbody>\n",
              "    <tr>\n",
              "      <th>0</th>\n",
              "      <td>SL Malinga</td>\n",
              "      <td>170</td>\n",
              "    </tr>\n",
              "    <tr>\n",
              "      <th>1</th>\n",
              "      <td>A Mishra</td>\n",
              "      <td>156</td>\n",
              "    </tr>\n",
              "    <tr>\n",
              "      <th>2</th>\n",
              "      <td>Harbhajan Singh</td>\n",
              "      <td>150</td>\n",
              "    </tr>\n",
              "    <tr>\n",
              "      <th>3</th>\n",
              "      <td>PP Chawla</td>\n",
              "      <td>149</td>\n",
              "    </tr>\n",
              "    <tr>\n",
              "      <th>4</th>\n",
              "      <td>DJ Bravo</td>\n",
              "      <td>147</td>\n",
              "    </tr>\n",
              "    <tr>\n",
              "      <th>5</th>\n",
              "      <td>B Kumar</td>\n",
              "      <td>133</td>\n",
              "    </tr>\n",
              "  </tbody>\n",
              "</table>\n",
              "</div>"
            ],
            "text/plain": [
              "            bowler  Wickets\n",
              "0       SL Malinga      170\n",
              "1         A Mishra      156\n",
              "2  Harbhajan Singh      150\n",
              "3        PP Chawla      149\n",
              "4         DJ Bravo      147\n",
              "5          B Kumar      133"
            ]
          },
          "metadata": {
            "tags": []
          },
          "execution_count": 76
        }
      ]
    },
    {
      "cell_type": "markdown",
      "metadata": {
        "id": "pMNgBqsdBGWF"
      },
      "source": [
        "Top 6 bowlers who took max wickets are found above."
      ]
    },
    {
      "cell_type": "code",
      "metadata": {
        "id": "hFeC1erm-RK3"
      },
      "source": [
        "working_directory = '/content/drive/My Drive/AlmaBetter/CohortAravali/Cohort Aravali/Module 2/Capstone-1/'\n",
        "teamwise_home_and_away_df = pd.read_csv(working_directory + 'teamwise_home_and_away.csv')"
      ],
      "execution_count": 77,
      "outputs": []
    },
    {
      "cell_type": "code",
      "metadata": {
        "id": "RZwlQAgpltBQ",
        "outputId": "1ea5e9fd-c985-468b-8e8c-ead3e8292d30",
        "colab": {
          "base_uri": "https://localhost:8080/",
          "height": 202
        }
      },
      "source": [
        "teamwise_home_and_away_df.head()"
      ],
      "execution_count": 78,
      "outputs": [
        {
          "output_type": "execute_result",
          "data": {
            "text/html": [
              "<div>\n",
              "<style scoped>\n",
              "    .dataframe tbody tr th:only-of-type {\n",
              "        vertical-align: middle;\n",
              "    }\n",
              "\n",
              "    .dataframe tbody tr th {\n",
              "        vertical-align: top;\n",
              "    }\n",
              "\n",
              "    .dataframe thead th {\n",
              "        text-align: right;\n",
              "    }\n",
              "</style>\n",
              "<table border=\"1\" class=\"dataframe\">\n",
              "  <thead>\n",
              "    <tr style=\"text-align: right;\">\n",
              "      <th></th>\n",
              "      <th>team</th>\n",
              "      <th>home_wins</th>\n",
              "      <th>away_wins</th>\n",
              "      <th>home_matches</th>\n",
              "      <th>away_matches</th>\n",
              "      <th>home_win_percentage</th>\n",
              "      <th>away_win_percentage</th>\n",
              "    </tr>\n",
              "  </thead>\n",
              "  <tbody>\n",
              "    <tr>\n",
              "      <th>0</th>\n",
              "      <td>Rising Pune Supergiant</td>\n",
              "      <td>5</td>\n",
              "      <td>5</td>\n",
              "      <td>8</td>\n",
              "      <td>8</td>\n",
              "      <td>62.500000</td>\n",
              "      <td>62.500000</td>\n",
              "    </tr>\n",
              "    <tr>\n",
              "      <th>1</th>\n",
              "      <td>Mumbai Indians</td>\n",
              "      <td>58</td>\n",
              "      <td>51</td>\n",
              "      <td>101</td>\n",
              "      <td>86</td>\n",
              "      <td>57.425743</td>\n",
              "      <td>59.302326</td>\n",
              "    </tr>\n",
              "    <tr>\n",
              "      <th>2</th>\n",
              "      <td>Chennai Super Kings</td>\n",
              "      <td>51</td>\n",
              "      <td>49</td>\n",
              "      <td>89</td>\n",
              "      <td>75</td>\n",
              "      <td>57.303371</td>\n",
              "      <td>65.333333</td>\n",
              "    </tr>\n",
              "    <tr>\n",
              "      <th>3</th>\n",
              "      <td>Delhi Capitals</td>\n",
              "      <td>3</td>\n",
              "      <td>7</td>\n",
              "      <td>6</td>\n",
              "      <td>10</td>\n",
              "      <td>50.000000</td>\n",
              "      <td>70.000000</td>\n",
              "    </tr>\n",
              "    <tr>\n",
              "      <th>4</th>\n",
              "      <td>Sunrisers Hyderabad</td>\n",
              "      <td>30</td>\n",
              "      <td>28</td>\n",
              "      <td>63</td>\n",
              "      <td>45</td>\n",
              "      <td>47.619048</td>\n",
              "      <td>62.222222</td>\n",
              "    </tr>\n",
              "  </tbody>\n",
              "</table>\n",
              "</div>"
            ],
            "text/plain": [
              "                     team  home_wins  ...  home_win_percentage  away_win_percentage\n",
              "0  Rising Pune Supergiant          5  ...            62.500000            62.500000\n",
              "1          Mumbai Indians         58  ...            57.425743            59.302326\n",
              "2     Chennai Super Kings         51  ...            57.303371            65.333333\n",
              "3          Delhi Capitals          3  ...            50.000000            70.000000\n",
              "4     Sunrisers Hyderabad         30  ...            47.619048            62.222222\n",
              "\n",
              "[5 rows x 7 columns]"
            ]
          },
          "metadata": {
            "tags": []
          },
          "execution_count": 78
        }
      ]
    },
    {
      "cell_type": "code",
      "metadata": {
        "id": "pYDv-6z2ltNK",
        "outputId": "3ad127bb-52de-43a8-e93d-14c9f0e03400",
        "colab": {
          "base_uri": "https://localhost:8080/",
          "height": 294
        }
      },
      "source": [
        "teamwise_home_and_away_df.describe()"
      ],
      "execution_count": 79,
      "outputs": [
        {
          "output_type": "execute_result",
          "data": {
            "text/html": [
              "<div>\n",
              "<style scoped>\n",
              "    .dataframe tbody tr th:only-of-type {\n",
              "        vertical-align: middle;\n",
              "    }\n",
              "\n",
              "    .dataframe tbody tr th {\n",
              "        vertical-align: top;\n",
              "    }\n",
              "\n",
              "    .dataframe thead th {\n",
              "        text-align: right;\n",
              "    }\n",
              "</style>\n",
              "<table border=\"1\" class=\"dataframe\">\n",
              "  <thead>\n",
              "    <tr style=\"text-align: right;\">\n",
              "      <th></th>\n",
              "      <th>home_wins</th>\n",
              "      <th>away_wins</th>\n",
              "      <th>home_matches</th>\n",
              "      <th>away_matches</th>\n",
              "      <th>home_win_percentage</th>\n",
              "      <th>away_win_percentage</th>\n",
              "    </tr>\n",
              "  </thead>\n",
              "  <tbody>\n",
              "    <tr>\n",
              "      <th>count</th>\n",
              "      <td>14.000000</td>\n",
              "      <td>14.000000</td>\n",
              "      <td>14.000000</td>\n",
              "      <td>14.000000</td>\n",
              "      <td>14.000000</td>\n",
              "      <td>14.000000</td>\n",
              "    </tr>\n",
              "    <tr>\n",
              "      <th>mean</th>\n",
              "      <td>23.928571</td>\n",
              "      <td>29.428571</td>\n",
              "      <td>53.500000</td>\n",
              "      <td>53.500000</td>\n",
              "      <td>41.737663</td>\n",
              "      <td>55.574283</td>\n",
              "    </tr>\n",
              "    <tr>\n",
              "      <th>std</th>\n",
              "      <td>18.685512</td>\n",
              "      <td>20.816836</td>\n",
              "      <td>35.821674</td>\n",
              "      <td>35.883894</td>\n",
              "      <td>14.095272</td>\n",
              "      <td>13.669679</td>\n",
              "    </tr>\n",
              "    <tr>\n",
              "      <th>min</th>\n",
              "      <td>1.000000</td>\n",
              "      <td>4.000000</td>\n",
              "      <td>6.000000</td>\n",
              "      <td>7.000000</td>\n",
              "      <td>7.142857</td>\n",
              "      <td>23.076923</td>\n",
              "    </tr>\n",
              "    <tr>\n",
              "      <th>25%</th>\n",
              "      <td>5.250000</td>\n",
              "      <td>8.000000</td>\n",
              "      <td>15.500000</td>\n",
              "      <td>18.500000</td>\n",
              "      <td>36.282631</td>\n",
              "      <td>51.625387</td>\n",
              "    </tr>\n",
              "    <tr>\n",
              "      <th>50%</th>\n",
              "      <td>27.000000</td>\n",
              "      <td>35.000000</td>\n",
              "      <td>65.000000</td>\n",
              "      <td>60.000000</td>\n",
              "      <td>41.809353</td>\n",
              "      <td>58.401163</td>\n",
              "    </tr>\n",
              "    <tr>\n",
              "      <th>75%</th>\n",
              "      <td>34.750000</td>\n",
              "      <td>48.250000</td>\n",
              "      <td>84.500000</td>\n",
              "      <td>85.750000</td>\n",
              "      <td>49.404762</td>\n",
              "      <td>62.430556</td>\n",
              "    </tr>\n",
              "    <tr>\n",
              "      <th>max</th>\n",
              "      <td>58.000000</td>\n",
              "      <td>58.000000</td>\n",
              "      <td>101.000000</td>\n",
              "      <td>95.000000</td>\n",
              "      <td>62.500000</td>\n",
              "      <td>75.000000</td>\n",
              "    </tr>\n",
              "  </tbody>\n",
              "</table>\n",
              "</div>"
            ],
            "text/plain": [
              "       home_wins  away_wins  ...  home_win_percentage  away_win_percentage\n",
              "count  14.000000  14.000000  ...            14.000000            14.000000\n",
              "mean   23.928571  29.428571  ...            41.737663            55.574283\n",
              "std    18.685512  20.816836  ...            14.095272            13.669679\n",
              "min     1.000000   4.000000  ...             7.142857            23.076923\n",
              "25%     5.250000   8.000000  ...            36.282631            51.625387\n",
              "50%    27.000000  35.000000  ...            41.809353            58.401163\n",
              "75%    34.750000  48.250000  ...            49.404762            62.430556\n",
              "max    58.000000  58.000000  ...            62.500000            75.000000\n",
              "\n",
              "[8 rows x 6 columns]"
            ]
          },
          "metadata": {
            "tags": []
          },
          "execution_count": 79
        }
      ]
    },
    {
      "cell_type": "code",
      "metadata": {
        "id": "beaST6L1ltJg",
        "outputId": "e112cac4-5230-43cd-ad0d-c1d603bab0f1",
        "colab": {
          "base_uri": "https://localhost:8080/",
          "height": 509
        }
      },
      "source": [
        "home_wins = teamwise_home_and_away_df[['team','home_wins']].groupby('team').sum().sort_values(by=\"home_wins\",ascending=False)\n",
        "home_wins"
      ],
      "execution_count": 80,
      "outputs": [
        {
          "output_type": "execute_result",
          "data": {
            "text/html": [
              "<div>\n",
              "<style scoped>\n",
              "    .dataframe tbody tr th:only-of-type {\n",
              "        vertical-align: middle;\n",
              "    }\n",
              "\n",
              "    .dataframe tbody tr th {\n",
              "        vertical-align: top;\n",
              "    }\n",
              "\n",
              "    .dataframe thead th {\n",
              "        text-align: right;\n",
              "    }\n",
              "</style>\n",
              "<table border=\"1\" class=\"dataframe\">\n",
              "  <thead>\n",
              "    <tr style=\"text-align: right;\">\n",
              "      <th></th>\n",
              "      <th>home_wins</th>\n",
              "    </tr>\n",
              "    <tr>\n",
              "      <th>team</th>\n",
              "      <th></th>\n",
              "    </tr>\n",
              "  </thead>\n",
              "  <tbody>\n",
              "    <tr>\n",
              "      <th>Mumbai Indians</th>\n",
              "      <td>58</td>\n",
              "    </tr>\n",
              "    <tr>\n",
              "      <th>Chennai Super Kings</th>\n",
              "      <td>51</td>\n",
              "    </tr>\n",
              "    <tr>\n",
              "      <th>Kings XI Punjab</th>\n",
              "      <td>38</td>\n",
              "    </tr>\n",
              "    <tr>\n",
              "      <th>Royal Challengers Bangalore</th>\n",
              "      <td>35</td>\n",
              "    </tr>\n",
              "    <tr>\n",
              "      <th>Kolkata Knight Riders</th>\n",
              "      <td>34</td>\n",
              "    </tr>\n",
              "    <tr>\n",
              "      <th>Sunrisers Hyderabad</th>\n",
              "      <td>30</td>\n",
              "    </tr>\n",
              "    <tr>\n",
              "      <th>Rajasthan Royals</th>\n",
              "      <td>29</td>\n",
              "    </tr>\n",
              "    <tr>\n",
              "      <th>Delhi Daredevils</th>\n",
              "      <td>25</td>\n",
              "    </tr>\n",
              "    <tr>\n",
              "      <th>Deccan Chargers</th>\n",
              "      <td>18</td>\n",
              "    </tr>\n",
              "    <tr>\n",
              "      <th>Pune Warriors</th>\n",
              "      <td>6</td>\n",
              "    </tr>\n",
              "    <tr>\n",
              "      <th>Rising Pune Supergiant</th>\n",
              "      <td>5</td>\n",
              "    </tr>\n",
              "    <tr>\n",
              "      <th>Delhi Capitals</th>\n",
              "      <td>3</td>\n",
              "    </tr>\n",
              "    <tr>\n",
              "      <th>Kochi Tuskers Kerala</th>\n",
              "      <td>2</td>\n",
              "    </tr>\n",
              "    <tr>\n",
              "      <th>Gujarat Lions</th>\n",
              "      <td>1</td>\n",
              "    </tr>\n",
              "  </tbody>\n",
              "</table>\n",
              "</div>"
            ],
            "text/plain": [
              "                             home_wins\n",
              "team                                  \n",
              "Mumbai Indians                      58\n",
              "Chennai Super Kings                 51\n",
              "Kings XI Punjab                     38\n",
              "Royal Challengers Bangalore         35\n",
              "Kolkata Knight Riders               34\n",
              "Sunrisers Hyderabad                 30\n",
              "Rajasthan Royals                    29\n",
              "Delhi Daredevils                    25\n",
              "Deccan Chargers                     18\n",
              "Pune Warriors                        6\n",
              "Rising Pune Supergiant               5\n",
              "Delhi Capitals                       3\n",
              "Kochi Tuskers Kerala                 2\n",
              "Gujarat Lions                        1"
            ]
          },
          "metadata": {
            "tags": []
          },
          "execution_count": 80
        }
      ]
    },
    {
      "cell_type": "markdown",
      "metadata": {
        "id": "BbQF6dkkmur2"
      },
      "source": [
        "Mumbai Indians had maximum home_wins."
      ]
    },
    {
      "cell_type": "code",
      "metadata": {
        "id": "oO9UbC1GltFb",
        "outputId": "bf0d4e1e-54ce-4063-9aed-df4bcb2e687d",
        "colab": {
          "base_uri": "https://localhost:8080/",
          "height": 509
        }
      },
      "source": [
        "home_matches = teamwise_home_and_away_df[['team','home_matches']].groupby('team').sum().sort_values(by=\"home_matches\",ascending=False)\n",
        "home_matches"
      ],
      "execution_count": 81,
      "outputs": [
        {
          "output_type": "execute_result",
          "data": {
            "text/html": [
              "<div>\n",
              "<style scoped>\n",
              "    .dataframe tbody tr th:only-of-type {\n",
              "        vertical-align: middle;\n",
              "    }\n",
              "\n",
              "    .dataframe tbody tr th {\n",
              "        vertical-align: top;\n",
              "    }\n",
              "\n",
              "    .dataframe thead th {\n",
              "        text-align: right;\n",
              "    }\n",
              "</style>\n",
              "<table border=\"1\" class=\"dataframe\">\n",
              "  <thead>\n",
              "    <tr style=\"text-align: right;\">\n",
              "      <th></th>\n",
              "      <th>home_matches</th>\n",
              "    </tr>\n",
              "    <tr>\n",
              "      <th>team</th>\n",
              "      <th></th>\n",
              "    </tr>\n",
              "  </thead>\n",
              "  <tbody>\n",
              "    <tr>\n",
              "      <th>Mumbai Indians</th>\n",
              "      <td>101</td>\n",
              "    </tr>\n",
              "    <tr>\n",
              "      <th>Kings XI Punjab</th>\n",
              "      <td>91</td>\n",
              "    </tr>\n",
              "    <tr>\n",
              "      <th>Chennai Super Kings</th>\n",
              "      <td>89</td>\n",
              "    </tr>\n",
              "    <tr>\n",
              "      <th>Royal Challengers Bangalore</th>\n",
              "      <td>85</td>\n",
              "    </tr>\n",
              "    <tr>\n",
              "      <th>Kolkata Knight Riders</th>\n",
              "      <td>83</td>\n",
              "    </tr>\n",
              "    <tr>\n",
              "      <th>Delhi Daredevils</th>\n",
              "      <td>72</td>\n",
              "    </tr>\n",
              "    <tr>\n",
              "      <th>Rajasthan Royals</th>\n",
              "      <td>67</td>\n",
              "    </tr>\n",
              "    <tr>\n",
              "      <th>Sunrisers Hyderabad</th>\n",
              "      <td>63</td>\n",
              "    </tr>\n",
              "    <tr>\n",
              "      <th>Deccan Chargers</th>\n",
              "      <td>43</td>\n",
              "    </tr>\n",
              "    <tr>\n",
              "      <th>Pune Warriors</th>\n",
              "      <td>20</td>\n",
              "    </tr>\n",
              "    <tr>\n",
              "      <th>Gujarat Lions</th>\n",
              "      <td>14</td>\n",
              "    </tr>\n",
              "    <tr>\n",
              "      <th>Rising Pune Supergiant</th>\n",
              "      <td>8</td>\n",
              "    </tr>\n",
              "    <tr>\n",
              "      <th>Kochi Tuskers Kerala</th>\n",
              "      <td>7</td>\n",
              "    </tr>\n",
              "    <tr>\n",
              "      <th>Delhi Capitals</th>\n",
              "      <td>6</td>\n",
              "    </tr>\n",
              "  </tbody>\n",
              "</table>\n",
              "</div>"
            ],
            "text/plain": [
              "                             home_matches\n",
              "team                                     \n",
              "Mumbai Indians                        101\n",
              "Kings XI Punjab                        91\n",
              "Chennai Super Kings                    89\n",
              "Royal Challengers Bangalore            85\n",
              "Kolkata Knight Riders                  83\n",
              "Delhi Daredevils                       72\n",
              "Rajasthan Royals                       67\n",
              "Sunrisers Hyderabad                    63\n",
              "Deccan Chargers                        43\n",
              "Pune Warriors                          20\n",
              "Gujarat Lions                          14\n",
              "Rising Pune Supergiant                  8\n",
              "Kochi Tuskers Kerala                    7\n",
              "Delhi Capitals                          6"
            ]
          },
          "metadata": {
            "tags": []
          },
          "execution_count": 81
        }
      ]
    },
    {
      "cell_type": "code",
      "metadata": {
        "id": "u-lEwAmKls93",
        "outputId": "ee4518db-8714-4b58-fda9-2efc32030f4a",
        "colab": {
          "base_uri": "https://localhost:8080/",
          "height": 509
        }
      },
      "source": [
        "away_wins = teamwise_home_and_away_df[['team','away_wins']].groupby('team').sum().sort_values(by=\"away_wins\",ascending=False)\n",
        "away_wins"
      ],
      "execution_count": 82,
      "outputs": [
        {
          "output_type": "execute_result",
          "data": {
            "text/html": [
              "<div>\n",
              "<style scoped>\n",
              "    .dataframe tbody tr th:only-of-type {\n",
              "        vertical-align: middle;\n",
              "    }\n",
              "\n",
              "    .dataframe tbody tr th {\n",
              "        vertical-align: top;\n",
              "    }\n",
              "\n",
              "    .dataframe thead th {\n",
              "        text-align: right;\n",
              "    }\n",
              "</style>\n",
              "<table border=\"1\" class=\"dataframe\">\n",
              "  <thead>\n",
              "    <tr style=\"text-align: right;\">\n",
              "      <th></th>\n",
              "      <th>away_wins</th>\n",
              "    </tr>\n",
              "    <tr>\n",
              "      <th>team</th>\n",
              "      <th></th>\n",
              "    </tr>\n",
              "  </thead>\n",
              "  <tbody>\n",
              "    <tr>\n",
              "      <th>Kolkata Knight Riders</th>\n",
              "      <td>58</td>\n",
              "    </tr>\n",
              "    <tr>\n",
              "      <th>Mumbai Indians</th>\n",
              "      <td>51</td>\n",
              "    </tr>\n",
              "    <tr>\n",
              "      <th>Chennai Super Kings</th>\n",
              "      <td>49</td>\n",
              "    </tr>\n",
              "    <tr>\n",
              "      <th>Royal Challengers Bangalore</th>\n",
              "      <td>49</td>\n",
              "    </tr>\n",
              "    <tr>\n",
              "      <th>Rajasthan Royals</th>\n",
              "      <td>46</td>\n",
              "    </tr>\n",
              "    <tr>\n",
              "      <th>Kings XI Punjab</th>\n",
              "      <td>44</td>\n",
              "    </tr>\n",
              "    <tr>\n",
              "      <th>Delhi Daredevils</th>\n",
              "      <td>42</td>\n",
              "    </tr>\n",
              "    <tr>\n",
              "      <th>Sunrisers Hyderabad</th>\n",
              "      <td>28</td>\n",
              "    </tr>\n",
              "    <tr>\n",
              "      <th>Gujarat Lions</th>\n",
              "      <td>12</td>\n",
              "    </tr>\n",
              "    <tr>\n",
              "      <th>Deccan Chargers</th>\n",
              "      <td>11</td>\n",
              "    </tr>\n",
              "    <tr>\n",
              "      <th>Delhi Capitals</th>\n",
              "      <td>7</td>\n",
              "    </tr>\n",
              "    <tr>\n",
              "      <th>Pune Warriors</th>\n",
              "      <td>6</td>\n",
              "    </tr>\n",
              "    <tr>\n",
              "      <th>Rising Pune Supergiant</th>\n",
              "      <td>5</td>\n",
              "    </tr>\n",
              "    <tr>\n",
              "      <th>Kochi Tuskers Kerala</th>\n",
              "      <td>4</td>\n",
              "    </tr>\n",
              "  </tbody>\n",
              "</table>\n",
              "</div>"
            ],
            "text/plain": [
              "                             away_wins\n",
              "team                                  \n",
              "Kolkata Knight Riders               58\n",
              "Mumbai Indians                      51\n",
              "Chennai Super Kings                 49\n",
              "Royal Challengers Bangalore         49\n",
              "Rajasthan Royals                    46\n",
              "Kings XI Punjab                     44\n",
              "Delhi Daredevils                    42\n",
              "Sunrisers Hyderabad                 28\n",
              "Gujarat Lions                       12\n",
              "Deccan Chargers                     11\n",
              "Delhi Capitals                       7\n",
              "Pune Warriors                        6\n",
              "Rising Pune Supergiant               5\n",
              "Kochi Tuskers Kerala                 4"
            ]
          },
          "metadata": {
            "tags": []
          },
          "execution_count": 82
        }
      ]
    },
    {
      "cell_type": "markdown",
      "metadata": {
        "id": "3Xr8gKKvnpdm"
      },
      "source": [
        "Max away wins were for Kolkata Knight Riders."
      ]
    },
    {
      "cell_type": "code",
      "metadata": {
        "id": "G9mAspMznv1O",
        "outputId": "e1a518f1-5934-40f7-cfcd-7b438ac62b0b",
        "colab": {
          "base_uri": "https://localhost:8080/",
          "height": 509
        }
      },
      "source": [
        "away_matches = teamwise_home_and_away_df[['team','away_matches']].groupby('team').sum().sort_values(by=\"away_matches\",ascending=False)\n",
        "away_matches"
      ],
      "execution_count": 83,
      "outputs": [
        {
          "output_type": "execute_result",
          "data": {
            "text/html": [
              "<div>\n",
              "<style scoped>\n",
              "    .dataframe tbody tr th:only-of-type {\n",
              "        vertical-align: middle;\n",
              "    }\n",
              "\n",
              "    .dataframe tbody tr th {\n",
              "        vertical-align: top;\n",
              "    }\n",
              "\n",
              "    .dataframe thead th {\n",
              "        text-align: right;\n",
              "    }\n",
              "</style>\n",
              "<table border=\"1\" class=\"dataframe\">\n",
              "  <thead>\n",
              "    <tr style=\"text-align: right;\">\n",
              "      <th></th>\n",
              "      <th>away_matches</th>\n",
              "    </tr>\n",
              "    <tr>\n",
              "      <th>team</th>\n",
              "      <th></th>\n",
              "    </tr>\n",
              "  </thead>\n",
              "  <tbody>\n",
              "    <tr>\n",
              "      <th>Kolkata Knight Riders</th>\n",
              "      <td>95</td>\n",
              "    </tr>\n",
              "    <tr>\n",
              "      <th>Royal Challengers Bangalore</th>\n",
              "      <td>95</td>\n",
              "    </tr>\n",
              "    <tr>\n",
              "      <th>Delhi Daredevils</th>\n",
              "      <td>89</td>\n",
              "    </tr>\n",
              "    <tr>\n",
              "      <th>Mumbai Indians</th>\n",
              "      <td>86</td>\n",
              "    </tr>\n",
              "    <tr>\n",
              "      <th>Kings XI Punjab</th>\n",
              "      <td>85</td>\n",
              "    </tr>\n",
              "    <tr>\n",
              "      <th>Rajasthan Royals</th>\n",
              "      <td>80</td>\n",
              "    </tr>\n",
              "    <tr>\n",
              "      <th>Chennai Super Kings</th>\n",
              "      <td>75</td>\n",
              "    </tr>\n",
              "    <tr>\n",
              "      <th>Sunrisers Hyderabad</th>\n",
              "      <td>45</td>\n",
              "    </tr>\n",
              "    <tr>\n",
              "      <th>Deccan Chargers</th>\n",
              "      <td>32</td>\n",
              "    </tr>\n",
              "    <tr>\n",
              "      <th>Pune Warriors</th>\n",
              "      <td>26</td>\n",
              "    </tr>\n",
              "    <tr>\n",
              "      <th>Gujarat Lions</th>\n",
              "      <td>16</td>\n",
              "    </tr>\n",
              "    <tr>\n",
              "      <th>Delhi Capitals</th>\n",
              "      <td>10</td>\n",
              "    </tr>\n",
              "    <tr>\n",
              "      <th>Rising Pune Supergiant</th>\n",
              "      <td>8</td>\n",
              "    </tr>\n",
              "    <tr>\n",
              "      <th>Kochi Tuskers Kerala</th>\n",
              "      <td>7</td>\n",
              "    </tr>\n",
              "  </tbody>\n",
              "</table>\n",
              "</div>"
            ],
            "text/plain": [
              "                             away_matches\n",
              "team                                     \n",
              "Kolkata Knight Riders                  95\n",
              "Royal Challengers Bangalore            95\n",
              "Delhi Daredevils                       89\n",
              "Mumbai Indians                         86\n",
              "Kings XI Punjab                        85\n",
              "Rajasthan Royals                       80\n",
              "Chennai Super Kings                    75\n",
              "Sunrisers Hyderabad                    45\n",
              "Deccan Chargers                        32\n",
              "Pune Warriors                          26\n",
              "Gujarat Lions                          16\n",
              "Delhi Capitals                         10\n",
              "Rising Pune Supergiant                  8\n",
              "Kochi Tuskers Kerala                    7"
            ]
          },
          "metadata": {
            "tags": []
          },
          "execution_count": 83
        }
      ]
    }
  ]
}